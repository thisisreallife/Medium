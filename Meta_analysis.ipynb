{
  "nbformat": 4,
  "nbformat_minor": 0,
  "metadata": {
    "colab": {
      "name": "Meta-analysis.ipynb",
      "provenance": [],
      "toc_visible": true,
      "authorship_tag": "ABX9TyM6bxM6cK6W244Wls4k/x1W",
      "include_colab_link": true
    },
    "kernelspec": {
      "name": "python3",
      "display_name": "Python 3"
    },
    "language_info": {
      "name": "python"
    },
    "widgets": {
      "application/vnd.jupyter.widget-state+json": {
        "7336f716f967412ebfeee40d6c9856c9": {
          "model_module": "@jupyter-widgets/controls",
          "model_name": "HBoxModel",
          "model_module_version": "1.5.0",
          "state": {
            "_view_name": "HBoxView",
            "_dom_classes": [],
            "_model_name": "HBoxModel",
            "_view_module": "@jupyter-widgets/controls",
            "_model_module_version": "1.5.0",
            "_view_count": null,
            "_view_module_version": "1.5.0",
            "box_style": "",
            "layout": "IPY_MODEL_aad9e8881ab54e6ea2691a31d65a6cd5",
            "_model_module": "@jupyter-widgets/controls",
            "children": [
              "IPY_MODEL_44fb4fe0f9d04b208193bef14341c93f",
              "IPY_MODEL_c055d361df534e72961606faaf0c26d2",
              "IPY_MODEL_f8219051eafd4e8792e6eef2950366d8"
            ]
          }
        },
        "aad9e8881ab54e6ea2691a31d65a6cd5": {
          "model_module": "@jupyter-widgets/base",
          "model_name": "LayoutModel",
          "model_module_version": "1.2.0",
          "state": {
            "_view_name": "LayoutView",
            "grid_template_rows": null,
            "right": null,
            "justify_content": null,
            "_view_module": "@jupyter-widgets/base",
            "overflow": null,
            "_model_module_version": "1.2.0",
            "_view_count": null,
            "flex_flow": null,
            "width": null,
            "min_width": null,
            "border": null,
            "align_items": null,
            "bottom": null,
            "_model_module": "@jupyter-widgets/base",
            "top": null,
            "grid_column": null,
            "overflow_y": null,
            "overflow_x": null,
            "grid_auto_flow": null,
            "grid_area": null,
            "grid_template_columns": null,
            "flex": null,
            "_model_name": "LayoutModel",
            "justify_items": null,
            "grid_row": null,
            "max_height": null,
            "align_content": null,
            "visibility": null,
            "align_self": null,
            "height": null,
            "min_height": null,
            "padding": null,
            "grid_auto_rows": null,
            "grid_gap": null,
            "max_width": null,
            "order": null,
            "_view_module_version": "1.2.0",
            "grid_template_areas": null,
            "object_position": null,
            "object_fit": null,
            "grid_auto_columns": null,
            "margin": null,
            "display": null,
            "left": null
          }
        },
        "44fb4fe0f9d04b208193bef14341c93f": {
          "model_module": "@jupyter-widgets/controls",
          "model_name": "HTMLModel",
          "model_module_version": "1.5.0",
          "state": {
            "_view_name": "HTMLView",
            "style": "IPY_MODEL_f96200f66a514391b9e49778e2c09eba",
            "_dom_classes": [],
            "description": "",
            "_model_name": "HTMLModel",
            "placeholder": "​",
            "_view_module": "@jupyter-widgets/controls",
            "_model_module_version": "1.5.0",
            "value": "100%",
            "_view_count": null,
            "_view_module_version": "1.5.0",
            "description_tooltip": null,
            "_model_module": "@jupyter-widgets/controls",
            "layout": "IPY_MODEL_20f1833431024cdca88fcab4851b9103"
          }
        },
        "c055d361df534e72961606faaf0c26d2": {
          "model_module": "@jupyter-widgets/controls",
          "model_name": "FloatProgressModel",
          "model_module_version": "1.5.0",
          "state": {
            "_view_name": "ProgressView",
            "style": "IPY_MODEL_41663930d99146b89ac248e4bec40988",
            "_dom_classes": [],
            "description": "",
            "_model_name": "FloatProgressModel",
            "bar_style": "success",
            "max": 100,
            "_view_module": "@jupyter-widgets/controls",
            "_model_module_version": "1.5.0",
            "value": 100,
            "_view_count": null,
            "_view_module_version": "1.5.0",
            "orientation": "horizontal",
            "min": 0,
            "description_tooltip": null,
            "_model_module": "@jupyter-widgets/controls",
            "layout": "IPY_MODEL_60495d003dc54d0299b2d1be3bcb7fc0"
          }
        },
        "f8219051eafd4e8792e6eef2950366d8": {
          "model_module": "@jupyter-widgets/controls",
          "model_name": "HTMLModel",
          "model_module_version": "1.5.0",
          "state": {
            "_view_name": "HTMLView",
            "style": "IPY_MODEL_c2035cd685154e3d87bb27ee9d4aac9d",
            "_dom_classes": [],
            "description": "",
            "_model_name": "HTMLModel",
            "placeholder": "​",
            "_view_module": "@jupyter-widgets/controls",
            "_model_module_version": "1.5.0",
            "value": " 100/100 [00:00&lt;00:00,  9.56it/s]",
            "_view_count": null,
            "_view_module_version": "1.5.0",
            "description_tooltip": null,
            "_model_module": "@jupyter-widgets/controls",
            "layout": "IPY_MODEL_55414325e4564cec825cc0e633535ea9"
          }
        },
        "f96200f66a514391b9e49778e2c09eba": {
          "model_module": "@jupyter-widgets/controls",
          "model_name": "DescriptionStyleModel",
          "model_module_version": "1.5.0",
          "state": {
            "_view_name": "StyleView",
            "_model_name": "DescriptionStyleModel",
            "description_width": "",
            "_view_module": "@jupyter-widgets/base",
            "_model_module_version": "1.5.0",
            "_view_count": null,
            "_view_module_version": "1.2.0",
            "_model_module": "@jupyter-widgets/controls"
          }
        },
        "20f1833431024cdca88fcab4851b9103": {
          "model_module": "@jupyter-widgets/base",
          "model_name": "LayoutModel",
          "model_module_version": "1.2.0",
          "state": {
            "_view_name": "LayoutView",
            "grid_template_rows": null,
            "right": null,
            "justify_content": null,
            "_view_module": "@jupyter-widgets/base",
            "overflow": null,
            "_model_module_version": "1.2.0",
            "_view_count": null,
            "flex_flow": null,
            "width": null,
            "min_width": null,
            "border": null,
            "align_items": null,
            "bottom": null,
            "_model_module": "@jupyter-widgets/base",
            "top": null,
            "grid_column": null,
            "overflow_y": null,
            "overflow_x": null,
            "grid_auto_flow": null,
            "grid_area": null,
            "grid_template_columns": null,
            "flex": null,
            "_model_name": "LayoutModel",
            "justify_items": null,
            "grid_row": null,
            "max_height": null,
            "align_content": null,
            "visibility": null,
            "align_self": null,
            "height": null,
            "min_height": null,
            "padding": null,
            "grid_auto_rows": null,
            "grid_gap": null,
            "max_width": null,
            "order": null,
            "_view_module_version": "1.2.0",
            "grid_template_areas": null,
            "object_position": null,
            "object_fit": null,
            "grid_auto_columns": null,
            "margin": null,
            "display": null,
            "left": null
          }
        },
        "41663930d99146b89ac248e4bec40988": {
          "model_module": "@jupyter-widgets/controls",
          "model_name": "ProgressStyleModel",
          "model_module_version": "1.5.0",
          "state": {
            "_view_name": "StyleView",
            "_model_name": "ProgressStyleModel",
            "description_width": "",
            "_view_module": "@jupyter-widgets/base",
            "_model_module_version": "1.5.0",
            "_view_count": null,
            "_view_module_version": "1.2.0",
            "bar_color": null,
            "_model_module": "@jupyter-widgets/controls"
          }
        },
        "60495d003dc54d0299b2d1be3bcb7fc0": {
          "model_module": "@jupyter-widgets/base",
          "model_name": "LayoutModel",
          "model_module_version": "1.2.0",
          "state": {
            "_view_name": "LayoutView",
            "grid_template_rows": null,
            "right": null,
            "justify_content": null,
            "_view_module": "@jupyter-widgets/base",
            "overflow": null,
            "_model_module_version": "1.2.0",
            "_view_count": null,
            "flex_flow": null,
            "width": null,
            "min_width": null,
            "border": null,
            "align_items": null,
            "bottom": null,
            "_model_module": "@jupyter-widgets/base",
            "top": null,
            "grid_column": null,
            "overflow_y": null,
            "overflow_x": null,
            "grid_auto_flow": null,
            "grid_area": null,
            "grid_template_columns": null,
            "flex": null,
            "_model_name": "LayoutModel",
            "justify_items": null,
            "grid_row": null,
            "max_height": null,
            "align_content": null,
            "visibility": null,
            "align_self": null,
            "height": null,
            "min_height": null,
            "padding": null,
            "grid_auto_rows": null,
            "grid_gap": null,
            "max_width": null,
            "order": null,
            "_view_module_version": "1.2.0",
            "grid_template_areas": null,
            "object_position": null,
            "object_fit": null,
            "grid_auto_columns": null,
            "margin": null,
            "display": null,
            "left": null
          }
        },
        "c2035cd685154e3d87bb27ee9d4aac9d": {
          "model_module": "@jupyter-widgets/controls",
          "model_name": "DescriptionStyleModel",
          "model_module_version": "1.5.0",
          "state": {
            "_view_name": "StyleView",
            "_model_name": "DescriptionStyleModel",
            "description_width": "",
            "_view_module": "@jupyter-widgets/base",
            "_model_module_version": "1.5.0",
            "_view_count": null,
            "_view_module_version": "1.2.0",
            "_model_module": "@jupyter-widgets/controls"
          }
        },
        "55414325e4564cec825cc0e633535ea9": {
          "model_module": "@jupyter-widgets/base",
          "model_name": "LayoutModel",
          "model_module_version": "1.2.0",
          "state": {
            "_view_name": "LayoutView",
            "grid_template_rows": null,
            "right": null,
            "justify_content": null,
            "_view_module": "@jupyter-widgets/base",
            "overflow": null,
            "_model_module_version": "1.2.0",
            "_view_count": null,
            "flex_flow": null,
            "width": null,
            "min_width": null,
            "border": null,
            "align_items": null,
            "bottom": null,
            "_model_module": "@jupyter-widgets/base",
            "top": null,
            "grid_column": null,
            "overflow_y": null,
            "overflow_x": null,
            "grid_auto_flow": null,
            "grid_area": null,
            "grid_template_columns": null,
            "flex": null,
            "_model_name": "LayoutModel",
            "justify_items": null,
            "grid_row": null,
            "max_height": null,
            "align_content": null,
            "visibility": null,
            "align_self": null,
            "height": null,
            "min_height": null,
            "padding": null,
            "grid_auto_rows": null,
            "grid_gap": null,
            "max_width": null,
            "order": null,
            "_view_module_version": "1.2.0",
            "grid_template_areas": null,
            "object_position": null,
            "object_fit": null,
            "grid_auto_columns": null,
            "margin": null,
            "display": null,
            "left": null
          }
        },
        "599d298e2e5a4cf38330108e56543953": {
          "model_module": "@jupyter-widgets/controls",
          "model_name": "HBoxModel",
          "model_module_version": "1.5.0",
          "state": {
            "_view_name": "HBoxView",
            "_dom_classes": [],
            "_model_name": "HBoxModel",
            "_view_module": "@jupyter-widgets/controls",
            "_model_module_version": "1.5.0",
            "_view_count": null,
            "_view_module_version": "1.5.0",
            "box_style": "",
            "layout": "IPY_MODEL_02eee5d0c850435b8f77d01d62e16021",
            "_model_module": "@jupyter-widgets/controls",
            "children": [
              "IPY_MODEL_8bb6949c61564a1b80a4f5d35e2bf86b",
              "IPY_MODEL_3f49f8def7984973acaf4f96b33348aa",
              "IPY_MODEL_cf5a0a4058fe4a74bcaa0797b43ba5db"
            ]
          }
        },
        "02eee5d0c850435b8f77d01d62e16021": {
          "model_module": "@jupyter-widgets/base",
          "model_name": "LayoutModel",
          "model_module_version": "1.2.0",
          "state": {
            "_view_name": "LayoutView",
            "grid_template_rows": null,
            "right": null,
            "justify_content": null,
            "_view_module": "@jupyter-widgets/base",
            "overflow": null,
            "_model_module_version": "1.2.0",
            "_view_count": null,
            "flex_flow": null,
            "width": null,
            "min_width": null,
            "border": null,
            "align_items": null,
            "bottom": null,
            "_model_module": "@jupyter-widgets/base",
            "top": null,
            "grid_column": null,
            "overflow_y": null,
            "overflow_x": null,
            "grid_auto_flow": null,
            "grid_area": null,
            "grid_template_columns": null,
            "flex": null,
            "_model_name": "LayoutModel",
            "justify_items": null,
            "grid_row": null,
            "max_height": null,
            "align_content": null,
            "visibility": null,
            "align_self": null,
            "height": null,
            "min_height": null,
            "padding": null,
            "grid_auto_rows": null,
            "grid_gap": null,
            "max_width": null,
            "order": null,
            "_view_module_version": "1.2.0",
            "grid_template_areas": null,
            "object_position": null,
            "object_fit": null,
            "grid_auto_columns": null,
            "margin": null,
            "display": null,
            "left": null
          }
        },
        "8bb6949c61564a1b80a4f5d35e2bf86b": {
          "model_module": "@jupyter-widgets/controls",
          "model_name": "HTMLModel",
          "model_module_version": "1.5.0",
          "state": {
            "_view_name": "HTMLView",
            "style": "IPY_MODEL_e3586d16232b4cb4be424254b63725a0",
            "_dom_classes": [],
            "description": "",
            "_model_name": "HTMLModel",
            "placeholder": "​",
            "_view_module": "@jupyter-widgets/controls",
            "_model_module_version": "1.5.0",
            "value": "100%",
            "_view_count": null,
            "_view_module_version": "1.5.0",
            "description_tooltip": null,
            "_model_module": "@jupyter-widgets/controls",
            "layout": "IPY_MODEL_7c83b1150319436f9cadc0374115980e"
          }
        },
        "3f49f8def7984973acaf4f96b33348aa": {
          "model_module": "@jupyter-widgets/controls",
          "model_name": "FloatProgressModel",
          "model_module_version": "1.5.0",
          "state": {
            "_view_name": "ProgressView",
            "style": "IPY_MODEL_fc9357c670114ca58cea3d84838a8df0",
            "_dom_classes": [],
            "description": "",
            "_model_name": "FloatProgressModel",
            "bar_style": "success",
            "max": 9,
            "_view_module": "@jupyter-widgets/controls",
            "_model_module_version": "1.5.0",
            "value": 9,
            "_view_count": null,
            "_view_module_version": "1.5.0",
            "orientation": "horizontal",
            "min": 0,
            "description_tooltip": null,
            "_model_module": "@jupyter-widgets/controls",
            "layout": "IPY_MODEL_3d383c4a7bb34b4bb37ef521266968ea"
          }
        },
        "cf5a0a4058fe4a74bcaa0797b43ba5db": {
          "model_module": "@jupyter-widgets/controls",
          "model_name": "HTMLModel",
          "model_module_version": "1.5.0",
          "state": {
            "_view_name": "HTMLView",
            "style": "IPY_MODEL_7adca522b84e4d60a92bd4d5f4d86bd9",
            "_dom_classes": [],
            "description": "",
            "_model_name": "HTMLModel",
            "placeholder": "​",
            "_view_module": "@jupyter-widgets/controls",
            "_model_module_version": "1.5.0",
            "value": " 9/9 [09:54&lt;00:00, 62.00s/it]",
            "_view_count": null,
            "_view_module_version": "1.5.0",
            "description_tooltip": null,
            "_model_module": "@jupyter-widgets/controls",
            "layout": "IPY_MODEL_96e6e7170c224d4192ab944c2f0f82bc"
          }
        },
        "e3586d16232b4cb4be424254b63725a0": {
          "model_module": "@jupyter-widgets/controls",
          "model_name": "DescriptionStyleModel",
          "model_module_version": "1.5.0",
          "state": {
            "_view_name": "StyleView",
            "_model_name": "DescriptionStyleModel",
            "description_width": "",
            "_view_module": "@jupyter-widgets/base",
            "_model_module_version": "1.5.0",
            "_view_count": null,
            "_view_module_version": "1.2.0",
            "_model_module": "@jupyter-widgets/controls"
          }
        },
        "7c83b1150319436f9cadc0374115980e": {
          "model_module": "@jupyter-widgets/base",
          "model_name": "LayoutModel",
          "model_module_version": "1.2.0",
          "state": {
            "_view_name": "LayoutView",
            "grid_template_rows": null,
            "right": null,
            "justify_content": null,
            "_view_module": "@jupyter-widgets/base",
            "overflow": null,
            "_model_module_version": "1.2.0",
            "_view_count": null,
            "flex_flow": null,
            "width": null,
            "min_width": null,
            "border": null,
            "align_items": null,
            "bottom": null,
            "_model_module": "@jupyter-widgets/base",
            "top": null,
            "grid_column": null,
            "overflow_y": null,
            "overflow_x": null,
            "grid_auto_flow": null,
            "grid_area": null,
            "grid_template_columns": null,
            "flex": null,
            "_model_name": "LayoutModel",
            "justify_items": null,
            "grid_row": null,
            "max_height": null,
            "align_content": null,
            "visibility": null,
            "align_self": null,
            "height": null,
            "min_height": null,
            "padding": null,
            "grid_auto_rows": null,
            "grid_gap": null,
            "max_width": null,
            "order": null,
            "_view_module_version": "1.2.0",
            "grid_template_areas": null,
            "object_position": null,
            "object_fit": null,
            "grid_auto_columns": null,
            "margin": null,
            "display": null,
            "left": null
          }
        },
        "fc9357c670114ca58cea3d84838a8df0": {
          "model_module": "@jupyter-widgets/controls",
          "model_name": "ProgressStyleModel",
          "model_module_version": "1.5.0",
          "state": {
            "_view_name": "StyleView",
            "_model_name": "ProgressStyleModel",
            "description_width": "",
            "_view_module": "@jupyter-widgets/base",
            "_model_module_version": "1.5.0",
            "_view_count": null,
            "_view_module_version": "1.2.0",
            "bar_color": null,
            "_model_module": "@jupyter-widgets/controls"
          }
        },
        "3d383c4a7bb34b4bb37ef521266968ea": {
          "model_module": "@jupyter-widgets/base",
          "model_name": "LayoutModel",
          "model_module_version": "1.2.0",
          "state": {
            "_view_name": "LayoutView",
            "grid_template_rows": null,
            "right": null,
            "justify_content": null,
            "_view_module": "@jupyter-widgets/base",
            "overflow": null,
            "_model_module_version": "1.2.0",
            "_view_count": null,
            "flex_flow": null,
            "width": null,
            "min_width": null,
            "border": null,
            "align_items": null,
            "bottom": null,
            "_model_module": "@jupyter-widgets/base",
            "top": null,
            "grid_column": null,
            "overflow_y": null,
            "overflow_x": null,
            "grid_auto_flow": null,
            "grid_area": null,
            "grid_template_columns": null,
            "flex": null,
            "_model_name": "LayoutModel",
            "justify_items": null,
            "grid_row": null,
            "max_height": null,
            "align_content": null,
            "visibility": null,
            "align_self": null,
            "height": null,
            "min_height": null,
            "padding": null,
            "grid_auto_rows": null,
            "grid_gap": null,
            "max_width": null,
            "order": null,
            "_view_module_version": "1.2.0",
            "grid_template_areas": null,
            "object_position": null,
            "object_fit": null,
            "grid_auto_columns": null,
            "margin": null,
            "display": null,
            "left": null
          }
        },
        "7adca522b84e4d60a92bd4d5f4d86bd9": {
          "model_module": "@jupyter-widgets/controls",
          "model_name": "DescriptionStyleModel",
          "model_module_version": "1.5.0",
          "state": {
            "_view_name": "StyleView",
            "_model_name": "DescriptionStyleModel",
            "description_width": "",
            "_view_module": "@jupyter-widgets/base",
            "_model_module_version": "1.5.0",
            "_view_count": null,
            "_view_module_version": "1.2.0",
            "_model_module": "@jupyter-widgets/controls"
          }
        },
        "96e6e7170c224d4192ab944c2f0f82bc": {
          "model_module": "@jupyter-widgets/base",
          "model_name": "LayoutModel",
          "model_module_version": "1.2.0",
          "state": {
            "_view_name": "LayoutView",
            "grid_template_rows": null,
            "right": null,
            "justify_content": null,
            "_view_module": "@jupyter-widgets/base",
            "overflow": null,
            "_model_module_version": "1.2.0",
            "_view_count": null,
            "flex_flow": null,
            "width": null,
            "min_width": null,
            "border": null,
            "align_items": null,
            "bottom": null,
            "_model_module": "@jupyter-widgets/base",
            "top": null,
            "grid_column": null,
            "overflow_y": null,
            "overflow_x": null,
            "grid_auto_flow": null,
            "grid_area": null,
            "grid_template_columns": null,
            "flex": null,
            "_model_name": "LayoutModel",
            "justify_items": null,
            "grid_row": null,
            "max_height": null,
            "align_content": null,
            "visibility": null,
            "align_self": null,
            "height": null,
            "min_height": null,
            "padding": null,
            "grid_auto_rows": null,
            "grid_gap": null,
            "max_width": null,
            "order": null,
            "_view_module_version": "1.2.0",
            "grid_template_areas": null,
            "object_position": null,
            "object_fit": null,
            "grid_auto_columns": null,
            "margin": null,
            "display": null,
            "left": null
          }
        },
        "829e7bd226ad4e448590722d0a8e8752": {
          "model_module": "@jupyter-widgets/controls",
          "model_name": "HBoxModel",
          "model_module_version": "1.5.0",
          "state": {
            "_view_name": "HBoxView",
            "_dom_classes": [],
            "_model_name": "HBoxModel",
            "_view_module": "@jupyter-widgets/controls",
            "_model_module_version": "1.5.0",
            "_view_count": null,
            "_view_module_version": "1.5.0",
            "box_style": "",
            "layout": "IPY_MODEL_f2896ade84754bcbbfcedbd12e4a7bbe",
            "_model_module": "@jupyter-widgets/controls",
            "children": [
              "IPY_MODEL_4a4923cc54ef415db178809377edad7e",
              "IPY_MODEL_1b2b0033ee2643bdb0cd535a667a6928",
              "IPY_MODEL_f09e46821e6f449685b58eb262ca0382"
            ]
          }
        },
        "f2896ade84754bcbbfcedbd12e4a7bbe": {
          "model_module": "@jupyter-widgets/base",
          "model_name": "LayoutModel",
          "model_module_version": "1.2.0",
          "state": {
            "_view_name": "LayoutView",
            "grid_template_rows": null,
            "right": null,
            "justify_content": null,
            "_view_module": "@jupyter-widgets/base",
            "overflow": null,
            "_model_module_version": "1.2.0",
            "_view_count": null,
            "flex_flow": null,
            "width": null,
            "min_width": null,
            "border": null,
            "align_items": null,
            "bottom": null,
            "_model_module": "@jupyter-widgets/base",
            "top": null,
            "grid_column": null,
            "overflow_y": null,
            "overflow_x": null,
            "grid_auto_flow": null,
            "grid_area": null,
            "grid_template_columns": null,
            "flex": null,
            "_model_name": "LayoutModel",
            "justify_items": null,
            "grid_row": null,
            "max_height": null,
            "align_content": null,
            "visibility": null,
            "align_self": null,
            "height": null,
            "min_height": null,
            "padding": null,
            "grid_auto_rows": null,
            "grid_gap": null,
            "max_width": null,
            "order": null,
            "_view_module_version": "1.2.0",
            "grid_template_areas": null,
            "object_position": null,
            "object_fit": null,
            "grid_auto_columns": null,
            "margin": null,
            "display": null,
            "left": null
          }
        },
        "4a4923cc54ef415db178809377edad7e": {
          "model_module": "@jupyter-widgets/controls",
          "model_name": "HTMLModel",
          "model_module_version": "1.5.0",
          "state": {
            "_view_name": "HTMLView",
            "style": "IPY_MODEL_1328fe08b4a541a8ab7e6882a4f24cf7",
            "_dom_classes": [],
            "description": "",
            "_model_name": "HTMLModel",
            "placeholder": "​",
            "_view_module": "@jupyter-widgets/controls",
            "_model_module_version": "1.5.0",
            "value": "100%",
            "_view_count": null,
            "_view_module_version": "1.5.0",
            "description_tooltip": null,
            "_model_module": "@jupyter-widgets/controls",
            "layout": "IPY_MODEL_f5818ff512e543fea233086481a0e07f"
          }
        },
        "1b2b0033ee2643bdb0cd535a667a6928": {
          "model_module": "@jupyter-widgets/controls",
          "model_name": "FloatProgressModel",
          "model_module_version": "1.5.0",
          "state": {
            "_view_name": "ProgressView",
            "style": "IPY_MODEL_08edd278dfa84e6490daf860fe734174",
            "_dom_classes": [],
            "description": "",
            "_model_name": "FloatProgressModel",
            "bar_style": "success",
            "max": 171,
            "_view_module": "@jupyter-widgets/controls",
            "_model_module_version": "1.5.0",
            "value": 171,
            "_view_count": null,
            "_view_module_version": "1.5.0",
            "orientation": "horizontal",
            "min": 0,
            "description_tooltip": null,
            "_model_module": "@jupyter-widgets/controls",
            "layout": "IPY_MODEL_19e179e52ae84d9db292dc8090ec0ac1"
          }
        },
        "f09e46821e6f449685b58eb262ca0382": {
          "model_module": "@jupyter-widgets/controls",
          "model_name": "HTMLModel",
          "model_module_version": "1.5.0",
          "state": {
            "_view_name": "HTMLView",
            "style": "IPY_MODEL_444a06198e70453498f78e0731bca61c",
            "_dom_classes": [],
            "description": "",
            "_model_name": "HTMLModel",
            "placeholder": "​",
            "_view_module": "@jupyter-widgets/controls",
            "_model_module_version": "1.5.0",
            "value": " 171/171 [05:34&lt;00:00,  1.34it/s]",
            "_view_count": null,
            "_view_module_version": "1.5.0",
            "description_tooltip": null,
            "_model_module": "@jupyter-widgets/controls",
            "layout": "IPY_MODEL_277553ebd2184530948d6c1996ef750b"
          }
        },
        "1328fe08b4a541a8ab7e6882a4f24cf7": {
          "model_module": "@jupyter-widgets/controls",
          "model_name": "DescriptionStyleModel",
          "model_module_version": "1.5.0",
          "state": {
            "_view_name": "StyleView",
            "_model_name": "DescriptionStyleModel",
            "description_width": "",
            "_view_module": "@jupyter-widgets/base",
            "_model_module_version": "1.5.0",
            "_view_count": null,
            "_view_module_version": "1.2.0",
            "_model_module": "@jupyter-widgets/controls"
          }
        },
        "f5818ff512e543fea233086481a0e07f": {
          "model_module": "@jupyter-widgets/base",
          "model_name": "LayoutModel",
          "model_module_version": "1.2.0",
          "state": {
            "_view_name": "LayoutView",
            "grid_template_rows": null,
            "right": null,
            "justify_content": null,
            "_view_module": "@jupyter-widgets/base",
            "overflow": null,
            "_model_module_version": "1.2.0",
            "_view_count": null,
            "flex_flow": null,
            "width": null,
            "min_width": null,
            "border": null,
            "align_items": null,
            "bottom": null,
            "_model_module": "@jupyter-widgets/base",
            "top": null,
            "grid_column": null,
            "overflow_y": null,
            "overflow_x": null,
            "grid_auto_flow": null,
            "grid_area": null,
            "grid_template_columns": null,
            "flex": null,
            "_model_name": "LayoutModel",
            "justify_items": null,
            "grid_row": null,
            "max_height": null,
            "align_content": null,
            "visibility": null,
            "align_self": null,
            "height": null,
            "min_height": null,
            "padding": null,
            "grid_auto_rows": null,
            "grid_gap": null,
            "max_width": null,
            "order": null,
            "_view_module_version": "1.2.0",
            "grid_template_areas": null,
            "object_position": null,
            "object_fit": null,
            "grid_auto_columns": null,
            "margin": null,
            "display": null,
            "left": null
          }
        },
        "08edd278dfa84e6490daf860fe734174": {
          "model_module": "@jupyter-widgets/controls",
          "model_name": "ProgressStyleModel",
          "model_module_version": "1.5.0",
          "state": {
            "_view_name": "StyleView",
            "_model_name": "ProgressStyleModel",
            "description_width": "",
            "_view_module": "@jupyter-widgets/base",
            "_model_module_version": "1.5.0",
            "_view_count": null,
            "_view_module_version": "1.2.0",
            "bar_color": null,
            "_model_module": "@jupyter-widgets/controls"
          }
        },
        "19e179e52ae84d9db292dc8090ec0ac1": {
          "model_module": "@jupyter-widgets/base",
          "model_name": "LayoutModel",
          "model_module_version": "1.2.0",
          "state": {
            "_view_name": "LayoutView",
            "grid_template_rows": null,
            "right": null,
            "justify_content": null,
            "_view_module": "@jupyter-widgets/base",
            "overflow": null,
            "_model_module_version": "1.2.0",
            "_view_count": null,
            "flex_flow": null,
            "width": null,
            "min_width": null,
            "border": null,
            "align_items": null,
            "bottom": null,
            "_model_module": "@jupyter-widgets/base",
            "top": null,
            "grid_column": null,
            "overflow_y": null,
            "overflow_x": null,
            "grid_auto_flow": null,
            "grid_area": null,
            "grid_template_columns": null,
            "flex": null,
            "_model_name": "LayoutModel",
            "justify_items": null,
            "grid_row": null,
            "max_height": null,
            "align_content": null,
            "visibility": null,
            "align_self": null,
            "height": null,
            "min_height": null,
            "padding": null,
            "grid_auto_rows": null,
            "grid_gap": null,
            "max_width": null,
            "order": null,
            "_view_module_version": "1.2.0",
            "grid_template_areas": null,
            "object_position": null,
            "object_fit": null,
            "grid_auto_columns": null,
            "margin": null,
            "display": null,
            "left": null
          }
        },
        "444a06198e70453498f78e0731bca61c": {
          "model_module": "@jupyter-widgets/controls",
          "model_name": "DescriptionStyleModel",
          "model_module_version": "1.5.0",
          "state": {
            "_view_name": "StyleView",
            "_model_name": "DescriptionStyleModel",
            "description_width": "",
            "_view_module": "@jupyter-widgets/base",
            "_model_module_version": "1.5.0",
            "_view_count": null,
            "_view_module_version": "1.2.0",
            "_model_module": "@jupyter-widgets/controls"
          }
        },
        "277553ebd2184530948d6c1996ef750b": {
          "model_module": "@jupyter-widgets/base",
          "model_name": "LayoutModel",
          "model_module_version": "1.2.0",
          "state": {
            "_view_name": "LayoutView",
            "grid_template_rows": null,
            "right": null,
            "justify_content": null,
            "_view_module": "@jupyter-widgets/base",
            "overflow": null,
            "_model_module_version": "1.2.0",
            "_view_count": null,
            "flex_flow": null,
            "width": null,
            "min_width": null,
            "border": null,
            "align_items": null,
            "bottom": null,
            "_model_module": "@jupyter-widgets/base",
            "top": null,
            "grid_column": null,
            "overflow_y": null,
            "overflow_x": null,
            "grid_auto_flow": null,
            "grid_area": null,
            "grid_template_columns": null,
            "flex": null,
            "_model_name": "LayoutModel",
            "justify_items": null,
            "grid_row": null,
            "max_height": null,
            "align_content": null,
            "visibility": null,
            "align_self": null,
            "height": null,
            "min_height": null,
            "padding": null,
            "grid_auto_rows": null,
            "grid_gap": null,
            "max_width": null,
            "order": null,
            "_view_module_version": "1.2.0",
            "grid_template_areas": null,
            "object_position": null,
            "object_fit": null,
            "grid_auto_columns": null,
            "margin": null,
            "display": null,
            "left": null
          }
        }
      }
    }
  },
  "cells": [
    {
      "cell_type": "markdown",
      "metadata": {
        "id": "view-in-github",
        "colab_type": "text"
      },
      "source": [
        "<a href=\"https://colab.research.google.com/github/thisisreallife/Medium/blob/master/Meta_analysis.ipynb\" target=\"_parent\"><img src=\"https://colab.research.google.com/assets/colab-badge.svg\" alt=\"Open In Colab\"/></a>"
      ]
    },
    {
      "cell_type": "markdown",
      "source": [
        "# Preparation "
      ],
      "metadata": {
        "id": "hs7q3XyF6q_k"
      }
    },
    {
      "cell_type": "code",
      "execution_count": 1,
      "metadata": {
        "colab": {
          "base_uri": "https://localhost:8080/"
        },
        "id": "UNNoQuDfUyto",
        "outputId": "e3d1f516-3027-42e8-dc58-3ad7ef28d58d"
      },
      "outputs": [
        {
          "output_type": "stream",
          "name": "stderr",
          "text": [
            "/usr/local/lib/python3.7/dist-packages/statsmodels/tools/_testing.py:19: FutureWarning: pandas.util.testing is deprecated. Use the functions in the public API at pandas.testing instead.\n",
            "  import pandas.util.testing as tm\n"
          ]
        }
      ],
      "source": [
        "%reset -f\n",
        "import numpy as np\n",
        "import scipy.stats as stats\n",
        "import tqdm.notebook as tqdm\n",
        "import matplotlib.pyplot as plt\n",
        "from statsmodels.stats.power import TTestIndPower\n",
        "import pandas as pd\n",
        "from itertools import product\n",
        "from multiprocessing import Pool\n",
        "\n",
        "def unpack_args(func):\n",
        "    from functools import wraps\n",
        "    @wraps(func)\n",
        "    def wrapper(args):\n",
        "        if isinstance(args, dict):\n",
        "            return func(**args)\n",
        "        else:\n",
        "            return func(*args)\n",
        "    return wrapper"
      ]
    },
    {
      "cell_type": "markdown",
      "source": [
        "Source:\n",
        "1. [Power Analysis in Python](https://machinelearningmastery.com/statistical-power-and-power-analysis-in-python/)\n",
        "2. [scipy.stats.combine_pvalues](https://docs.scipy.org/doc/scipy/reference/generated/scipy.stats.combine_pvalues.html)"
      ],
      "metadata": {
        "id": "T4RFRsOW6pYX"
      }
    },
    {
      "cell_type": "code",
      "source": [
        "# generate data for independent ttests\n",
        "results = []\n",
        "for i in tqdm.tqdm(range(100)):\n",
        "    data0 = stats.norm.rvs(0,1,1000)\n",
        "    data1 = stats.norm.rvs(0.00,1,1000)\n",
        "    results.append(stats.ttest_ind(data0, data1))\n",
        "z_scores = np.array([i for i,j in results])\n",
        "p_values = np.array([j for i,j in results])"
      ],
      "metadata": {
        "colab": {
          "base_uri": "https://localhost:8080/",
          "height": 49,
          "referenced_widgets": [
            "7336f716f967412ebfeee40d6c9856c9",
            "aad9e8881ab54e6ea2691a31d65a6cd5",
            "44fb4fe0f9d04b208193bef14341c93f",
            "c055d361df534e72961606faaf0c26d2",
            "f8219051eafd4e8792e6eef2950366d8",
            "f96200f66a514391b9e49778e2c09eba",
            "20f1833431024cdca88fcab4851b9103",
            "41663930d99146b89ac248e4bec40988",
            "60495d003dc54d0299b2d1be3bcb7fc0",
            "c2035cd685154e3d87bb27ee9d4aac9d",
            "55414325e4564cec825cc0e633535ea9"
          ]
        },
        "id": "20-Aldqs6w2s",
        "outputId": "b6fc6632-4f7d-4a46-83df-c077f98f3fcc"
      },
      "execution_count": 4,
      "outputs": [
        {
          "output_type": "display_data",
          "data": {
            "application/vnd.jupyter.widget-view+json": {
              "model_id": "7336f716f967412ebfeee40d6c9856c9",
              "version_minor": 0,
              "version_major": 2
            },
            "text/plain": [
              "  0%|          | 0/100 [00:00<?, ?it/s]"
            ]
          },
          "metadata": {}
        }
      ]
    },
    {
      "cell_type": "markdown",
      "source": [
        "# Fisher/Stouffer methods from scratch"
      ],
      "metadata": {
        "id": "XGS7P-7I6zqz"
      }
    },
    {
      "cell_type": "markdown",
      "source": [
        "Fisher Mehtod"
      ],
      "metadata": {
        "id": "l6QWcwTB617K"
      }
    },
    {
      "cell_type": "code",
      "source": [
        "def FisherMethod(x):\n",
        "    \"\"\"\n",
        "    x is a list of p_values \n",
        "    \"\"\"\n",
        "    test_stats = -np.log(x).sum()*2\n",
        "    k  = len(x)\n",
        "    res = 1-stats.chi2.cdf(test_stats, df = 2*k)\n",
        "    return k, test_stats, res\n",
        "FisherMethod(p_values),stats.combine_pvalues(p_values)"
      ],
      "metadata": {
        "colab": {
          "base_uri": "https://localhost:8080/"
        },
        "id": "3mCC8nLr64Jy",
        "outputId": "74d02eb0-4636-4af0-edce-b4bd49877415"
      },
      "execution_count": 5,
      "outputs": [
        {
          "output_type": "execute_result",
          "data": {
            "text/plain": [
              "((100, 231.38825667970704, 0.06337804865866103),\n",
              " (231.38825667970704, 0.06337804865866103))"
            ]
          },
          "metadata": {},
          "execution_count": 5
        }
      ]
    },
    {
      "cell_type": "markdown",
      "source": [
        "Stouffer's Z-score method"
      ],
      "metadata": {
        "id": "3uWfNr9065ST"
      }
    },
    {
      "cell_type": "code",
      "source": [
        "def StoufferMethod(x):\n",
        "    \"\"\"\n",
        "    x is a list of p_values\n",
        "    \"\"\"\n",
        "    k  = len(x)\n",
        "    test_stats = - stats.norm.ppf(x).sum()/np.sqrt(k)\n",
        "    res = 1-stats.norm.cdf(test_stats) # p值很小的时候, 算出来的z-score是负数, 因此这边考虑的是单侧检验.\n",
        "    return k, test_stats, res\n",
        "\n",
        "StoufferMethod(p_values), stats.combine_pvalues(p_values, method = 'stouffer')"
      ],
      "metadata": {
        "colab": {
          "base_uri": "https://localhost:8080/"
        },
        "id": "on4RQO3N67C7",
        "outputId": "fcaccd86-7878-4ed4-fd9f-7c00ad1ed93a"
      },
      "execution_count": 6,
      "outputs": [
        {
          "output_type": "execute_result",
          "data": {
            "text/plain": [
              "((100, 1.6047652889072697, 0.05427273378442643),\n",
              " (1.6047652889072705, 0.054272733784426375))"
            ]
          },
          "metadata": {},
          "execution_count": 6
        }
      ]
    },
    {
      "cell_type": "markdown",
      "source": [
        "# Simulation\n",
        "- Definition\n",
        "    - Single t-test\n",
        "        - Alpha, Type I Error\n",
        "        - Effect Size, MDE/Std\n",
        "        - Power, 1 - Type II Error\n",
        "        - Sample Size\n",
        "    - meta analysis\n",
        "        - Number of Studies: How many p_values we use in meta-analysis\n",
        "        \n",
        "- Fix single t-test's parameters, change single t-test's power and number of studies, does meta-analysis provide greater power with more p-values? \n",
        "  \n",
        "  1. Fix effect_size = 0.05, alpha = 0.05, power = [0.1,0.2,0.3,0.4,0.5,0.6,0.7,0.8], calculate sample size for single t-test. \n",
        "  2. Based on effect size, alpha, power and sample size, generate independent p-values of t-tests\n",
        "  3. With increasing of number of studies, how will the power of meta-analysis change?\n",
        "- If we have enough sample size, which one has larger power? Meta-analysis of M p_values or one single t-test with all samples\n"
      ],
      "metadata": {
        "id": "RkG_xVFF6796"
      }
    },
    {
      "cell_type": "markdown",
      "source": [
        "## Power analysis in Python"
      ],
      "metadata": {
        "id": "d4JGosqh6-DQ"
      }
    },
    {
      "cell_type": "code",
      "source": [
        "analysis = TTestIndPower()\n",
        "# parameters for power analysis\n",
        "effect = 0.05\n",
        "alpha = 0.05\n",
        "power = 0.5\n",
        "# perform power analysis\n",
        "analysis = TTestIndPower()\n",
        "result = analysis.solve_power(effect, power=power, nobs1=None, ratio=1.0, alpha=alpha)\n",
        "print('Sample Size: %.3f' % result)"
      ],
      "metadata": {
        "colab": {
          "base_uri": "https://localhost:8080/"
        },
        "id": "R-jII5rM7KM3",
        "outputId": "466f11bb-948d-4f3d-e51c-5788852c392d"
      },
      "execution_count": 7,
      "outputs": [
        {
          "output_type": "stream",
          "name": "stdout",
          "text": [
            "Sample Size: 3073.779\n"
          ]
        }
      ]
    },
    {
      "cell_type": "code",
      "source": [
        "# parameters for power analysis\n",
        "effect = 0.05\n",
        "alpha = 0.05\n",
        "power_list = np.array([0.1,0.2,0.3,0.4,0.5,0.6,0.7,0.8])\n",
        "sample_size_list = []\n",
        "for power in power_list:\n",
        "    analysis = TTestIndPower()\n",
        "    result = analysis.solve_power(effect, power=power, nobs1=None, ratio=1.0, alpha=alpha)\n",
        "    sample_size_list.append(result)\n",
        "sample_size_list = np.array(sample_size_list).astype(int)\n",
        "sample_size_list"
      ],
      "metadata": {
        "colab": {
          "base_uri": "https://localhost:8080/"
        },
        "id": "erS5EXTB7Kdn",
        "outputId": "a6d9421d-25f6-4af9-ba1f-68c40f2f8d8b"
      },
      "execution_count": 8,
      "outputs": [
        {
          "output_type": "execute_result",
          "data": {
            "text/plain": [
              "array([ 341,  994, 1647, 2330, 3073, 3919, 4938, 6280])"
            ]
          },
          "metadata": {},
          "execution_count": 8
        }
      ]
    },
    {
      "cell_type": "code",
      "source": [
        "# parameters for power analysis\n",
        "effect_sizes = np.array([0.05])\n",
        "sample_sizes = np.array(range(5, 20000))\n",
        "# calculate power curves from multiple power analyses\n",
        "analysis = TTestIndPower()\n",
        "analysis.plot_power(dep_var='nobs', nobs=sample_sizes, effect_size=effect_sizes)\n",
        "plt.show()"
      ],
      "metadata": {
        "colab": {
          "base_uri": "https://localhost:8080/",
          "height": 295
        },
        "id": "lkpznZZ_7Lvc",
        "outputId": "4d3d414a-dc9c-428c-cfde-0c34c7eb635f"
      },
      "execution_count": 9,
      "outputs": [
        {
          "output_type": "display_data",
          "data": {
            "image/png": "[encoded data removed]",
            "text/plain": [
              "<Figure size 432x288 with 1 Axes>"
            ]
          },
          "metadata": {
            "needs_background": "light"
          }
        }
      ]
    },
    {
      "cell_type": "markdown",
      "source": [
        "## Generate p_values "
      ],
      "metadata": {
        "id": "8jXYDtMW7Mv1"
      }
    },
    {
      "cell_type": "code",
      "source": [
        "# decorator to unpack_args\n",
        "@unpack_args\n",
        "def generate_pvalues(effect_size, sample_size):\n",
        "    res = []\n",
        "    for i in range(100000): # 100000 indpendent p_values\n",
        "        data0 = stats.norm.rvs(0,1,sample_size)\n",
        "        data1 = stats.norm.rvs(0+effect_size*1,1,sample_size)\n",
        "        res.append(stats.ttest_ind(data0, data1)[1])\n",
        "    return effect_size, sample_size, res"
      ],
      "metadata": {
        "id": "flGiUZxx7Ofm"
      },
      "execution_count": 42,
      "outputs": []
    },
    {
      "cell_type": "code",
      "source": [
        "effect_size = [0, *[0.05]*len(sample_size_list)] # The first one is A/A test, so effect_size is 0\n",
        "sample_size = [sample_size_list[-1], *sample_size_list]\n",
        "para_dgp = list(zip(effect_size, sample_size)) # Zip params to use in pool.imap"
      ],
      "metadata": {
        "id": "hVG9nBxw7P4_"
      },
      "execution_count": 43,
      "outputs": []
    },
    {
      "cell_type": "code",
      "source": [
        "if __name__ == '__main__':\n",
        "    # start 4 worker processes\n",
        "    results = []\n",
        "    with Pool() as pool:\n",
        "        for result in tqdm.tqdm(pool.imap(generate_pvalues, para_dgp), total=para_dgp.__len__()):\n",
        "            results.append(result)"
      ],
      "metadata": {
        "colab": {
          "base_uri": "https://localhost:8080/",
          "height": 49,
          "referenced_widgets": [
            "599d298e2e5a4cf38330108e56543953",
            "02eee5d0c850435b8f77d01d62e16021",
            "8bb6949c61564a1b80a4f5d35e2bf86b",
            "3f49f8def7984973acaf4f96b33348aa",
            "cf5a0a4058fe4a74bcaa0797b43ba5db",
            "e3586d16232b4cb4be424254b63725a0",
            "7c83b1150319436f9cadc0374115980e",
            "fc9357c670114ca58cea3d84838a8df0",
            "3d383c4a7bb34b4bb37ef521266968ea",
            "7adca522b84e4d60a92bd4d5f4d86bd9",
            "96e6e7170c224d4192ab944c2f0f82bc"
          ]
        },
        "id": "eSj8Icq57QsY",
        "outputId": "d3ef8b1a-28a2-4620-a8b6-3b47855329c2"
      },
      "execution_count": 44,
      "outputs": [
        {
          "output_type": "display_data",
          "data": {
            "application/vnd.jupyter.widget-view+json": {
              "model_id": "599d298e2e5a4cf38330108e56543953",
              "version_minor": 0,
              "version_major": 2
            },
            "text/plain": [
              "  0%|          | 0/9 [00:00<?, ?it/s]"
            ]
          },
          "metadata": {}
        }
      ]
    },
    {
      "cell_type": "code",
      "source": [
        "total_p_values = pd.DataFrame(results, columns = ['effect_size', 'sample_size', 'p_values'])"
      ],
      "metadata": {
        "id": "n8W2x4yN7Rma"
      },
      "execution_count": 45,
      "outputs": []
    },
    {
      "cell_type": "code",
      "source": [
        "# Power of single ttest\n",
        "total_p_values['power_theorem']  = [0.05, *[0.1,0.2,0.3,0.4,0.5,0.6,0.7,0.8]]\n",
        "total_p_values['power_emp'] = total_p_values.p_values.apply(lambda x: (np.array(x)<0.05).mean())\n",
        "total_p_values"
      ],
      "metadata": {
        "colab": {
          "base_uri": "https://localhost:8080/",
          "height": 331
        },
        "id": "QQZpqQTb7S6R",
        "outputId": "09fb3956-5516-41e6-c281-644f3454b328"
      },
      "execution_count": 47,
      "outputs": [
        {
          "output_type": "execute_result",
          "data": {
            "text/html": [
              "\n",
              "  <div id=\"df-e90fdb24-1718-4d87-80bb-404dcc548efd\">\n",
              "    <div class=\"colab-df-container\">\n",
              "      <div>\n",
              "<style scoped>\n",
              "    .dataframe tbody tr th:only-of-type {\n",
              "        vertical-align: middle;\n",
              "    }\n",
              "\n",
              "    .dataframe tbody tr th {\n",
              "        vertical-align: top;\n",
              "    }\n",
              "\n",
              "    .dataframe thead th {\n",
              "        text-align: right;\n",
              "    }\n",
              "</style>\n",
              "<table border=\"1\" class=\"dataframe\">\n",
              "  <thead>\n",
              "    <tr style=\"text-align: right;\">\n",
              "      <th></th>\n",
              "      <th>effect_size</th>\n",
              "      <th>sample_size</th>\n",
              "      <th>p_values</th>\n",
              "      <th>power_theorem</th>\n",
              "      <th>power_emp</th>\n",
              "    </tr>\n",
              "  </thead>\n",
              "  <tbody>\n",
              "    <tr>\n",
              "      <th>0</th>\n",
              "      <td>0.00</td>\n",
              "      <td>6280</td>\n",
              "      <td>[0.786681566651119, 0.3212448712932222, 0.2201...</td>\n",
              "      <td>0.05</td>\n",
              "      <td>0.05033</td>\n",
              "    </tr>\n",
              "    <tr>\n",
              "      <th>1</th>\n",
              "      <td>0.05</td>\n",
              "      <td>341</td>\n",
              "      <td>[0.4724073000372584, 0.004422488277364576, 0.7...</td>\n",
              "      <td>0.10</td>\n",
              "      <td>0.09974</td>\n",
              "    </tr>\n",
              "    <tr>\n",
              "      <th>2</th>\n",
              "      <td>0.05</td>\n",
              "      <td>994</td>\n",
              "      <td>[0.29303524439992323, 0.06929240434463659, 0.1...</td>\n",
              "      <td>0.20</td>\n",
              "      <td>0.19793</td>\n",
              "    </tr>\n",
              "    <tr>\n",
              "      <th>3</th>\n",
              "      <td>0.05</td>\n",
              "      <td>1647</td>\n",
              "      <td>[0.05597853564346878, 0.9927013378084786, 0.58...</td>\n",
              "      <td>0.30</td>\n",
              "      <td>0.30018</td>\n",
              "    </tr>\n",
              "    <tr>\n",
              "      <th>4</th>\n",
              "      <td>0.05</td>\n",
              "      <td>2330</td>\n",
              "      <td>[0.7971525688587416, 0.44147169836026956, 0.21...</td>\n",
              "      <td>0.40</td>\n",
              "      <td>0.39860</td>\n",
              "    </tr>\n",
              "    <tr>\n",
              "      <th>5</th>\n",
              "      <td>0.05</td>\n",
              "      <td>3073</td>\n",
              "      <td>[0.006272417666491983, 0.002086895547046506, 0...</td>\n",
              "      <td>0.50</td>\n",
              "      <td>0.50148</td>\n",
              "    </tr>\n",
              "    <tr>\n",
              "      <th>6</th>\n",
              "      <td>0.05</td>\n",
              "      <td>3919</td>\n",
              "      <td>[0.003579600376392399, 0.16918236420541816, 8....</td>\n",
              "      <td>0.60</td>\n",
              "      <td>0.59770</td>\n",
              "    </tr>\n",
              "    <tr>\n",
              "      <th>7</th>\n",
              "      <td>0.05</td>\n",
              "      <td>4938</td>\n",
              "      <td>[0.07342987758754667, 0.2975080198564284, 0.10...</td>\n",
              "      <td>0.70</td>\n",
              "      <td>0.69921</td>\n",
              "    </tr>\n",
              "    <tr>\n",
              "      <th>8</th>\n",
              "      <td>0.05</td>\n",
              "      <td>6280</td>\n",
              "      <td>[0.00325747873382007, 0.004225846929217384, 0....</td>\n",
              "      <td>0.80</td>\n",
              "      <td>0.80191</td>\n",
              "    </tr>\n",
              "  </tbody>\n",
              "</table>\n",
              "</div>\n",
              "      <button class=\"colab-df-convert\" onclick=\"convertToInteractive('df-e90fdb24-1718-4d87-80bb-404dcc548efd')\"\n",
              "              title=\"Convert this dataframe to an interactive table.\"\n",
              "              style=\"display:none;\">\n",
              "        \n",
              "  <svg xmlns=\"http://www.w3.org/2000/svg\" height=\"24px\"viewBox=\"0 0 24 24\"\n",
              "       width=\"24px\">\n",
              "    <path d=\"M0 0h24v24H0V0z\" fill=\"none\"/>\n",
              "    <path d=\"M18.56 5.44l.94 2.06.94-2.06 2.06-.94-2.06-.94-.94-2.06-.94 2.06-2.06.94zm-11 1L8.5 8.5l.94-2.06 2.06-.94-2.06-.94L8.5 2.5l-.94 2.06-2.06.94zm10 10l.94 2.06.94-2.06 2.06-.94-2.06-.94-.94-2.06-.94 2.06-2.06.94z\"/><path d=\"M17.41 7.96l-1.37-1.37c-.4-.4-.92-.59-1.43-.59-.52 0-1.04.2-1.43.59L10.3 9.45l-7.72 7.72c-.78.78-.78 2.05 0 2.83L4 21.41c.39.39.9.59 1.41.59.51 0 1.02-.2 1.41-.59l7.78-7.78 2.81-2.81c.8-.78.8-2.07 0-2.86zM5.41 20L4 18.59l7.72-7.72 1.47 1.35L5.41 20z\"/>\n",
              "  </svg>\n",
              "      </button>\n",
              "      \n",
              "  <style>\n",
              "    .colab-df-container {\n",
              "      display:flex;\n",
              "      flex-wrap:wrap;\n",
              "      gap: 12px;\n",
              "    }\n",
              "\n",
              "    .colab-df-convert {\n",
              "      background-color: #E8F0FE;\n",
              "      border: none;\n",
              "      border-radius: 50%;\n",
              "      cursor: pointer;\n",
              "      display: none;\n",
              "      fill: #1967D2;\n",
              "      height: 32px;\n",
              "      padding: 0 0 0 0;\n",
              "      width: 32px;\n",
              "    }\n",
              "\n",
              "    .colab-df-convert:hover {\n",
              "      background-color: #E2EBFA;\n",
              "      box-shadow: 0px 1px 2px rgba(60, 64, 67, 0.3), 0px 1px 3px 1px rgba(60, 64, 67, 0.15);\n",
              "      fill: #174EA6;\n",
              "    }\n",
              "\n",
              "    [theme=dark] .colab-df-convert {\n",
              "      background-color: #3B4455;\n",
              "      fill: #D2E3FC;\n",
              "    }\n",
              "\n",
              "    [theme=dark] .colab-df-convert:hover {\n",
              "      background-color: #434B5C;\n",
              "      box-shadow: 0px 1px 3px 1px rgba(0, 0, 0, 0.15);\n",
              "      filter: drop-shadow(0px 1px 2px rgba(0, 0, 0, 0.3));\n",
              "      fill: #FFFFFF;\n",
              "    }\n",
              "  </style>\n",
              "\n",
              "      <script>\n",
              "        const buttonEl =\n",
              "          document.querySelector('#df-e90fdb24-1718-4d87-80bb-404dcc548efd button.colab-df-convert');\n",
              "        buttonEl.style.display =\n",
              "          google.colab.kernel.accessAllowed ? 'block' : 'none';\n",
              "\n",
              "        async function convertToInteractive(key) {\n",
              "          const element = document.querySelector('#df-e90fdb24-1718-4d87-80bb-404dcc548efd');\n",
              "          const dataTable =\n",
              "            await google.colab.kernel.invokeFunction('convertToInteractive',\n",
              "                                                     [key], {});\n",
              "          if (!dataTable) return;\n",
              "\n",
              "          const docLinkHtml = 'Like what you see? Visit the ' +\n",
              "            '<a target=\"_blank\" href=https://colab.research.google.com/notebooks/data_table.ipynb>data table notebook</a>'\n",
              "            + ' to learn more about interactive tables.';\n",
              "          element.innerHTML = '';\n",
              "          dataTable['output_type'] = 'display_data';\n",
              "          await google.colab.output.renderOutput(dataTable, element);\n",
              "          const docLink = document.createElement('div');\n",
              "          docLink.innerHTML = docLinkHtml;\n",
              "          element.appendChild(docLink);\n",
              "        }\n",
              "      </script>\n",
              "    </div>\n",
              "  </div>\n",
              "  "
            ],
            "text/plain": [
              "   effect_size  sample_size  \\\n",
              "0         0.00         6280   \n",
              "1         0.05          341   \n",
              "2         0.05          994   \n",
              "3         0.05         1647   \n",
              "4         0.05         2330   \n",
              "5         0.05         3073   \n",
              "6         0.05         3919   \n",
              "7         0.05         4938   \n",
              "8         0.05         6280   \n",
              "\n",
              "                                            p_values  power_theorem  power_emp  \n",
              "0  [0.786681566651119, 0.3212448712932222, 0.2201...           0.05    0.05033  \n",
              "1  [0.4724073000372584, 0.004422488277364576, 0.7...           0.10    0.09974  \n",
              "2  [0.29303524439992323, 0.06929240434463659, 0.1...           0.20    0.19793  \n",
              "3  [0.05597853564346878, 0.9927013378084786, 0.58...           0.30    0.30018  \n",
              "4  [0.7971525688587416, 0.44147169836026956, 0.21...           0.40    0.39860  \n",
              "5  [0.006272417666491983, 0.002086895547046506, 0...           0.50    0.50148  \n",
              "6  [0.003579600376392399, 0.16918236420541816, 8....           0.60    0.59770  \n",
              "7  [0.07342987758754667, 0.2975080198564284, 0.10...           0.70    0.69921  \n",
              "8  [0.00325747873382007, 0.004225846929217384, 0....           0.80    0.80191  "
            ]
          },
          "metadata": {},
          "execution_count": 47
        }
      ]
    },
    {
      "cell_type": "markdown",
      "source": [
        "## Power of Meta-analysis "
      ],
      "metadata": {
        "id": "j9Eh3PMT7Ya3"
      }
    },
    {
      "cell_type": "code",
      "source": [
        "# power of meta-analysis\n",
        "def meta_power_cal(p_value_series, p_value_num, method):\n",
        "    # cut\n",
        "    m = len(p_value_series)//p_value_num\n",
        "    p_value_mat = np.array(p_value_series[:m*p_value_num]).reshape(-1, p_value_num)\n",
        "    # meta analysis\n",
        "    res = np.apply_along_axis(lambda x: method(x)[1], axis = 1, arr = p_value_mat)\n",
        "    return res\n",
        "\n",
        "@unpack_args\n",
        "def ma_power_cal_wapper(x, y):\n",
        "    return x,y, (meta_power_cal(total_p_values.loc[total_p_values.power_theorem == x].p_values.item(),\n",
        "                                y,\n",
        "                                stats.combine_pvalues) < 0.05).mean()\n",
        "\n",
        "power_list = total_p_values.power_theorem.tolist()\n",
        "ma_num_list = np.arange(1,20)\n",
        "para_zip = list(product(power_list, ma_num_list))"
      ],
      "metadata": {
        "id": "GdiRXPMn7cAy"
      },
      "execution_count": 48,
      "outputs": []
    },
    {
      "cell_type": "code",
      "source": [
        "if __name__ == '__main__':\n",
        "    # start 4 worker processes\n",
        "    results = []\n",
        "    with Pool() as pool:\n",
        "        # for result in tqdm.tqdm(pool.imap_unordered(bs_log_ratio, [aa]*1000), total=1000):\n",
        "        for result in tqdm.tqdm(pool.imap(ma_power_cal_wapper, para_zip), total=para_zip.__len__()):\n",
        "        # for result in tqdm.tqdm(pool.imap_unordered(bs_ratio, [aa]*1000), total=1000):\n",
        "        # for result in tqdm.tqdm(pool.imap_unordered(p_exact_mean, np.arange(pshape)), total=pshape):\n",
        "            results.append(result)\n",
        "pd.DataFrame(results, columns = ['power', 'num', 'ma_power'])"
      ],
      "metadata": {
        "colab": {
          "base_uri": "https://localhost:8080/",
          "height": 455,
          "referenced_widgets": [
            "829e7bd226ad4e448590722d0a8e8752",
            "f2896ade84754bcbbfcedbd12e4a7bbe",
            "4a4923cc54ef415db178809377edad7e",
            "1b2b0033ee2643bdb0cd535a667a6928",
            "f09e46821e6f449685b58eb262ca0382",
            "1328fe08b4a541a8ab7e6882a4f24cf7",
            "f5818ff512e543fea233086481a0e07f",
            "08edd278dfa84e6490daf860fe734174",
            "19e179e52ae84d9db292dc8090ec0ac1",
            "444a06198e70453498f78e0731bca61c",
            "277553ebd2184530948d6c1996ef750b"
          ]
        },
        "id": "X8fRcu3e7cy2",
        "outputId": "8cd9cbd7-8e4a-4725-e594-d60b81083fa0"
      },
      "execution_count": 49,
      "outputs": [
        {
          "output_type": "display_data",
          "data": {
            "application/vnd.jupyter.widget-view+json": {
              "model_id": "829e7bd226ad4e448590722d0a8e8752",
              "version_minor": 0,
              "version_major": 2
            },
            "text/plain": [
              "  0%|          | 0/171 [00:00<?, ?it/s]"
            ]
          },
          "metadata": {}
        },
        {
          "output_type": "execute_result",
          "data": {
            "text/html": [
              "\n",
              "  <div id=\"df-5b3dde60-af98-41ba-8e3a-bd972ddee120\">\n",
              "    <div class=\"colab-df-container\">\n",
              "      <div>\n",
              "<style scoped>\n",
              "    .dataframe tbody tr th:only-of-type {\n",
              "        vertical-align: middle;\n",
              "    }\n",
              "\n",
              "    .dataframe tbody tr th {\n",
              "        vertical-align: top;\n",
              "    }\n",
              "\n",
              "    .dataframe thead th {\n",
              "        text-align: right;\n",
              "    }\n",
              "</style>\n",
              "<table border=\"1\" class=\"dataframe\">\n",
              "  <thead>\n",
              "    <tr style=\"text-align: right;\">\n",
              "      <th></th>\n",
              "      <th>power</th>\n",
              "      <th>num</th>\n",
              "      <th>ma_power</th>\n",
              "    </tr>\n",
              "  </thead>\n",
              "  <tbody>\n",
              "    <tr>\n",
              "      <th>0</th>\n",
              "      <td>0.05</td>\n",
              "      <td>1</td>\n",
              "      <td>0.050330</td>\n",
              "    </tr>\n",
              "    <tr>\n",
              "      <th>1</th>\n",
              "      <td>0.05</td>\n",
              "      <td>2</td>\n",
              "      <td>0.050740</td>\n",
              "    </tr>\n",
              "    <tr>\n",
              "      <th>2</th>\n",
              "      <td>0.05</td>\n",
              "      <td>3</td>\n",
              "      <td>0.052021</td>\n",
              "    </tr>\n",
              "    <tr>\n",
              "      <th>3</th>\n",
              "      <td>0.05</td>\n",
              "      <td>4</td>\n",
              "      <td>0.052080</td>\n",
              "    </tr>\n",
              "    <tr>\n",
              "      <th>4</th>\n",
              "      <td>0.05</td>\n",
              "      <td>5</td>\n",
              "      <td>0.052350</td>\n",
              "    </tr>\n",
              "    <tr>\n",
              "      <th>...</th>\n",
              "      <td>...</td>\n",
              "      <td>...</td>\n",
              "      <td>...</td>\n",
              "    </tr>\n",
              "    <tr>\n",
              "      <th>166</th>\n",
              "      <td>0.80</td>\n",
              "      <td>15</td>\n",
              "      <td>1.000000</td>\n",
              "    </tr>\n",
              "    <tr>\n",
              "      <th>167</th>\n",
              "      <td>0.80</td>\n",
              "      <td>16</td>\n",
              "      <td>1.000000</td>\n",
              "    </tr>\n",
              "    <tr>\n",
              "      <th>168</th>\n",
              "      <td>0.80</td>\n",
              "      <td>17</td>\n",
              "      <td>1.000000</td>\n",
              "    </tr>\n",
              "    <tr>\n",
              "      <th>169</th>\n",
              "      <td>0.80</td>\n",
              "      <td>18</td>\n",
              "      <td>1.000000</td>\n",
              "    </tr>\n",
              "    <tr>\n",
              "      <th>170</th>\n",
              "      <td>0.80</td>\n",
              "      <td>19</td>\n",
              "      <td>1.000000</td>\n",
              "    </tr>\n",
              "  </tbody>\n",
              "</table>\n",
              "<p>171 rows × 3 columns</p>\n",
              "</div>\n",
              "      <button class=\"colab-df-convert\" onclick=\"convertToInteractive('df-5b3dde60-af98-41ba-8e3a-bd972ddee120')\"\n",
              "              title=\"Convert this dataframe to an interactive table.\"\n",
              "              style=\"display:none;\">\n",
              "        \n",
              "  <svg xmlns=\"http://www.w3.org/2000/svg\" height=\"24px\"viewBox=\"0 0 24 24\"\n",
              "       width=\"24px\">\n",
              "    <path d=\"M0 0h24v24H0V0z\" fill=\"none\"/>\n",
              "    <path d=\"M18.56 5.44l.94 2.06.94-2.06 2.06-.94-2.06-.94-.94-2.06-.94 2.06-2.06.94zm-11 1L8.5 8.5l.94-2.06 2.06-.94-2.06-.94L8.5 2.5l-.94 2.06-2.06.94zm10 10l.94 2.06.94-2.06 2.06-.94-2.06-.94-.94-2.06-.94 2.06-2.06.94z\"/><path d=\"M17.41 7.96l-1.37-1.37c-.4-.4-.92-.59-1.43-.59-.52 0-1.04.2-1.43.59L10.3 9.45l-7.72 7.72c-.78.78-.78 2.05 0 2.83L4 21.41c.39.39.9.59 1.41.59.51 0 1.02-.2 1.41-.59l7.78-7.78 2.81-2.81c.8-.78.8-2.07 0-2.86zM5.41 20L4 18.59l7.72-7.72 1.47 1.35L5.41 20z\"/>\n",
              "  </svg>\n",
              "      </button>\n",
              "      \n",
              "  <style>\n",
              "    .colab-df-container {\n",
              "      display:flex;\n",
              "      flex-wrap:wrap;\n",
              "      gap: 12px;\n",
              "    }\n",
              "\n",
              "    .colab-df-convert {\n",
              "      background-color: #E8F0FE;\n",
              "      border: none;\n",
              "      border-radius: 50%;\n",
              "      cursor: pointer;\n",
              "      display: none;\n",
              "      fill: #1967D2;\n",
              "      height: 32px;\n",
              "      padding: 0 0 0 0;\n",
              "      width: 32px;\n",
              "    }\n",
              "\n",
              "    .colab-df-convert:hover {\n",
              "      background-color: #E2EBFA;\n",
              "      box-shadow: 0px 1px 2px rgba(60, 64, 67, 0.3), 0px 1px 3px 1px rgba(60, 64, 67, 0.15);\n",
              "      fill: #174EA6;\n",
              "    }\n",
              "\n",
              "    [theme=dark] .colab-df-convert {\n",
              "      background-color: #3B4455;\n",
              "      fill: #D2E3FC;\n",
              "    }\n",
              "\n",
              "    [theme=dark] .colab-df-convert:hover {\n",
              "      background-color: #434B5C;\n",
              "      box-shadow: 0px 1px 3px 1px rgba(0, 0, 0, 0.15);\n",
              "      filter: drop-shadow(0px 1px 2px rgba(0, 0, 0, 0.3));\n",
              "      fill: #FFFFFF;\n",
              "    }\n",
              "  </style>\n",
              "\n",
              "      <script>\n",
              "        const buttonEl =\n",
              "          document.querySelector('#df-5b3dde60-af98-41ba-8e3a-bd972ddee120 button.colab-df-convert');\n",
              "        buttonEl.style.display =\n",
              "          google.colab.kernel.accessAllowed ? 'block' : 'none';\n",
              "\n",
              "        async function convertToInteractive(key) {\n",
              "          const element = document.querySelector('#df-5b3dde60-af98-41ba-8e3a-bd972ddee120');\n",
              "          const dataTable =\n",
              "            await google.colab.kernel.invokeFunction('convertToInteractive',\n",
              "                                                     [key], {});\n",
              "          if (!dataTable) return;\n",
              "\n",
              "          const docLinkHtml = 'Like what you see? Visit the ' +\n",
              "            '<a target=\"_blank\" href=https://colab.research.google.com/notebooks/data_table.ipynb>data table notebook</a>'\n",
              "            + ' to learn more about interactive tables.';\n",
              "          element.innerHTML = '';\n",
              "          dataTable['output_type'] = 'display_data';\n",
              "          await google.colab.output.renderOutput(dataTable, element);\n",
              "          const docLink = document.createElement('div');\n",
              "          docLink.innerHTML = docLinkHtml;\n",
              "          element.appendChild(docLink);\n",
              "        }\n",
              "      </script>\n",
              "    </div>\n",
              "  </div>\n",
              "  "
            ],
            "text/plain": [
              "     power  num  ma_power\n",
              "0     0.05    1  0.050330\n",
              "1     0.05    2  0.050740\n",
              "2     0.05    3  0.052021\n",
              "3     0.05    4  0.052080\n",
              "4     0.05    5  0.052350\n",
              "..     ...  ...       ...\n",
              "166   0.80   15  1.000000\n",
              "167   0.80   16  1.000000\n",
              "168   0.80   17  1.000000\n",
              "169   0.80   18  1.000000\n",
              "170   0.80   19  1.000000\n",
              "\n",
              "[171 rows x 3 columns]"
            ]
          },
          "metadata": {},
          "execution_count": 49
        }
      ]
    },
    {
      "cell_type": "markdown",
      "source": [
        "## What if we use one single t-test under sample size of all studies?"
      ],
      "metadata": {
        "id": "Fh-LGyFC7dw-"
      }
    },
    {
      "cell_type": "code",
      "source": [
        "def whatif_single_test(num, single_size):\n",
        "    analysis = TTestIndPower()\n",
        "    effect = 0.05\n",
        "    alpha = 0.05\n",
        "    return analysis.solve_power(effect, power=None, nobs1=num*single_size, ratio=1.0, alpha=alpha)"
      ],
      "metadata": {
        "id": "cStJv_qb7ftv"
      },
      "execution_count": 50,
      "outputs": []
    },
    {
      "cell_type": "code",
      "source": [
        "output = pd.DataFrame(results, columns = ['power', 'num', 'ma_power'])\n",
        "output['sample_size'] = output['power'].map(dict(zip(power_list, sample_size)))\n",
        "output['all_sample_ttest_power'] = output.apply(lambda x: whatif_single_test(x.num, x.sample_size), axis = 1)\n",
        "output.columns = ['single_ttest_power', 'num_of_studies', 'ma_power', 'single_ttest_sample_size', 'all_sample_ttest_power']"
      ],
      "metadata": {
        "id": "b04_Ef227hTT"
      },
      "execution_count": 51,
      "outputs": []
    },
    {
      "cell_type": "code",
      "source": [
        "# This one is A/A Test, so effect_size is 0, power = alpha = 0.05\n",
        "output.loc[output.single_ttest_power == 0.05, 'all_sample_ttest_power'] = 0.05"
      ],
      "metadata": {
        "id": "PQflX3sS7iIF"
      },
      "execution_count": 52,
      "outputs": []
    },
    {
      "cell_type": "code",
      "source": [
        "output.to_csv('ma_power_sim.csv')"
      ],
      "metadata": {
        "id": "IwsbtJG87jZm"
      },
      "execution_count": 53,
      "outputs": []
    },
    {
      "cell_type": "markdown",
      "source": [
        "## Conclusion"
      ],
      "metadata": {
        "id": "kP8zDhnn7kjc"
      }
    },
    {
      "cell_type": "markdown",
      "source": [
        "### A/A Test Meta-analysis"
      ],
      "metadata": {
        "id": "2sPes3gf9tCk"
      }
    },
    {
      "cell_type": "code",
      "source": [
        "__ = output.loc[output.single_ttest_power == 0.05, ['single_ttest_power', 'num_of_studies', 'ma_power']]\n",
        "plt.plot(__.num_of_studies, __.ma_power)\n",
        "plt.hlines(y = 0.05, xmin = 1, xmax = 19, linestyles='dashed', color = 'red')\n",
        "plt.ylim(0,0.1)\n",
        "plt.xlabel('num_of_studies')\n",
        "plt.ylabel('ma_power')\n",
        "plt.xlabel('num_of_studies',fontdict={'fontsize':14})\n",
        "plt.ylabel('ma_power',fontdict={'fontsize':14})\n",
        "plt.title('Type I Error of Meta-analysis is Under Control',fontdict={'fontsize':16})"
      ],
      "metadata": {
        "colab": {
          "base_uri": "https://localhost:8080/",
          "height": 318
        },
        "id": "q1xkgAVY73Tv",
        "outputId": "8837e270-abd5-4914-a7da-871aaebfb8e6"
      },
      "execution_count": 54,
      "outputs": [
        {
          "output_type": "execute_result",
          "data": {
            "text/plain": [
              "Text(0.5, 1.0, 'Type I Error of Meta-analysis is Under Control')"
            ]
          },
          "metadata": {},
          "execution_count": 54
        },
        {
          "output_type": "display_data",
          "data": {
            "image/png": "[encoded data removed]",
            "text/plain": [
              "<Figure size 432x288 with 1 Axes>"
            ]
          },
          "metadata": {
            "needs_background": "light"
          }
        }
      ]
    },
    {
      "cell_type": "markdown",
      "source": [
        "### More Studies Can Increase Testing Power"
      ],
      "metadata": {
        "id": "Md2NtndT9zMw"
      }
    },
    {
      "cell_type": "code",
      "source": [
        "__ = output.loc[output.single_ttest_power == 0.1, ['single_ttest_power', 'num_of_studies', 'ma_power']]\n",
        "plt.plot(__.num_of_studies, __.ma_power)\n",
        "plt.hlines(y = 0.05, xmin = 1, xmax = 19, linestyles='dashed', color = 'red')\n",
        "plt.xlabel('num_of_studies',fontdict={'fontsize':14})\n",
        "plt.ylabel('ma_power',fontdict={'fontsize':14})\n",
        "plt.title('More Studies Can Increase Testing Power',fontdict={'fontsize':16})"
      ],
      "metadata": {
        "colab": {
          "base_uri": "https://localhost:8080/",
          "height": 318
        },
        "id": "Ym7nVclhCw7Q",
        "outputId": "00fa1095-54c5-4d10-83c4-5068c8a6038a"
      },
      "execution_count": 55,
      "outputs": [
        {
          "output_type": "execute_result",
          "data": {
            "text/plain": [
              "Text(0.5, 1.0, 'More Studies Can Increase Testing Power')"
            ]
          },
          "metadata": {},
          "execution_count": 55
        },
        {
          "output_type": "display_data",
          "data": {
            "image/png": "[encoded data removed]",
            "text/plain": [
              "<Figure size 432x288 with 1 Axes>"
            ]
          },
          "metadata": {
            "needs_background": "light"
          }
        }
      ]
    },
    {
      "cell_type": "markdown",
      "source": [
        "### But Using All Samples of MA in one Single T-test is Better "
      ],
      "metadata": {
        "id": "wv4Kur7B9xiH"
      }
    },
    {
      "cell_type": "code",
      "source": [
        "__ = output.loc[output.single_ttest_power == 0.1, ['all_sample_ttest_power', 'num_of_studies', 'ma_power']]\n",
        "plt.plot(__.num_of_studies, __.ma_power)\n",
        "plt.plot(__.num_of_studies, __.all_sample_ttest_power)\n",
        "# plt.hlines(y = 0.05, xmin = 1, xmax = 19, linestyles='dashed', color = 'red')\n",
        "plt.xlabel('num_of_studies',fontdict={'fontsize':14})\n",
        "plt.ylabel('ma_power',fontdict={'fontsize':14})\n",
        "plt.legend(labels = ['ma_power', 'all_sample_ttest_power'])\n",
        "plt.title('More Studies Can Increase Testing Power',fontdict={'fontsize':16})"
      ],
      "metadata": {
        "colab": {
          "base_uri": "https://localhost:8080/",
          "height": 318
        },
        "id": "aj23tD3B74Ie",
        "outputId": "c9451bf0-020e-4bea-bfcc-3c433c8f34ab"
      },
      "execution_count": 56,
      "outputs": [
        {
          "output_type": "execute_result",
          "data": {
            "text/plain": [
              "Text(0.5, 1.0, 'More Studies Can Increase Testing Power')"
            ]
          },
          "metadata": {},
          "execution_count": 56
        },
        {
          "output_type": "display_data",
          "data": {
            "image/png": "[encoded data removed]",
            "text/plain": [
              "<Figure size 432x288 with 1 Axes>"
            ]
          },
          "metadata": {
            "needs_background": "light"
          }
        }
      ]
    },
    {
      "cell_type": "code",
      "source": [
        ""
      ],
      "metadata": {
        "id": "48-kpuYG87W4"
      },
      "execution_count": null,
      "outputs": []
    }
  ]
}