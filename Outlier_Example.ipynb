{
  "nbformat": 4,
  "nbformat_minor": 0,
  "metadata": {
    "colab": {
      "name": "Outlier Example.ipynb",
      "provenance": [],
      "collapsed_sections": [],
      "authorship_tag": "ABX9TyMIHU8Wjhc2ixhwcuuBwr0g",
      "include_colab_link": true
    },
    "kernelspec": {
      "name": "python3",
      "display_name": "Python 3"
    },
    "language_info": {
      "name": "python"
    }
  },
  "cells": [
    {
      "cell_type": "markdown",
      "metadata": {
        "id": "view-in-github",
        "colab_type": "text"
      },
      "source": [
        "<a href=\"https://colab.research.google.com/github/thisisreallife/Medium/blob/master/Outlier_Example.ipynb\" target=\"_parent\"><img src=\"https://colab.research.google.com/assets/colab-badge.svg\" alt=\"Open In Colab\"/></a>"
      ]
    },
    {
      "cell_type": "code",
      "execution_count": 127,
      "metadata": {
        "id": "CsqQY7-RtwrT"
      },
      "outputs": [],
      "source": [
        "import numpy as np\n",
        "import scipy.stats as stats\n",
        "import matplotlib.pyplot as plt"
      ]
    },
    {
      "cell_type": "markdown",
      "source": [
        "# Outlier can decrease power"
      ],
      "metadata": {
        "id": "Lyrhwg_yzAel"
      }
    },
    {
      "cell_type": "code",
      "source": [
        "# several params need to consider\n",
        "## relative_effect_size. Fixed at 1.2\n",
        "## outlier size = np.linspace(0,200,num = 100)\n",
        "## sample size of data. Fixed at 100 per sample\n",
        "## the percent of outlier. Fixed at 1\n",
        "relative_effect_size =  (1.2-0)/1 \n",
        "outlier_size_list = np.linspace(0,200,num = 100)\n",
        "res = []\n",
        "\n",
        "for outlier_size in outlier_size_list:    \n",
        "    data0 = stats.norm.rvs(0, 1, 100)\n",
        "    data1 = stats.norm.rvs(0+relative_effect_size, 1, 100)\n",
        "    data_o = np.append(data1, relative_effect_size*outlier_size)\n",
        "    res.append(stats.ttest_ind(data_o, data0))"
      ],
      "metadata": {
        "id": "IpArngK5t7BS"
      },
      "execution_count": 128,
      "outputs": []
    },
    {
      "cell_type": "code",
      "source": [
        "plt.scatter(outlier_size_list, [i[0] for i in res], color = ['red' if abs(i[0])>1.96 else 'grey' for i in res])\n",
        "plt.hlines(1.96, 0, 200, linestyles = 'dashed', color = 'grey')"
      ],
      "metadata": {
        "colab": {
          "base_uri": "https://localhost:8080/",
          "height": 285
        },
        "id": "1gv824rfuJ65",
        "outputId": "524bd1df-c68b-4665-d8ba-4d3689daff40"
      },
      "execution_count": 129,
      "outputs": [
        {
          "output_type": "execute_result",
          "data": {
            "text/plain": [
              "<matplotlib.collections.LineCollection at 0x7fdfc24d1a90>"
            ]
          },
          "metadata": {},
          "execution_count": 129
        },
        {
          "output_type": "display_data",
          "data": {
            "text/plain": [
              "<Figure size 432x288 with 1 Axes>"
            ],
            "image/png": "[encoded data removed]"
          },
          "metadata": {
            "needs_background": "light"
          }
        }
      ]
    },
    {
      "cell_type": "markdown",
      "source": [
        "# Outlier can increase Type I Error"
      ],
      "metadata": {
        "id": "C3Abe21mu9HQ"
      }
    },
    {
      "cell_type": "code",
      "source": [
        "# several params need to consider\n",
        "## relative_effect_size. Fixed at 1.2\n",
        "## outlier size = np.linspace(0,200,num = 100)\n",
        "## sample size of data. Fixed at 100 per sample\n",
        "## the percent of outlier. Fixed at 1\n",
        "relative_effect_size =  1\n",
        "outlier_size_list = np.linspace(0,5000,num = 100)\n",
        "res = []\n",
        "\n",
        "for outlier_size in outlier_size_list:    \n",
        "    data0 = stats.norm.rvs(0, 10, 1000)\n",
        "    data1 = stats.norm.rvs(0, 10, 1000)\n",
        "    outliers = np.array([relative_effect_size*outlier_size]*5)\n",
        "    data_o = np.append(data1, outliers)\n",
        "    res.append(stats.ttest_ind(data_o, data0))"
      ],
      "metadata": {
        "id": "NrJlo6N1wDZt"
      },
      "execution_count": 130,
      "outputs": []
    },
    {
      "cell_type": "code",
      "source": [
        "plt.scatter(outlier_size_list, [i[0] for i in res], color = ['red' if abs(i[0])>1.96 else 'grey' for i in res])\n",
        "plt.hlines(1.96, min(outlier_size_list), max(outlier_size_list), linestyles = 'dashed', color = 'grey')\n",
        "plt.hlines(-1.96, min(outlier_size_list), max(outlier_size_list), linestyles = 'dashed', color = 'grey')"
      ],
      "metadata": {
        "colab": {
          "base_uri": "https://localhost:8080/",
          "height": 282
        },
        "id": "vYV0gm4Qx227",
        "outputId": "ece2d5a2-0b61-4c6a-de4c-48a993759d1b"
      },
      "execution_count": 131,
      "outputs": [
        {
          "output_type": "execute_result",
          "data": {
            "text/plain": [
              "<matplotlib.collections.LineCollection at 0x7fdfc2b17c50>"
            ]
          },
          "metadata": {},
          "execution_count": 131
        },
        {
          "output_type": "display_data",
          "data": {
            "text/plain": [
              "<Figure size 432x288 with 1 Axes>"
            ],
            "image/png": "[encoded data removed]"
          },
          "metadata": {
            "needs_background": "light"
          }
        }
      ]
    },
    {
      "cell_type": "code",
      "source": [
        ""
      ],
      "metadata": {
        "id": "fCuAXT-R6r0l"
      },
      "execution_count": null,
      "outputs": []
    }
  ]
}