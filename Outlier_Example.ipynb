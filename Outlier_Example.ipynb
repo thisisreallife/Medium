{
  "nbformat": 4,
  "nbformat_minor": 0,
  "metadata": {
    "colab": {
      "name": "Outlier Example.ipynb",
      "provenance": [],
      "collapsed_sections": [],
      "authorship_tag": "ABX9TyNGv2CKMGWfxP/c24ljEheB",
      "include_colab_link": true
    },
    "kernelspec": {
      "name": "python3",
      "display_name": "Python 3"
    },
    "language_info": {
      "name": "python"
    }
  },
  "cells": [
    {
      "cell_type": "markdown",
      "metadata": {
        "id": "view-in-github",
        "colab_type": "text"
      },
      "source": [
        "<a href=\"https://colab.research.google.com/github/thisisreallife/Medium/blob/master/Outlier_Example.ipynb\" target=\"_parent\"><img src=\"https://colab.research.google.com/assets/colab-badge.svg\" alt=\"Open In Colab\"/></a>"
      ]
    },
    {
      "cell_type": "code",
      "execution_count": 20,
      "metadata": {
        "id": "CsqQY7-RtwrT"
      },
      "outputs": [],
      "source": [
        "import numpy as np\n",
        "import scipy.stats as stats\n",
        "import matplotlib.pyplot as plt"
      ]
    },
    {
      "cell_type": "code",
      "source": [
        "# several params need to consider\n",
        "## relative_effect_size. Fixed at 1.2\n",
        "## outlier size = np.linspace(0,200,num = 100)\n",
        "## sample size of data. Fixed at 100 per sample\n",
        "## the percent of outlier. Fixed at 1\n",
        "relative_effect_size =  (1.2-0)/1 \n",
        "outlier_size_list = np.linspace(0,200,num = 100)\n",
        "res = []\n",
        "\n",
        "for outlier_size in outlier_size_list:    \n",
        "    data0 = stats.norm.rvs(0, 1, 100)\n",
        "    data1 = stats.norm.rvs(0+relative_effect_size, 1, 100)\n",
        "    data_o = np.append(data1, relative_effect_size*outlier_size)\n",
        "    res.append(stats.ttest_ind(data_o, data0))"
      ],
      "metadata": {
        "id": "IpArngK5t7BS"
      },
      "execution_count": 53,
      "outputs": []
    },
    {
      "cell_type": "code",
      "source": [
        "plt.scatter(outlier_size_list, [i[0] for i in res], color = ['red' if i[0]>1.96 else 'grey' for i in res])\n",
        "plt.hlines(1.96, 0, 200, linestyles = 'dashed', color = 'grey')"
      ],
      "metadata": {
        "colab": {
          "base_uri": "https://localhost:8080/",
          "height": 282
        },
        "id": "1gv824rfuJ65",
        "outputId": "6a2a08d6-40ba-4bfb-8ae7-761192a537b8"
      },
      "execution_count": 65,
      "outputs": [
        {
          "output_type": "execute_result",
          "data": {
            "text/plain": [
              "<matplotlib.collections.LineCollection at 0x7fdfc311b950>"
            ]
          },
          "metadata": {},
          "execution_count": 65
        },
        {
          "output_type": "display_data",
          "data": {
            "text/plain": [
              "<Figure size 432x288 with 1 Axes>"
            ],
            "image/png": "[encoded data removed]"
          },
          "metadata": {
            "needs_background": "light"
          }
        }
      ]
    },
    {
      "cell_type": "code",
      "source": [
        ""
      ],
      "metadata": {
        "id": "C3Abe21mu9HQ"
      },
      "execution_count": 60,
      "outputs": []
    },
    {
      "cell_type": "code",
      "source": [
        ""
      ],
      "metadata": {
        "id": "NrJlo6N1wDZt"
      },
      "execution_count": 65,
      "outputs": []
    },
    {
      "cell_type": "code",
      "source": [
        ""
      ],
      "metadata": {
        "id": "vYV0gm4Qx227"
      },
      "execution_count": null,
      "outputs": []
    }
  ]
}