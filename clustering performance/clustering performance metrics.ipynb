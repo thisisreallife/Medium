{
 "cells": [
  {
   "cell_type": "code",
   "execution_count": 1,
   "metadata": {
    "execution": {
     "iopub.execute_input": "2022-01-23T12:46:11.788951Z",
     "iopub.status.busy": "2022-01-23T12:46:11.788705Z",
     "iopub.status.idle": "2022-01-23T12:46:11.792480Z",
     "shell.execute_reply": "2022-01-23T12:46:11.791592Z",
     "shell.execute_reply.started": "2022-01-23T12:46:11.788924Z"
    }
   },
   "outputs": [],
   "source": [
    "import numpy as np\n",
    "from sklearn import metrics\n",
    "from scipy.special import comb, perm\n",
    "from scipy.stats import entropy\n",
    "import inspect"
   ]
  },
  {
   "cell_type": "markdown",
   "metadata": {
    "execution": {
     "iopub.execute_input": "2022-01-23T11:48:03.877462Z",
     "iopub.status.busy": "2022-01-23T11:48:03.877232Z",
     "iopub.status.idle": "2022-01-23T11:48:03.881618Z",
     "shell.execute_reply": "2022-01-23T11:48:03.880598Z",
     "shell.execute_reply.started": "2022-01-23T11:48:03.877440Z"
    }
   },
   "source": [
    "## Rand Index"
   ]
  },
  {
   "cell_type": "markdown",
   "metadata": {},
   "source": [
    "If C is a ground truth class assignment and K the clustering, let us define  and  as:\n",
    "\n",
    ", the number of pairs of elements that are in the same set in C and in the same set in K\n",
    "\n",
    ", the number of pairs of elements that are in different sets in C and in different sets in K\n",
    "\n",
    "The unadjusted Rand index is then given by:\n",
    "\n",
    "$$\\mathrm{RI}=\\frac{a+b}{C_{2}^{n_{\\text {samples }}}}$$\n",
    "\n",
    "$$\\mathrm{ARI}=\\frac{\\mathrm{RI}-E[\\mathrm{RI}]}{\\max (\\mathrm{RI})-E[\\mathrm{RI}]}$$\n",
    "\n",
    "优点:\n",
    "1. 可解释性好: 数值代表了有多少对样本下, 聚类结果和标签是一致或者不一致的\n",
    "2. 随机情况下均值为0: ARI在0附近波动\n",
    "3. 有界: 取值为-1,1\n",
    "4. 对聚类结果形状无要求\n",
    "\n",
    "缺点:\n",
    "1. 不调整的RI在类别数多的时候, 趋向于1\n",
    "2. 需要知道真实的label"
   ]
  },
  {
   "cell_type": "code",
   "execution_count": 122,
   "metadata": {
    "execution": {
     "iopub.execute_input": "2022-01-23T13:00:55.783764Z",
     "iopub.status.busy": "2022-01-23T13:00:55.783550Z",
     "iopub.status.idle": "2022-01-23T13:00:55.786902Z",
     "shell.execute_reply": "2022-01-23T13:00:55.786223Z",
     "shell.execute_reply.started": "2022-01-23T13:00:55.783744Z"
    }
   },
   "outputs": [],
   "source": [
    "labels_true = [0, 0, 0, 1, 1, 1]\n",
    "labels_pred = [0, 0, 1, 1, 3, 3]"
   ]
  },
  {
   "cell_type": "code",
   "execution_count": 47,
   "metadata": {
    "execution": {
     "iopub.execute_input": "2022-01-23T12:02:54.941977Z",
     "iopub.status.busy": "2022-01-23T12:02:54.941062Z",
     "iopub.status.idle": "2022-01-23T12:02:54.954154Z",
     "shell.execute_reply": "2022-01-23T12:02:54.952672Z",
     "shell.execute_reply.started": "2022-01-23T12:02:54.941919Z"
    }
   },
   "outputs": [],
   "source": [
    "def contingency_table(result, label):\n",
    "    \n",
    "    total_num = len(label)\n",
    "    \n",
    "    TP = TN = FP = FN = 0\n",
    "    for i in range(total_num):\n",
    "        for j in range(i + 1, total_num):\n",
    "            if label[i] == label[j] and result[i] == result[j]:\n",
    "                TP += 1\n",
    "            elif label[i] != label[j] and result[i] != result[j]:\n",
    "                TN += 1\n",
    "            elif label[i] != label[j] and result[i] == result[j]:\n",
    "                FP += 1\n",
    "            elif label[i] == label[j] and result[i] != result[j]:\n",
    "                FN += 1\n",
    "    return (TP, TN, FP, FN)\n",
    "def rand_index(result, label):\n",
    "    TP, TN, FP, FN = contingency_table(result, label)\n",
    "    return 1.0*(TP + TN)/(TP + FP + FN + TN)"
   ]
  },
  {
   "cell_type": "code",
   "execution_count": 123,
   "metadata": {
    "execution": {
     "iopub.execute_input": "2022-01-23T13:00:57.411775Z",
     "iopub.status.busy": "2022-01-23T13:00:57.411525Z",
     "iopub.status.idle": "2022-01-23T13:00:57.420407Z",
     "shell.execute_reply": "2022-01-23T13:00:57.419548Z",
     "shell.execute_reply.started": "2022-01-23T13:00:57.411750Z"
    }
   },
   "outputs": [
    {
     "data": {
      "text/plain": [
       "(0.6666666666666666, 0.6666666666666666)"
      ]
     },
     "execution_count": 123,
     "metadata": {},
     "output_type": "execute_result"
    }
   ],
   "source": [
    "metrics.rand_score(labels_true, labels_pred),rand_index(labels_true, labels_pred)"
   ]
  },
  {
   "cell_type": "code",
   "execution_count": 124,
   "metadata": {
    "execution": {
     "iopub.execute_input": "2022-01-23T13:00:58.334978Z",
     "iopub.status.busy": "2022-01-23T13:00:58.334795Z",
     "iopub.status.idle": "2022-01-23T13:00:58.339152Z",
     "shell.execute_reply": "2022-01-23T13:00:58.338666Z",
     "shell.execute_reply.started": "2022-01-23T13:00:58.334959Z"
    }
   },
   "outputs": [
    {
     "data": {
      "text/plain": [
       "0.24242424242424243"
      ]
     },
     "execution_count": 124,
     "metadata": {},
     "output_type": "execute_result"
    }
   ],
   "source": [
    "metrics.adjusted_rand_score(labels_true, labels_pred)"
   ]
  },
  {
   "cell_type": "code",
   "execution_count": 128,
   "metadata": {
    "execution": {
     "iopub.execute_input": "2022-01-23T13:01:36.786195Z",
     "iopub.status.busy": "2022-01-23T13:01:36.785764Z",
     "iopub.status.idle": "2022-01-23T13:01:36.796646Z",
     "shell.execute_reply": "2022-01-23T13:01:36.794754Z",
     "shell.execute_reply.started": "2022-01-23T13:01:36.786154Z"
    }
   },
   "outputs": [
    {
     "data": {
      "text/plain": [
       "array([1, 2, 2, 2, 1, 1])"
      ]
     },
     "execution_count": 128,
     "metadata": {},
     "output_type": "execute_result"
    }
   ],
   "source": [
    "np.append(np.random.choice(3, size = 3, replace = True), np.random.choice(3, size = 3, replace = True))"
   ]
  },
  {
   "cell_type": "code",
   "execution_count": 129,
   "metadata": {
    "execution": {
     "iopub.execute_input": "2022-01-23T13:01:51.366016Z",
     "iopub.status.busy": "2022-01-23T13:01:51.365212Z",
     "iopub.status.idle": "2022-01-23T13:01:52.147911Z",
     "shell.execute_reply": "2022-01-23T13:01:52.147188Z",
     "shell.execute_reply.started": "2022-01-23T13:01:51.365968Z"
    }
   },
   "outputs": [
    {
     "data": {
      "text/plain": [
       "(0.24242424242424243, -0.26646403242147887)"
      ]
     },
     "execution_count": 129,
     "metadata": {},
     "output_type": "execute_result"
    }
   ],
   "source": [
    "# Get Expectation of MI by simulation. This is not correct, see original paper: https://link.springer.com/article/10.1007/BF01908075\n",
    "np.random.seed(12)\n",
    "res = []\n",
    "for i in range(1000):\n",
    "    iter_pred = np.append(np.random.choice([0,1,2], size = 3, replace = True), np.random.choice([3,4,5], size = 3, replace = True))\n",
    "    res.append(metrics.rand_score(labels_true, iter_pred))\n",
    "# AMI\n",
    "metrics.adjusted_rand_score(labels_true, labels_pred),\\\n",
    "(metrics.rand_score(labels_true, labels_pred) - np.mean(res))/(np.max(res) - np.mean(res))"
   ]
  },
  {
   "cell_type": "code",
   "execution_count": 70,
   "metadata": {
    "execution": {
     "iopub.execute_input": "2022-01-23T12:15:27.931767Z",
     "iopub.status.busy": "2022-01-23T12:15:27.931255Z",
     "iopub.status.idle": "2022-01-23T12:15:27.946159Z",
     "shell.execute_reply": "2022-01-23T12:15:27.944911Z",
     "shell.execute_reply.started": "2022-01-23T12:15:27.931646Z"
    }
   },
   "outputs": [
    {
     "data": {
      "text/plain": [
       "(0.9826262626262626, 0.014035575319622013)"
      ]
     },
     "execution_count": 70,
     "metadata": {},
     "output_type": "execute_result"
    }
   ],
   "source": [
    "# K= 100, RI tends to be 1\n",
    "labels_true = np.random.randint(0,100,size = 100)\n",
    "labels_pred = np.random.randint(0,100,size = 100)\n",
    "metrics.rand_score(labels_true, labels_pred), metrics.adjusted_rand_score(labels_true, labels_pred)"
   ]
  },
  {
   "cell_type": "markdown",
   "metadata": {
    "execution": {
     "iopub.execute_input": "2022-01-23T12:26:56.783443Z",
     "iopub.status.busy": "2022-01-23T12:26:56.783229Z",
     "iopub.status.idle": "2022-01-23T12:26:56.786196Z",
     "shell.execute_reply": "2022-01-23T12:26:56.785456Z",
     "shell.execute_reply.started": "2022-01-23T12:26:56.783421Z"
    }
   },
   "source": [
    "## Mutual Information \n",
    "Assume two label assignments(of the same N objects), U and V. Their entropy is the amount of uncertainty for a partition set, define by:\n",
    "$$H(U)=-\\sum_{i=1}^{|U|} P(i) \\log (P(i))$$\n",
    "$$H(V)=-\\sum_{j=1}^{|V|} P^{\\prime}(j) \\log \\left(P^{\\prime}(j)\\right)$$\n",
    "The mutual information(MI) between U and V is calculated by:\n",
    "$$\\operatorname{MI}(U, V)=\\sum_{i=1}^{|U|} \\sum_{j=1}^{|V|} P(i, j) \\log \\left(\\frac{P(i, j)}{P(i) P^{\\prime}(j)}\\right)$$\n",
    "also can be expressed in set cardinality formulation:\n",
    "$$\\operatorname{MI}(U, V)=\\sum_{i=1}^{|U|} \\sum_{j=1}^{|V|} \\frac{\\left|U_{i} \\cap V_{j}\\right|}{N} \\log \\left(\\frac{N\\left|U_{i} \\cap V_{j}\\right|}{\\left|U_{i}\\right|\\left|V_{j}\\right|}\\right)$$\n",
    "\n",
    "\n",
    "normlized mutual information is defined as:\n",
    "$$\\operatorname{NMI}(U, V)=\\frac{\\operatorname{MI}(U, V)}{\\operatorname{mean}(H(U), H(V))}$$\n",
    "\n",
    "adjusted mutual infromation is defined as:\n",
    "$$\\mathrm{AMI}=\\frac{\\mathrm{MI}-E[\\mathrm{MI}]}{\\operatorname{mean}(H(U), H(V))-E[\\mathrm{MI}]}$$\n",
    "where, \n",
    "$$E[\\operatorname{MI}(U, V)]=\\sum_{i=1}^{|U|} \\sum_{j=1}^{|V|} \\sum_{n_{i j}=\\left(a_{i}+b_{j}-N\\right)^{+}}^{\\min \\left(a_{i}, b_{j}\\right)} \\frac{n_{i j}}{N} \\log \\left(\\frac{N \\cdot n_{i j}}{a_{i} b_{j}}\\right) \\frac{a_{i} ! b_{j} !\\left(N-a_{i}\\right) !\\left(N-b_{j}\\right) !}{N ! n_{i j} !\\left(a_{i}-n_{i j}\\right) !\\left(b_{j}-n_{i j}\\right) !\\left(N-a_{i}-b_{j}+n_{i j}\\right) !}$$\n",
    "\n",
    "优点:\n",
    "1. 随机情况下, AMI接近与0\n",
    "2. 有界: [-1,1]之间\n",
    "\n",
    "缺点:\n",
    "1. NMI和MI在随机情况下并不接近于0\n",
    "2. 需要知道真实的label"
   ]
  },
  {
   "cell_type": "code",
   "execution_count": 77,
   "metadata": {
    "execution": {
     "iopub.execute_input": "2022-01-23T12:27:56.784653Z",
     "iopub.status.busy": "2022-01-23T12:27:56.784387Z",
     "iopub.status.idle": "2022-01-23T12:27:56.789486Z",
     "shell.execute_reply": "2022-01-23T12:27:56.788369Z",
     "shell.execute_reply.started": "2022-01-23T12:27:56.784628Z"
    }
   },
   "outputs": [],
   "source": [
    "labels_true = [0, 0, 0, 1, 1, 1]\n",
    "labels_pred = [0, 0, 1, 1, 2, 2]"
   ]
  },
  {
   "cell_type": "code",
   "execution_count": 96,
   "metadata": {
    "execution": {
     "iopub.execute_input": "2022-01-23T12:50:30.072855Z",
     "iopub.status.busy": "2022-01-23T12:50:30.072645Z",
     "iopub.status.idle": "2022-01-23T12:50:30.077130Z",
     "shell.execute_reply": "2022-01-23T12:50:30.076336Z",
     "shell.execute_reply.started": "2022-01-23T12:50:30.072834Z"
    }
   },
   "outputs": [],
   "source": [
    "# self-define entroy function\n",
    "def entropy1(labels, base=None):\n",
    "    value,counts = np.unique(labels, return_counts=True)\n",
    "    return entropy(counts, base=base)"
   ]
  },
  {
   "cell_type": "code",
   "execution_count": 100,
   "metadata": {
    "execution": {
     "iopub.execute_input": "2022-01-23T12:51:20.838018Z",
     "iopub.status.busy": "2022-01-23T12:51:20.837609Z",
     "iopub.status.idle": "2022-01-23T12:51:20.845883Z",
     "shell.execute_reply": "2022-01-23T12:51:20.845022Z",
     "shell.execute_reply.started": "2022-01-23T12:51:20.837977Z"
    }
   },
   "outputs": [
    {
     "data": {
      "text/plain": [
       "0.4620981203732969"
      ]
     },
     "execution_count": 100,
     "metadata": {},
     "output_type": "execute_result"
    }
   ],
   "source": [
    "# MI\n",
    "metrics.mutual_info_score(labels_true, labels_pred)"
   ]
  },
  {
   "cell_type": "code",
   "execution_count": 99,
   "metadata": {
    "execution": {
     "iopub.execute_input": "2022-01-23T12:51:13.872320Z",
     "iopub.status.busy": "2022-01-23T12:51:13.872106Z",
     "iopub.status.idle": "2022-01-23T12:51:13.880754Z",
     "shell.execute_reply": "2022-01-23T12:51:13.880224Z",
     "shell.execute_reply.started": "2022-01-23T12:51:13.872298Z"
    }
   },
   "outputs": [
    {
     "data": {
      "text/plain": [
       "(0.5158037429793889, 0.5158037429793888)"
      ]
     },
     "execution_count": 99,
     "metadata": {},
     "output_type": "execute_result"
    }
   ],
   "source": [
    "# NMI\n",
    "metrics.normalized_mutual_info_score(labels_true, labels_pred) ,\\\n",
    "metrics.mutual_info_score(labels_true, labels_pred)/np.mean([entropy1(labels_true), entropy1(labels_pred)])"
   ]
  },
  {
   "cell_type": "code",
   "execution_count": 116,
   "metadata": {
    "execution": {
     "iopub.execute_input": "2022-01-23T12:55:00.808177Z",
     "iopub.status.busy": "2022-01-23T12:55:00.807903Z",
     "iopub.status.idle": "2022-01-23T12:55:01.734412Z",
     "shell.execute_reply": "2022-01-23T12:55:01.733784Z",
     "shell.execute_reply.started": "2022-01-23T12:55:00.808156Z"
    }
   },
   "outputs": [
    {
     "data": {
      "text/plain": [
       "(0.2987924581708901, 0.29457695646633375)"
      ]
     },
     "execution_count": 116,
     "metadata": {},
     "output_type": "execute_result"
    }
   ],
   "source": [
    "# Get Expectation of MI by simulation\n",
    "np.random.seed(12)\n",
    "res = []\n",
    "for i in range(1000):\n",
    "    iter_pred = np.random.choice(labels_pred, size = labels_pred.__len__(), replace = False)\n",
    "    res.append(metrics.mutual_info_score(labels_true, iter_pred))\n",
    "# AMI\n",
    "metrics.adjusted_mutual_info_score(labels_true, labels_pred),\\\n",
    "(metrics.mutual_info_score(labels_true, labels_pred) - np.mean(res))/(np.mean([entropy1(labels_true), entropy1(labels_pred)]) - np.mean(res))"
   ]
  },
  {
   "cell_type": "markdown",
   "metadata": {
    "execution": {
     "iopub.execute_input": "2022-01-23T13:10:30.952860Z",
     "iopub.status.busy": "2022-01-23T13:10:30.952489Z",
     "iopub.status.idle": "2022-01-23T13:10:30.956799Z",
     "shell.execute_reply": "2022-01-23T13:10:30.955775Z",
     "shell.execute_reply.started": "2022-01-23T13:10:30.952817Z"
    }
   },
   "source": [
    "## Homogeneity, completeness and V-measure\n",
    "homogeneity: each cluster contains only members of a single class.\n",
    "\n",
    "completeness: all members of a given class are assigned to the same cluster.\n",
    "\n",
    "v_measure: harmonic mean of homogeneity and completness\n",
    "$$v=\\frac{(1+\\beta) \\times \\text { homogeneity } \\times \\text { completeness }}{(\\beta \\times \\text { homogeneity }+\\text { completeness })}$$\n",
    "\n",
    "优点:\n",
    "1. 值有界: 都介于0和1之间\n",
    "2. 可解释性强: 类似于召回和精准\n",
    "\n",
    "缺点:\n",
    "1. 随机情况下不为0. 样本量>1000, 类别<=10的时候可用.\n",
    "2. 需要真实值."
   ]
  },
  {
   "cell_type": "code",
   "execution_count": 132,
   "metadata": {
    "execution": {
     "iopub.execute_input": "2022-01-23T13:14:35.034026Z",
     "iopub.status.busy": "2022-01-23T13:14:35.033782Z",
     "iopub.status.idle": "2022-01-23T13:14:35.047036Z",
     "shell.execute_reply": "2022-01-23T13:14:35.045870Z",
     "shell.execute_reply.started": "2022-01-23T13:14:35.034002Z"
    }
   },
   "outputs": [
    {
     "data": {
      "text/plain": [
       "(0.6666666666666669, 0.420619835714305)"
      ]
     },
     "execution_count": 132,
     "metadata": {},
     "output_type": "execute_result"
    }
   ],
   "source": [
    "metrics.homogeneity_score(labels_true, labels_pred),metrics.completeness_score(labels_true, labels_pred)"
   ]
  },
  {
   "cell_type": "code",
   "execution_count": 133,
   "metadata": {
    "execution": {
     "iopub.execute_input": "2022-01-23T13:14:41.423485Z",
     "iopub.status.busy": "2022-01-23T13:14:41.423045Z",
     "iopub.status.idle": "2022-01-23T13:14:41.432389Z",
     "shell.execute_reply": "2022-01-23T13:14:41.431619Z",
     "shell.execute_reply.started": "2022-01-23T13:14:41.423452Z"
    }
   },
   "outputs": [
    {
     "data": {
      "text/plain": [
       "0.5158037429793889"
      ]
     },
     "execution_count": 133,
     "metadata": {},
     "output_type": "execute_result"
    }
   ],
   "source": [
    "metrics.v_measure_score(labels_true, labels_pred)"
   ]
  },
  {
   "cell_type": "code",
   "execution_count": null,
   "metadata": {},
   "outputs": [],
   "source": []
  }
 ],
 "metadata": {
  "kernelspec": {
   "name": "conda-env-allpython38-py",
   "language": "python",
   "display_name": "Python [conda env:allpython38] *"
  },
  "language_info": {
   "codemirror_mode": {
    "name": "ipython",
    "version": 3
   },
   "file_extension": ".py",
   "mimetype": "text/x-python",
   "name": "python",
   "nbconvert_exporter": "python",
   "pygments_lexer": "ipython3",
   "version": "3.6.12"
  }
 },
 "nbformat": 4,
 "nbformat_minor": 4
}