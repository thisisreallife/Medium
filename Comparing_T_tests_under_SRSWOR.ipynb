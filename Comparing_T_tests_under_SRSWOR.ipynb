{
  "nbformat": 4,
  "nbformat_minor": 0,
  "metadata": {
    "colab": {
      "provenance": [],
      "collapsed_sections": [],
      "authorship_tag": "ABX9TyO+sRzzfy0tPMoAom6C3mNP",
      "include_colab_link": true
    },
    "kernelspec": {
      "name": "python3",
      "display_name": "Python 3"
    },
    "language_info": {
      "name": "python"
    },
    "widgets": {
      "application/vnd.jupyter.widget-state+json": {
        "095d9a417fcf4a89aa70176acb64378f": {
          "model_module": "@jupyter-widgets/controls",
          "model_name": "HBoxModel",
          "model_module_version": "1.5.0",
          "state": {
            "_dom_classes": [],
            "_model_module": "@jupyter-widgets/controls",
            "_model_module_version": "1.5.0",
            "_model_name": "HBoxModel",
            "_view_count": null,
            "_view_module": "@jupyter-widgets/controls",
            "_view_module_version": "1.5.0",
            "_view_name": "HBoxView",
            "box_style": "",
            "children": [
              "IPY_MODEL_c7e185f5e093443db2ffaa4eb5317210",
              "IPY_MODEL_5e60f8497541499b8fd038b240aaf78d",
              "IPY_MODEL_31bfff5556ef407993d28149449675a4"
            ],
            "layout": "IPY_MODEL_f18785353e1d4025a80d5a7a72856888"
          }
        },
        "c7e185f5e093443db2ffaa4eb5317210": {
          "model_module": "@jupyter-widgets/controls",
          "model_name": "HTMLModel",
          "model_module_version": "1.5.0",
          "state": {
            "_dom_classes": [],
            "_model_module": "@jupyter-widgets/controls",
            "_model_module_version": "1.5.0",
            "_model_name": "HTMLModel",
            "_view_count": null,
            "_view_module": "@jupyter-widgets/controls",
            "_view_module_version": "1.5.0",
            "_view_name": "HTMLView",
            "description": "",
            "description_tooltip": null,
            "layout": "IPY_MODEL_7ff70907df8e4c77b8b09609e633c0b3",
            "placeholder": "​",
            "style": "IPY_MODEL_2e3aa646dbe145629cf2dba348f17a94",
            "value": "100%"
          }
        },
        "5e60f8497541499b8fd038b240aaf78d": {
          "model_module": "@jupyter-widgets/controls",
          "model_name": "FloatProgressModel",
          "model_module_version": "1.5.0",
          "state": {
            "_dom_classes": [],
            "_model_module": "@jupyter-widgets/controls",
            "_model_module_version": "1.5.0",
            "_model_name": "FloatProgressModel",
            "_view_count": null,
            "_view_module": "@jupyter-widgets/controls",
            "_view_module_version": "1.5.0",
            "_view_name": "ProgressView",
            "bar_style": "success",
            "description": "",
            "description_tooltip": null,
            "layout": "IPY_MODEL_ef7d105ea52b43cc9ccb9a0a6fc4bb36",
            "max": 10000,
            "min": 0,
            "orientation": "horizontal",
            "style": "IPY_MODEL_7c6bab0887eb4f2c91de6a200ce93d84",
            "value": 10000
          }
        },
        "31bfff5556ef407993d28149449675a4": {
          "model_module": "@jupyter-widgets/controls",
          "model_name": "HTMLModel",
          "model_module_version": "1.5.0",
          "state": {
            "_dom_classes": [],
            "_model_module": "@jupyter-widgets/controls",
            "_model_module_version": "1.5.0",
            "_model_name": "HTMLModel",
            "_view_count": null,
            "_view_module": "@jupyter-widgets/controls",
            "_view_module_version": "1.5.0",
            "_view_name": "HTMLView",
            "description": "",
            "description_tooltip": null,
            "layout": "IPY_MODEL_06e75aa5c6f44c47bb4affa3a90ddfb2",
            "placeholder": "​",
            "style": "IPY_MODEL_09843aada6d94b78a72cec778864dc58",
            "value": " 10000/10000 [00:05&lt;00:00, 1723.16it/s]"
          }
        },
        "f18785353e1d4025a80d5a7a72856888": {
          "model_module": "@jupyter-widgets/base",
          "model_name": "LayoutModel",
          "model_module_version": "1.2.0",
          "state": {
            "_model_module": "@jupyter-widgets/base",
            "_model_module_version": "1.2.0",
            "_model_name": "LayoutModel",
            "_view_count": null,
            "_view_module": "@jupyter-widgets/base",
            "_view_module_version": "1.2.0",
            "_view_name": "LayoutView",
            "align_content": null,
            "align_items": null,
            "align_self": null,
            "border": null,
            "bottom": null,
            "display": null,
            "flex": null,
            "flex_flow": null,
            "grid_area": null,
            "grid_auto_columns": null,
            "grid_auto_flow": null,
            "grid_auto_rows": null,
            "grid_column": null,
            "grid_gap": null,
            "grid_row": null,
            "grid_template_areas": null,
            "grid_template_columns": null,
            "grid_template_rows": null,
            "height": null,
            "justify_content": null,
            "justify_items": null,
            "left": null,
            "margin": null,
            "max_height": null,
            "max_width": null,
            "min_height": null,
            "min_width": null,
            "object_fit": null,
            "object_position": null,
            "order": null,
            "overflow": null,
            "overflow_x": null,
            "overflow_y": null,
            "padding": null,
            "right": null,
            "top": null,
            "visibility": null,
            "width": null
          }
        },
        "7ff70907df8e4c77b8b09609e633c0b3": {
          "model_module": "@jupyter-widgets/base",
          "model_name": "LayoutModel",
          "model_module_version": "1.2.0",
          "state": {
            "_model_module": "@jupyter-widgets/base",
            "_model_module_version": "1.2.0",
            "_model_name": "LayoutModel",
            "_view_count": null,
            "_view_module": "@jupyter-widgets/base",
            "_view_module_version": "1.2.0",
            "_view_name": "LayoutView",
            "align_content": null,
            "align_items": null,
            "align_self": null,
            "border": null,
            "bottom": null,
            "display": null,
            "flex": null,
            "flex_flow": null,
            "grid_area": null,
            "grid_auto_columns": null,
            "grid_auto_flow": null,
            "grid_auto_rows": null,
            "grid_column": null,
            "grid_gap": null,
            "grid_row": null,
            "grid_template_areas": null,
            "grid_template_columns": null,
            "grid_template_rows": null,
            "height": null,
            "justify_content": null,
            "justify_items": null,
            "left": null,
            "margin": null,
            "max_height": null,
            "max_width": null,
            "min_height": null,
            "min_width": null,
            "object_fit": null,
            "object_position": null,
            "order": null,
            "overflow": null,
            "overflow_x": null,
            "overflow_y": null,
            "padding": null,
            "right": null,
            "top": null,
            "visibility": null,
            "width": null
          }
        },
        "2e3aa646dbe145629cf2dba348f17a94": {
          "model_module": "@jupyter-widgets/controls",
          "model_name": "DescriptionStyleModel",
          "model_module_version": "1.5.0",
          "state": {
            "_model_module": "@jupyter-widgets/controls",
            "_model_module_version": "1.5.0",
            "_model_name": "DescriptionStyleModel",
            "_view_count": null,
            "_view_module": "@jupyter-widgets/base",
            "_view_module_version": "1.2.0",
            "_view_name": "StyleView",
            "description_width": ""
          }
        },
        "ef7d105ea52b43cc9ccb9a0a6fc4bb36": {
          "model_module": "@jupyter-widgets/base",
          "model_name": "LayoutModel",
          "model_module_version": "1.2.0",
          "state": {
            "_model_module": "@jupyter-widgets/base",
            "_model_module_version": "1.2.0",
            "_model_name": "LayoutModel",
            "_view_count": null,
            "_view_module": "@jupyter-widgets/base",
            "_view_module_version": "1.2.0",
            "_view_name": "LayoutView",
            "align_content": null,
            "align_items": null,
            "align_self": null,
            "border": null,
            "bottom": null,
            "display": null,
            "flex": null,
            "flex_flow": null,
            "grid_area": null,
            "grid_auto_columns": null,
            "grid_auto_flow": null,
            "grid_auto_rows": null,
            "grid_column": null,
            "grid_gap": null,
            "grid_row": null,
            "grid_template_areas": null,
            "grid_template_columns": null,
            "grid_template_rows": null,
            "height": null,
            "justify_content": null,
            "justify_items": null,
            "left": null,
            "margin": null,
            "max_height": null,
            "max_width": null,
            "min_height": null,
            "min_width": null,
            "object_fit": null,
            "object_position": null,
            "order": null,
            "overflow": null,
            "overflow_x": null,
            "overflow_y": null,
            "padding": null,
            "right": null,
            "top": null,
            "visibility": null,
            "width": null
          }
        },
        "7c6bab0887eb4f2c91de6a200ce93d84": {
          "model_module": "@jupyter-widgets/controls",
          "model_name": "ProgressStyleModel",
          "model_module_version": "1.5.0",
          "state": {
            "_model_module": "@jupyter-widgets/controls",
            "_model_module_version": "1.5.0",
            "_model_name": "ProgressStyleModel",
            "_view_count": null,
            "_view_module": "@jupyter-widgets/base",
            "_view_module_version": "1.2.0",
            "_view_name": "StyleView",
            "bar_color": null,
            "description_width": ""
          }
        },
        "06e75aa5c6f44c47bb4affa3a90ddfb2": {
          "model_module": "@jupyter-widgets/base",
          "model_name": "LayoutModel",
          "model_module_version": "1.2.0",
          "state": {
            "_model_module": "@jupyter-widgets/base",
            "_model_module_version": "1.2.0",
            "_model_name": "LayoutModel",
            "_view_count": null,
            "_view_module": "@jupyter-widgets/base",
            "_view_module_version": "1.2.0",
            "_view_name": "LayoutView",
            "align_content": null,
            "align_items": null,
            "align_self": null,
            "border": null,
            "bottom": null,
            "display": null,
            "flex": null,
            "flex_flow": null,
            "grid_area": null,
            "grid_auto_columns": null,
            "grid_auto_flow": null,
            "grid_auto_rows": null,
            "grid_column": null,
            "grid_gap": null,
            "grid_row": null,
            "grid_template_areas": null,
            "grid_template_columns": null,
            "grid_template_rows": null,
            "height": null,
            "justify_content": null,
            "justify_items": null,
            "left": null,
            "margin": null,
            "max_height": null,
            "max_width": null,
            "min_height": null,
            "min_width": null,
            "object_fit": null,
            "object_position": null,
            "order": null,
            "overflow": null,
            "overflow_x": null,
            "overflow_y": null,
            "padding": null,
            "right": null,
            "top": null,
            "visibility": null,
            "width": null
          }
        },
        "09843aada6d94b78a72cec778864dc58": {
          "model_module": "@jupyter-widgets/controls",
          "model_name": "DescriptionStyleModel",
          "model_module_version": "1.5.0",
          "state": {
            "_model_module": "@jupyter-widgets/controls",
            "_model_module_version": "1.5.0",
            "_model_name": "DescriptionStyleModel",
            "_view_count": null,
            "_view_module": "@jupyter-widgets/base",
            "_view_module_version": "1.2.0",
            "_view_name": "StyleView",
            "description_width": ""
          }
        },
        "661e155b206543468e065607ddd603bd": {
          "model_module": "@jupyter-widgets/controls",
          "model_name": "HBoxModel",
          "model_module_version": "1.5.0",
          "state": {
            "_dom_classes": [],
            "_model_module": "@jupyter-widgets/controls",
            "_model_module_version": "1.5.0",
            "_model_name": "HBoxModel",
            "_view_count": null,
            "_view_module": "@jupyter-widgets/controls",
            "_view_module_version": "1.5.0",
            "_view_name": "HBoxView",
            "box_style": "",
            "children": [
              "IPY_MODEL_9371e958ffe34c1d99614885ed049d36",
              "IPY_MODEL_8c4d1b2478e349f69ae3542b5afc8d45",
              "IPY_MODEL_01d11ae290b14e11b6a505a12c0790f2"
            ],
            "layout": "IPY_MODEL_2f75cfae5b5548b1a3e74ebd13503b3b"
          }
        },
        "9371e958ffe34c1d99614885ed049d36": {
          "model_module": "@jupyter-widgets/controls",
          "model_name": "HTMLModel",
          "model_module_version": "1.5.0",
          "state": {
            "_dom_classes": [],
            "_model_module": "@jupyter-widgets/controls",
            "_model_module_version": "1.5.0",
            "_model_name": "HTMLModel",
            "_view_count": null,
            "_view_module": "@jupyter-widgets/controls",
            "_view_module_version": "1.5.0",
            "_view_name": "HTMLView",
            "description": "",
            "description_tooltip": null,
            "layout": "IPY_MODEL_7bf1f731fd714d31b143ea6c73315055",
            "placeholder": "​",
            "style": "IPY_MODEL_4741558c5447458fa0ae74463bec579a",
            "value": "100%"
          }
        },
        "8c4d1b2478e349f69ae3542b5afc8d45": {
          "model_module": "@jupyter-widgets/controls",
          "model_name": "FloatProgressModel",
          "model_module_version": "1.5.0",
          "state": {
            "_dom_classes": [],
            "_model_module": "@jupyter-widgets/controls",
            "_model_module_version": "1.5.0",
            "_model_name": "FloatProgressModel",
            "_view_count": null,
            "_view_module": "@jupyter-widgets/controls",
            "_view_module_version": "1.5.0",
            "_view_name": "ProgressView",
            "bar_style": "success",
            "description": "",
            "description_tooltip": null,
            "layout": "IPY_MODEL_9efb0441ec564962a0c3e9b25a51855b",
            "max": 10000,
            "min": 0,
            "orientation": "horizontal",
            "style": "IPY_MODEL_67d3e364abcd49fe94e4141d98029165",
            "value": 10000
          }
        },
        "01d11ae290b14e11b6a505a12c0790f2": {
          "model_module": "@jupyter-widgets/controls",
          "model_name": "HTMLModel",
          "model_module_version": "1.5.0",
          "state": {
            "_dom_classes": [],
            "_model_module": "@jupyter-widgets/controls",
            "_model_module_version": "1.5.0",
            "_model_name": "HTMLModel",
            "_view_count": null,
            "_view_module": "@jupyter-widgets/controls",
            "_view_module_version": "1.5.0",
            "_view_name": "HTMLView",
            "description": "",
            "description_tooltip": null,
            "layout": "IPY_MODEL_223d99f018534b69a676847b285b3a8e",
            "placeholder": "​",
            "style": "IPY_MODEL_203c1a4bf726482f8f6088eba8a40fd8",
            "value": " 10000/10000 [00:08&lt;00:00, 1204.09it/s]"
          }
        },
        "2f75cfae5b5548b1a3e74ebd13503b3b": {
          "model_module": "@jupyter-widgets/base",
          "model_name": "LayoutModel",
          "model_module_version": "1.2.0",
          "state": {
            "_model_module": "@jupyter-widgets/base",
            "_model_module_version": "1.2.0",
            "_model_name": "LayoutModel",
            "_view_count": null,
            "_view_module": "@jupyter-widgets/base",
            "_view_module_version": "1.2.0",
            "_view_name": "LayoutView",
            "align_content": null,
            "align_items": null,
            "align_self": null,
            "border": null,
            "bottom": null,
            "display": null,
            "flex": null,
            "flex_flow": null,
            "grid_area": null,
            "grid_auto_columns": null,
            "grid_auto_flow": null,
            "grid_auto_rows": null,
            "grid_column": null,
            "grid_gap": null,
            "grid_row": null,
            "grid_template_areas": null,
            "grid_template_columns": null,
            "grid_template_rows": null,
            "height": null,
            "justify_content": null,
            "justify_items": null,
            "left": null,
            "margin": null,
            "max_height": null,
            "max_width": null,
            "min_height": null,
            "min_width": null,
            "object_fit": null,
            "object_position": null,
            "order": null,
            "overflow": null,
            "overflow_x": null,
            "overflow_y": null,
            "padding": null,
            "right": null,
            "top": null,
            "visibility": null,
            "width": null
          }
        },
        "7bf1f731fd714d31b143ea6c73315055": {
          "model_module": "@jupyter-widgets/base",
          "model_name": "LayoutModel",
          "model_module_version": "1.2.0",
          "state": {
            "_model_module": "@jupyter-widgets/base",
            "_model_module_version": "1.2.0",
            "_model_name": "LayoutModel",
            "_view_count": null,
            "_view_module": "@jupyter-widgets/base",
            "_view_module_version": "1.2.0",
            "_view_name": "LayoutView",
            "align_content": null,
            "align_items": null,
            "align_self": null,
            "border": null,
            "bottom": null,
            "display": null,
            "flex": null,
            "flex_flow": null,
            "grid_area": null,
            "grid_auto_columns": null,
            "grid_auto_flow": null,
            "grid_auto_rows": null,
            "grid_column": null,
            "grid_gap": null,
            "grid_row": null,
            "grid_template_areas": null,
            "grid_template_columns": null,
            "grid_template_rows": null,
            "height": null,
            "justify_content": null,
            "justify_items": null,
            "left": null,
            "margin": null,
            "max_height": null,
            "max_width": null,
            "min_height": null,
            "min_width": null,
            "object_fit": null,
            "object_position": null,
            "order": null,
            "overflow": null,
            "overflow_x": null,
            "overflow_y": null,
            "padding": null,
            "right": null,
            "top": null,
            "visibility": null,
            "width": null
          }
        },
        "4741558c5447458fa0ae74463bec579a": {
          "model_module": "@jupyter-widgets/controls",
          "model_name": "DescriptionStyleModel",
          "model_module_version": "1.5.0",
          "state": {
            "_model_module": "@jupyter-widgets/controls",
            "_model_module_version": "1.5.0",
            "_model_name": "DescriptionStyleModel",
            "_view_count": null,
            "_view_module": "@jupyter-widgets/base",
            "_view_module_version": "1.2.0",
            "_view_name": "StyleView",
            "description_width": ""
          }
        },
        "9efb0441ec564962a0c3e9b25a51855b": {
          "model_module": "@jupyter-widgets/base",
          "model_name": "LayoutModel",
          "model_module_version": "1.2.0",
          "state": {
            "_model_module": "@jupyter-widgets/base",
            "_model_module_version": "1.2.0",
            "_model_name": "LayoutModel",
            "_view_count": null,
            "_view_module": "@jupyter-widgets/base",
            "_view_module_version": "1.2.0",
            "_view_name": "LayoutView",
            "align_content": null,
            "align_items": null,
            "align_self": null,
            "border": null,
            "bottom": null,
            "display": null,
            "flex": null,
            "flex_flow": null,
            "grid_area": null,
            "grid_auto_columns": null,
            "grid_auto_flow": null,
            "grid_auto_rows": null,
            "grid_column": null,
            "grid_gap": null,
            "grid_row": null,
            "grid_template_areas": null,
            "grid_template_columns": null,
            "grid_template_rows": null,
            "height": null,
            "justify_content": null,
            "justify_items": null,
            "left": null,
            "margin": null,
            "max_height": null,
            "max_width": null,
            "min_height": null,
            "min_width": null,
            "object_fit": null,
            "object_position": null,
            "order": null,
            "overflow": null,
            "overflow_x": null,
            "overflow_y": null,
            "padding": null,
            "right": null,
            "top": null,
            "visibility": null,
            "width": null
          }
        },
        "67d3e364abcd49fe94e4141d98029165": {
          "model_module": "@jupyter-widgets/controls",
          "model_name": "ProgressStyleModel",
          "model_module_version": "1.5.0",
          "state": {
            "_model_module": "@jupyter-widgets/controls",
            "_model_module_version": "1.5.0",
            "_model_name": "ProgressStyleModel",
            "_view_count": null,
            "_view_module": "@jupyter-widgets/base",
            "_view_module_version": "1.2.0",
            "_view_name": "StyleView",
            "bar_color": null,
            "description_width": ""
          }
        },
        "223d99f018534b69a676847b285b3a8e": {
          "model_module": "@jupyter-widgets/base",
          "model_name": "LayoutModel",
          "model_module_version": "1.2.0",
          "state": {
            "_model_module": "@jupyter-widgets/base",
            "_model_module_version": "1.2.0",
            "_model_name": "LayoutModel",
            "_view_count": null,
            "_view_module": "@jupyter-widgets/base",
            "_view_module_version": "1.2.0",
            "_view_name": "LayoutView",
            "align_content": null,
            "align_items": null,
            "align_self": null,
            "border": null,
            "bottom": null,
            "display": null,
            "flex": null,
            "flex_flow": null,
            "grid_area": null,
            "grid_auto_columns": null,
            "grid_auto_flow": null,
            "grid_auto_rows": null,
            "grid_column": null,
            "grid_gap": null,
            "grid_row": null,
            "grid_template_areas": null,
            "grid_template_columns": null,
            "grid_template_rows": null,
            "height": null,
            "justify_content": null,
            "justify_items": null,
            "left": null,
            "margin": null,
            "max_height": null,
            "max_width": null,
            "min_height": null,
            "min_width": null,
            "object_fit": null,
            "object_position": null,
            "order": null,
            "overflow": null,
            "overflow_x": null,
            "overflow_y": null,
            "padding": null,
            "right": null,
            "top": null,
            "visibility": null,
            "width": null
          }
        },
        "203c1a4bf726482f8f6088eba8a40fd8": {
          "model_module": "@jupyter-widgets/controls",
          "model_name": "DescriptionStyleModel",
          "model_module_version": "1.5.0",
          "state": {
            "_model_module": "@jupyter-widgets/controls",
            "_model_module_version": "1.5.0",
            "_model_name": "DescriptionStyleModel",
            "_view_count": null,
            "_view_module": "@jupyter-widgets/base",
            "_view_module_version": "1.2.0",
            "_view_name": "StyleView",
            "description_width": ""
          }
        },
        "0dab0f0f71a84bd8a9434e90ee30692d": {
          "model_module": "@jupyter-widgets/controls",
          "model_name": "HBoxModel",
          "model_module_version": "1.5.0",
          "state": {
            "_dom_classes": [],
            "_model_module": "@jupyter-widgets/controls",
            "_model_module_version": "1.5.0",
            "_model_name": "HBoxModel",
            "_view_count": null,
            "_view_module": "@jupyter-widgets/controls",
            "_view_module_version": "1.5.0",
            "_view_name": "HBoxView",
            "box_style": "",
            "children": [
              "IPY_MODEL_a74f6ad8a2a94accaa00c51304d4eb14",
              "IPY_MODEL_2f0012c7ef334e04ad4bc6dd23761fda",
              "IPY_MODEL_fb5be8b8604f4b71b539a01b1a551e8e"
            ],
            "layout": "IPY_MODEL_c55e7202555741458a4abc8d501732ad"
          }
        },
        "a74f6ad8a2a94accaa00c51304d4eb14": {
          "model_module": "@jupyter-widgets/controls",
          "model_name": "HTMLModel",
          "model_module_version": "1.5.0",
          "state": {
            "_dom_classes": [],
            "_model_module": "@jupyter-widgets/controls",
            "_model_module_version": "1.5.0",
            "_model_name": "HTMLModel",
            "_view_count": null,
            "_view_module": "@jupyter-widgets/controls",
            "_view_module_version": "1.5.0",
            "_view_name": "HTMLView",
            "description": "",
            "description_tooltip": null,
            "layout": "IPY_MODEL_a4c454e96a9f4bafb81ec4b97a5309f8",
            "placeholder": "​",
            "style": "IPY_MODEL_164e44ffa64c4a2f9032a2376c12921e",
            "value": "100%"
          }
        },
        "2f0012c7ef334e04ad4bc6dd23761fda": {
          "model_module": "@jupyter-widgets/controls",
          "model_name": "FloatProgressModel",
          "model_module_version": "1.5.0",
          "state": {
            "_dom_classes": [],
            "_model_module": "@jupyter-widgets/controls",
            "_model_module_version": "1.5.0",
            "_model_name": "FloatProgressModel",
            "_view_count": null,
            "_view_module": "@jupyter-widgets/controls",
            "_view_module_version": "1.5.0",
            "_view_name": "ProgressView",
            "bar_style": "success",
            "description": "",
            "description_tooltip": null,
            "layout": "IPY_MODEL_ef042a43611a4591b819357532721a7f",
            "max": 10000,
            "min": 0,
            "orientation": "horizontal",
            "style": "IPY_MODEL_4b5f156fea0b46a3a679524502737cdb",
            "value": 10000
          }
        },
        "fb5be8b8604f4b71b539a01b1a551e8e": {
          "model_module": "@jupyter-widgets/controls",
          "model_name": "HTMLModel",
          "model_module_version": "1.5.0",
          "state": {
            "_dom_classes": [],
            "_model_module": "@jupyter-widgets/controls",
            "_model_module_version": "1.5.0",
            "_model_name": "HTMLModel",
            "_view_count": null,
            "_view_module": "@jupyter-widgets/controls",
            "_view_module_version": "1.5.0",
            "_view_name": "HTMLView",
            "description": "",
            "description_tooltip": null,
            "layout": "IPY_MODEL_53205330cbc747db8fbd59eec4a60eff",
            "placeholder": "​",
            "style": "IPY_MODEL_e7ebeb9aa6604bad8df445112dbf0580",
            "value": " 10000/10000 [00:04&lt;00:00, 2193.58it/s]"
          }
        },
        "c55e7202555741458a4abc8d501732ad": {
          "model_module": "@jupyter-widgets/base",
          "model_name": "LayoutModel",
          "model_module_version": "1.2.0",
          "state": {
            "_model_module": "@jupyter-widgets/base",
            "_model_module_version": "1.2.0",
            "_model_name": "LayoutModel",
            "_view_count": null,
            "_view_module": "@jupyter-widgets/base",
            "_view_module_version": "1.2.0",
            "_view_name": "LayoutView",
            "align_content": null,
            "align_items": null,
            "align_self": null,
            "border": null,
            "bottom": null,
            "display": null,
            "flex": null,
            "flex_flow": null,
            "grid_area": null,
            "grid_auto_columns": null,
            "grid_auto_flow": null,
            "grid_auto_rows": null,
            "grid_column": null,
            "grid_gap": null,
            "grid_row": null,
            "grid_template_areas": null,
            "grid_template_columns": null,
            "grid_template_rows": null,
            "height": null,
            "justify_content": null,
            "justify_items": null,
            "left": null,
            "margin": null,
            "max_height": null,
            "max_width": null,
            "min_height": null,
            "min_width": null,
            "object_fit": null,
            "object_position": null,
            "order": null,
            "overflow": null,
            "overflow_x": null,
            "overflow_y": null,
            "padding": null,
            "right": null,
            "top": null,
            "visibility": null,
            "width": null
          }
        },
        "a4c454e96a9f4bafb81ec4b97a5309f8": {
          "model_module": "@jupyter-widgets/base",
          "model_name": "LayoutModel",
          "model_module_version": "1.2.0",
          "state": {
            "_model_module": "@jupyter-widgets/base",
            "_model_module_version": "1.2.0",
            "_model_name": "LayoutModel",
            "_view_count": null,
            "_view_module": "@jupyter-widgets/base",
            "_view_module_version": "1.2.0",
            "_view_name": "LayoutView",
            "align_content": null,
            "align_items": null,
            "align_self": null,
            "border": null,
            "bottom": null,
            "display": null,
            "flex": null,
            "flex_flow": null,
            "grid_area": null,
            "grid_auto_columns": null,
            "grid_auto_flow": null,
            "grid_auto_rows": null,
            "grid_column": null,
            "grid_gap": null,
            "grid_row": null,
            "grid_template_areas": null,
            "grid_template_columns": null,
            "grid_template_rows": null,
            "height": null,
            "justify_content": null,
            "justify_items": null,
            "left": null,
            "margin": null,
            "max_height": null,
            "max_width": null,
            "min_height": null,
            "min_width": null,
            "object_fit": null,
            "object_position": null,
            "order": null,
            "overflow": null,
            "overflow_x": null,
            "overflow_y": null,
            "padding": null,
            "right": null,
            "top": null,
            "visibility": null,
            "width": null
          }
        },
        "164e44ffa64c4a2f9032a2376c12921e": {
          "model_module": "@jupyter-widgets/controls",
          "model_name": "DescriptionStyleModel",
          "model_module_version": "1.5.0",
          "state": {
            "_model_module": "@jupyter-widgets/controls",
            "_model_module_version": "1.5.0",
            "_model_name": "DescriptionStyleModel",
            "_view_count": null,
            "_view_module": "@jupyter-widgets/base",
            "_view_module_version": "1.2.0",
            "_view_name": "StyleView",
            "description_width": ""
          }
        },
        "ef042a43611a4591b819357532721a7f": {
          "model_module": "@jupyter-widgets/base",
          "model_name": "LayoutModel",
          "model_module_version": "1.2.0",
          "state": {
            "_model_module": "@jupyter-widgets/base",
            "_model_module_version": "1.2.0",
            "_model_name": "LayoutModel",
            "_view_count": null,
            "_view_module": "@jupyter-widgets/base",
            "_view_module_version": "1.2.0",
            "_view_name": "LayoutView",
            "align_content": null,
            "align_items": null,
            "align_self": null,
            "border": null,
            "bottom": null,
            "display": null,
            "flex": null,
            "flex_flow": null,
            "grid_area": null,
            "grid_auto_columns": null,
            "grid_auto_flow": null,
            "grid_auto_rows": null,
            "grid_column": null,
            "grid_gap": null,
            "grid_row": null,
            "grid_template_areas": null,
            "grid_template_columns": null,
            "grid_template_rows": null,
            "height": null,
            "justify_content": null,
            "justify_items": null,
            "left": null,
            "margin": null,
            "max_height": null,
            "max_width": null,
            "min_height": null,
            "min_width": null,
            "object_fit": null,
            "object_position": null,
            "order": null,
            "overflow": null,
            "overflow_x": null,
            "overflow_y": null,
            "padding": null,
            "right": null,
            "top": null,
            "visibility": null,
            "width": null
          }
        },
        "4b5f156fea0b46a3a679524502737cdb": {
          "model_module": "@jupyter-widgets/controls",
          "model_name": "ProgressStyleModel",
          "model_module_version": "1.5.0",
          "state": {
            "_model_module": "@jupyter-widgets/controls",
            "_model_module_version": "1.5.0",
            "_model_name": "ProgressStyleModel",
            "_view_count": null,
            "_view_module": "@jupyter-widgets/base",
            "_view_module_version": "1.2.0",
            "_view_name": "StyleView",
            "bar_color": null,
            "description_width": ""
          }
        },
        "53205330cbc747db8fbd59eec4a60eff": {
          "model_module": "@jupyter-widgets/base",
          "model_name": "LayoutModel",
          "model_module_version": "1.2.0",
          "state": {
            "_model_module": "@jupyter-widgets/base",
            "_model_module_version": "1.2.0",
            "_model_name": "LayoutModel",
            "_view_count": null,
            "_view_module": "@jupyter-widgets/base",
            "_view_module_version": "1.2.0",
            "_view_name": "LayoutView",
            "align_content": null,
            "align_items": null,
            "align_self": null,
            "border": null,
            "bottom": null,
            "display": null,
            "flex": null,
            "flex_flow": null,
            "grid_area": null,
            "grid_auto_columns": null,
            "grid_auto_flow": null,
            "grid_auto_rows": null,
            "grid_column": null,
            "grid_gap": null,
            "grid_row": null,
            "grid_template_areas": null,
            "grid_template_columns": null,
            "grid_template_rows": null,
            "height": null,
            "justify_content": null,
            "justify_items": null,
            "left": null,
            "margin": null,
            "max_height": null,
            "max_width": null,
            "min_height": null,
            "min_width": null,
            "object_fit": null,
            "object_position": null,
            "order": null,
            "overflow": null,
            "overflow_x": null,
            "overflow_y": null,
            "padding": null,
            "right": null,
            "top": null,
            "visibility": null,
            "width": null
          }
        },
        "e7ebeb9aa6604bad8df445112dbf0580": {
          "model_module": "@jupyter-widgets/controls",
          "model_name": "DescriptionStyleModel",
          "model_module_version": "1.5.0",
          "state": {
            "_model_module": "@jupyter-widgets/controls",
            "_model_module_version": "1.5.0",
            "_model_name": "DescriptionStyleModel",
            "_view_count": null,
            "_view_module": "@jupyter-widgets/base",
            "_view_module_version": "1.2.0",
            "_view_name": "StyleView",
            "description_width": ""
          }
        },
        "2ab18e42014e4b98ac168fd3d9537bc4": {
          "model_module": "@jupyter-widgets/controls",
          "model_name": "HBoxModel",
          "model_module_version": "1.5.0",
          "state": {
            "_dom_classes": [],
            "_model_module": "@jupyter-widgets/controls",
            "_model_module_version": "1.5.0",
            "_model_name": "HBoxModel",
            "_view_count": null,
            "_view_module": "@jupyter-widgets/controls",
            "_view_module_version": "1.5.0",
            "_view_name": "HBoxView",
            "box_style": "",
            "children": [
              "IPY_MODEL_4ceaceaceba145aeb0c4f2e2f89615d2",
              "IPY_MODEL_e1f71c0e1ee34ce59b5b6bfab060c291",
              "IPY_MODEL_b5af97a7e99744a1936f8f04b23d17fb"
            ],
            "layout": "IPY_MODEL_0a7bf56063274b19838eff8ddc38dd72"
          }
        },
        "4ceaceaceba145aeb0c4f2e2f89615d2": {
          "model_module": "@jupyter-widgets/controls",
          "model_name": "HTMLModel",
          "model_module_version": "1.5.0",
          "state": {
            "_dom_classes": [],
            "_model_module": "@jupyter-widgets/controls",
            "_model_module_version": "1.5.0",
            "_model_name": "HTMLModel",
            "_view_count": null,
            "_view_module": "@jupyter-widgets/controls",
            "_view_module_version": "1.5.0",
            "_view_name": "HTMLView",
            "description": "",
            "description_tooltip": null,
            "layout": "IPY_MODEL_7e883eb1a8a046d2a56f656ccf934a34",
            "placeholder": "​",
            "style": "IPY_MODEL_178cb5d9a3454d8f9119c3671cd3a823",
            "value": "100%"
          }
        },
        "e1f71c0e1ee34ce59b5b6bfab060c291": {
          "model_module": "@jupyter-widgets/controls",
          "model_name": "FloatProgressModel",
          "model_module_version": "1.5.0",
          "state": {
            "_dom_classes": [],
            "_model_module": "@jupyter-widgets/controls",
            "_model_module_version": "1.5.0",
            "_model_name": "FloatProgressModel",
            "_view_count": null,
            "_view_module": "@jupyter-widgets/controls",
            "_view_module_version": "1.5.0",
            "_view_name": "ProgressView",
            "bar_style": "success",
            "description": "",
            "description_tooltip": null,
            "layout": "IPY_MODEL_f0609eb93a4b4818aa151210f4d7e8ac",
            "max": 10000,
            "min": 0,
            "orientation": "horizontal",
            "style": "IPY_MODEL_4cd44632f3a448a295d7ffd60e1afc9d",
            "value": 10000
          }
        },
        "b5af97a7e99744a1936f8f04b23d17fb": {
          "model_module": "@jupyter-widgets/controls",
          "model_name": "HTMLModel",
          "model_module_version": "1.5.0",
          "state": {
            "_dom_classes": [],
            "_model_module": "@jupyter-widgets/controls",
            "_model_module_version": "1.5.0",
            "_model_name": "HTMLModel",
            "_view_count": null,
            "_view_module": "@jupyter-widgets/controls",
            "_view_module_version": "1.5.0",
            "_view_name": "HTMLView",
            "description": "",
            "description_tooltip": null,
            "layout": "IPY_MODEL_b54ed718355d441caf1126dfc9a93dff",
            "placeholder": "​",
            "style": "IPY_MODEL_d9f8bd3a8152408e9d2e0864ad9d4995",
            "value": " 10000/10000 [00:10&lt;00:00, 1018.69it/s]"
          }
        },
        "0a7bf56063274b19838eff8ddc38dd72": {
          "model_module": "@jupyter-widgets/base",
          "model_name": "LayoutModel",
          "model_module_version": "1.2.0",
          "state": {
            "_model_module": "@jupyter-widgets/base",
            "_model_module_version": "1.2.0",
            "_model_name": "LayoutModel",
            "_view_count": null,
            "_view_module": "@jupyter-widgets/base",
            "_view_module_version": "1.2.0",
            "_view_name": "LayoutView",
            "align_content": null,
            "align_items": null,
            "align_self": null,
            "border": null,
            "bottom": null,
            "display": null,
            "flex": null,
            "flex_flow": null,
            "grid_area": null,
            "grid_auto_columns": null,
            "grid_auto_flow": null,
            "grid_auto_rows": null,
            "grid_column": null,
            "grid_gap": null,
            "grid_row": null,
            "grid_template_areas": null,
            "grid_template_columns": null,
            "grid_template_rows": null,
            "height": null,
            "justify_content": null,
            "justify_items": null,
            "left": null,
            "margin": null,
            "max_height": null,
            "max_width": null,
            "min_height": null,
            "min_width": null,
            "object_fit": null,
            "object_position": null,
            "order": null,
            "overflow": null,
            "overflow_x": null,
            "overflow_y": null,
            "padding": null,
            "right": null,
            "top": null,
            "visibility": null,
            "width": null
          }
        },
        "7e883eb1a8a046d2a56f656ccf934a34": {
          "model_module": "@jupyter-widgets/base",
          "model_name": "LayoutModel",
          "model_module_version": "1.2.0",
          "state": {
            "_model_module": "@jupyter-widgets/base",
            "_model_module_version": "1.2.0",
            "_model_name": "LayoutModel",
            "_view_count": null,
            "_view_module": "@jupyter-widgets/base",
            "_view_module_version": "1.2.0",
            "_view_name": "LayoutView",
            "align_content": null,
            "align_items": null,
            "align_self": null,
            "border": null,
            "bottom": null,
            "display": null,
            "flex": null,
            "flex_flow": null,
            "grid_area": null,
            "grid_auto_columns": null,
            "grid_auto_flow": null,
            "grid_auto_rows": null,
            "grid_column": null,
            "grid_gap": null,
            "grid_row": null,
            "grid_template_areas": null,
            "grid_template_columns": null,
            "grid_template_rows": null,
            "height": null,
            "justify_content": null,
            "justify_items": null,
            "left": null,
            "margin": null,
            "max_height": null,
            "max_width": null,
            "min_height": null,
            "min_width": null,
            "object_fit": null,
            "object_position": null,
            "order": null,
            "overflow": null,
            "overflow_x": null,
            "overflow_y": null,
            "padding": null,
            "right": null,
            "top": null,
            "visibility": null,
            "width": null
          }
        },
        "178cb5d9a3454d8f9119c3671cd3a823": {
          "model_module": "@jupyter-widgets/controls",
          "model_name": "DescriptionStyleModel",
          "model_module_version": "1.5.0",
          "state": {
            "_model_module": "@jupyter-widgets/controls",
            "_model_module_version": "1.5.0",
            "_model_name": "DescriptionStyleModel",
            "_view_count": null,
            "_view_module": "@jupyter-widgets/base",
            "_view_module_version": "1.2.0",
            "_view_name": "StyleView",
            "description_width": ""
          }
        },
        "f0609eb93a4b4818aa151210f4d7e8ac": {
          "model_module": "@jupyter-widgets/base",
          "model_name": "LayoutModel",
          "model_module_version": "1.2.0",
          "state": {
            "_model_module": "@jupyter-widgets/base",
            "_model_module_version": "1.2.0",
            "_model_name": "LayoutModel",
            "_view_count": null,
            "_view_module": "@jupyter-widgets/base",
            "_view_module_version": "1.2.0",
            "_view_name": "LayoutView",
            "align_content": null,
            "align_items": null,
            "align_self": null,
            "border": null,
            "bottom": null,
            "display": null,
            "flex": null,
            "flex_flow": null,
            "grid_area": null,
            "grid_auto_columns": null,
            "grid_auto_flow": null,
            "grid_auto_rows": null,
            "grid_column": null,
            "grid_gap": null,
            "grid_row": null,
            "grid_template_areas": null,
            "grid_template_columns": null,
            "grid_template_rows": null,
            "height": null,
            "justify_content": null,
            "justify_items": null,
            "left": null,
            "margin": null,
            "max_height": null,
            "max_width": null,
            "min_height": null,
            "min_width": null,
            "object_fit": null,
            "object_position": null,
            "order": null,
            "overflow": null,
            "overflow_x": null,
            "overflow_y": null,
            "padding": null,
            "right": null,
            "top": null,
            "visibility": null,
            "width": null
          }
        },
        "4cd44632f3a448a295d7ffd60e1afc9d": {
          "model_module": "@jupyter-widgets/controls",
          "model_name": "ProgressStyleModel",
          "model_module_version": "1.5.0",
          "state": {
            "_model_module": "@jupyter-widgets/controls",
            "_model_module_version": "1.5.0",
            "_model_name": "ProgressStyleModel",
            "_view_count": null,
            "_view_module": "@jupyter-widgets/base",
            "_view_module_version": "1.2.0",
            "_view_name": "StyleView",
            "bar_color": null,
            "description_width": ""
          }
        },
        "b54ed718355d441caf1126dfc9a93dff": {
          "model_module": "@jupyter-widgets/base",
          "model_name": "LayoutModel",
          "model_module_version": "1.2.0",
          "state": {
            "_model_module": "@jupyter-widgets/base",
            "_model_module_version": "1.2.0",
            "_model_name": "LayoutModel",
            "_view_count": null,
            "_view_module": "@jupyter-widgets/base",
            "_view_module_version": "1.2.0",
            "_view_name": "LayoutView",
            "align_content": null,
            "align_items": null,
            "align_self": null,
            "border": null,
            "bottom": null,
            "display": null,
            "flex": null,
            "flex_flow": null,
            "grid_area": null,
            "grid_auto_columns": null,
            "grid_auto_flow": null,
            "grid_auto_rows": null,
            "grid_column": null,
            "grid_gap": null,
            "grid_row": null,
            "grid_template_areas": null,
            "grid_template_columns": null,
            "grid_template_rows": null,
            "height": null,
            "justify_content": null,
            "justify_items": null,
            "left": null,
            "margin": null,
            "max_height": null,
            "max_width": null,
            "min_height": null,
            "min_width": null,
            "object_fit": null,
            "object_position": null,
            "order": null,
            "overflow": null,
            "overflow_x": null,
            "overflow_y": null,
            "padding": null,
            "right": null,
            "top": null,
            "visibility": null,
            "width": null
          }
        },
        "d9f8bd3a8152408e9d2e0864ad9d4995": {
          "model_module": "@jupyter-widgets/controls",
          "model_name": "DescriptionStyleModel",
          "model_module_version": "1.5.0",
          "state": {
            "_model_module": "@jupyter-widgets/controls",
            "_model_module_version": "1.5.0",
            "_model_name": "DescriptionStyleModel",
            "_view_count": null,
            "_view_module": "@jupyter-widgets/base",
            "_view_module_version": "1.2.0",
            "_view_name": "StyleView",
            "description_width": ""
          }
        }
      }
    }
  },
  "cells": [
    {
      "cell_type": "markdown",
      "metadata": {
        "id": "view-in-github",
        "colab_type": "text"
      },
      "source": [
        "<a href=\"https://colab.research.google.com/github/thisisreallife/Medium/blob/master/Comparing_T_tests_under_SRSWOR.ipynb\" target=\"_parent\"><img src=\"https://colab.research.google.com/assets/colab-badge.svg\" alt=\"Open In Colab\"/></a>"
      ]
    },
    {
      "cell_type": "code",
      "execution_count": 229,
      "metadata": {
        "id": "Hb2OHbQLia1u"
      },
      "outputs": [],
      "source": [
        "%reset -f\n",
        "import numpy as np\n",
        "import pandas as pd\n",
        "from scipy.stats import norm, ttest_ind,t\n",
        "import scipy.stats as stats\n",
        "from tqdm.notebook import tqdm\n",
        "import matplotlib.pyplot as plt"
      ]
    },
    {
      "cell_type": "markdown",
      "source": [
        "## Some Utilities"
      ],
      "metadata": {
        "id": "6C2rNcJ-zJgn"
      }
    },
    {
      "cell_type": "code",
      "source": [
        "# Split sample into control and treatment arms equally.\n",
        "def get_2_bkts(data):\n",
        "    n = len(data)\n",
        "    random_numbers = norm.rvs(0,1,n)\n",
        "    return data[random_numbers<0], data[random_numbers>0]\n",
        "\n",
        "## T-testing considering sampling ratio of srswor\n",
        "def ttests_sample_ratio(data_a, data_b, f):\n",
        "    test_var = np.var(data_a)/len(data_a)*(1-f) + np.var(data_b)/len(data_b)*(1-f)\n",
        "    z_stats = (np.mean(data_a) - np.mean(data_b))/test_var**0.5\n",
        "    p_value = 2*(1-norm.cdf(abs(z_stats)))\n",
        "    return z_stats,p_value"
      ],
      "metadata": {
        "id": "9MtyPN2Npk6R"
      },
      "execution_count": 287,
      "outputs": []
    },
    {
      "cell_type": "code",
      "source": [
        "# test our ttest_sample_ratio. Our self-define function \n",
        "a = norm.rvs(0,1,10000)\n",
        "b = norm.rvs(0,1,10000)\n",
        "ttest_ind(a,b,equal_var = False), ttests_sample_ratio(a,b,0), ttests_sample_ratio(a,b,0.5)"
      ],
      "metadata": {
        "colab": {
          "base_uri": "https://localhost:8080/"
        },
        "id": "PTHtISPgqWJV",
        "outputId": "77c18d2c-706c-4da0-ee0e-1a263b56eb8e"
      },
      "execution_count": 338,
      "outputs": [
        {
          "output_type": "execute_result",
          "data": {
            "text/plain": [
              "(Ttest_indResult(statistic=-1.088244996474386, pvalue=0.27650008023591843),\n",
              " (-1.0882994128054686, 0.276462949689819),\n",
              " (-1.5390877895121693, 0.12378286558420859))"
            ]
          },
          "metadata": {},
          "execution_count": 338
        }
      ]
    },
    {
      "cell_type": "markdown",
      "source": [
        "## Comparing AA and AB performance in simulation "
      ],
      "metadata": {
        "id": "SXwIJqOMzSKh"
      }
    },
    {
      "cell_type": "markdown",
      "source": [
        "Now, we split population into 2 arms equally and test them base on 2 methods(considering sample ratio or not). First, we compare the p_values and t_stats of 1000 testing in AA situation. Then, we repeat in a AB situation."
      ],
      "metadata": {
        "id": "qhEbO2EXyjvN"
      }
    },
    {
      "cell_type": "code",
      "source": [
        "population = norm.rvs(10,2,10000)\n",
        "population1 = norm.rvs(10,2,10000)\n",
        "population2 = norm.rvs(10,2,10000)"
      ],
      "metadata": {
        "id": "kGb1azlIzIKc"
      },
      "execution_count": 288,
      "outputs": []
    },
    {
      "cell_type": "markdown",
      "source": [
        "We use __srs__ to draw 5000 samples from population, and then split into control group(\\~2500 samples) and treatment group(\\~2500 samples). We perform two sample T-test with/withour considering sampling ratio(f = 0.25)."
      ],
      "metadata": {
        "id": "4JiVzSm75mGG"
      }
    },
    {
      "cell_type": "code",
      "source": [
        "test_result_srs = []\n",
        "test_result_srswor = []\n",
        "for i in tqdm(range(10000)):\n",
        "    # get the sample of experiment\n",
        "    sample_iter_srs = np.random.choice(population, 5000, replace = True)\n",
        "    # sample_iter_srswor = np.random.choice(population, 5000, replace = False)\n",
        "    # get the sample of each experiment version\n",
        "    con_srs = np.random.choice(population, 2500, replace = True)\n",
        "    trt_srs = np.random.choice(population, 2500, replace = True)\n",
        "    # con_srswor, trt_srswor = get_2_bkts(sample_iter_srswor)\n",
        "    # conduct t-tests\n",
        "    test_result_srs.append(ttests_sample_ratio(con_srs, trt_srs, f = 0))\n",
        "    test_result_srswor.append(ttests_sample_ratio(con_srs, trt_srs, f = 0.25))\n",
        "plt.hist([i[1] for i in test_result_srs], alpha = 0.5)\n",
        "plt.hist([i[1] for i in test_result_srswor], alpha = 0.5)\n",
        "plt.legend(['not considering f', 'considering f'])\n",
        "plt.title('P_values of two testing methods under 50-50 split, in srs situation')"
      ],
      "metadata": {
        "colab": {
          "base_uri": "https://localhost:8080/",
          "height": 331,
          "referenced_widgets": [
            "095d9a417fcf4a89aa70176acb64378f",
            "c7e185f5e093443db2ffaa4eb5317210",
            "5e60f8497541499b8fd038b240aaf78d",
            "31bfff5556ef407993d28149449675a4",
            "f18785353e1d4025a80d5a7a72856888",
            "7ff70907df8e4c77b8b09609e633c0b3",
            "2e3aa646dbe145629cf2dba348f17a94",
            "ef7d105ea52b43cc9ccb9a0a6fc4bb36",
            "7c6bab0887eb4f2c91de6a200ce93d84",
            "06e75aa5c6f44c47bb4affa3a90ddfb2",
            "09843aada6d94b78a72cec778864dc58"
          ]
        },
        "id": "xaDLSEwIos9Q",
        "outputId": "b3c48c9b-50bd-4e8b-b16c-9055daf8ff1a"
      },
      "execution_count": 289,
      "outputs": [
        {
          "output_type": "display_data",
          "data": {
            "text/plain": [
              "  0%|          | 0/10000 [00:00<?, ?it/s]"
            ],
            "application/vnd.jupyter.widget-view+json": {
              "version_major": 2,
              "version_minor": 0,
              "model_id": "095d9a417fcf4a89aa70176acb64378f"
            }
          },
          "metadata": {}
        },
        {
          "output_type": "execute_result",
          "data": {
            "text/plain": [
              "Text(0.5, 1.0, 'P_values of two testing methods under 50-50 split, in srs situation')"
            ]
          },
          "metadata": {},
          "execution_count": 289
        },
        {
          "output_type": "display_data",
          "data": {
            "text/plain": [
              "<Figure size 432x288 with 1 Axes>"
            ],
            "image/png": "[encoded data removed]"
          },
          "metadata": {
            "needs_background": "light"
          }
        }
      ]
    },
    {
      "cell_type": "markdown",
      "source": [
        "It shows that we should not considering sampling ratio f in __srs scenario__, because p_values of `considering f` is not uniform."
      ],
      "metadata": {
        "id": "ZeaKlT5d53bO"
      }
    },
    {
      "cell_type": "code",
      "source": [
        "# stats.kstest([i[1] for i in test_result_srs], lambda x: stats.uniform.cdf(x,0,1)),\\\n",
        "# stats.kstest([i[1] for i in test_result_srswor], lambda x: stats.uniform.cdf(x,0,1))"
      ],
      "metadata": {
        "id": "l7kkfXsxj92t"
      },
      "execution_count": 264,
      "outputs": []
    },
    {
      "cell_type": "code",
      "source": [
        "# stats.kstest([i[0] for i in test_result_srs], lambda x: stats.norm.cdf(x, 0,1)),\\\n",
        "# stats.kstest([i[0] for i in test_result_srswor], lambda x: stats.norm.cdf(x, 0,1))"
      ],
      "metadata": {
        "id": "wQixxpFYkNTm"
      },
      "execution_count": 265,
      "outputs": []
    },
    {
      "cell_type": "markdown",
      "source": [
        "We use srswor to draw 5000 samples from population, and then split into control group(\\~2500 samples) and treatment group(\\~2500 samples). We perform two sample T-test with/withour considering sampling ratio(f = 0.25)."
      ],
      "metadata": {
        "id": "3ER_vRAP33lu"
      }
    },
    {
      "cell_type": "code",
      "source": [
        "test_result_srs = []\n",
        "test_result_srswor = []\n",
        "for i in tqdm(range(10000)):\n",
        "    # get the sample of experiment\n",
        "    sample_iter_srswor = np.random.choice(population, 5000, replace = False) # N_population = 10000, n_control + n_treatment = 5000\n",
        "\n",
        "    # get the sample of each experiment version\n",
        "\n",
        "    con_srswor, trt_srswor = get_2_bkts(sample_iter_srswor) # n_control/n_treatment = 2500, f = 0.25. This is another srswor\n",
        "    # conduct t-tests\n",
        "    test_result_srs.append(ttests_sample_ratio(con_srswor, trt_srswor, f = 0))\n",
        "    test_result_srswor.append(ttests_sample_ratio(con_srswor, trt_srswor, f = 0.25))\n",
        "\n",
        "plt.hist([i[1] for i in test_result_srs], alpha = 0.5)\n",
        "plt.hist([i[1] for i in test_result_srswor], alpha = 0.5)\n",
        "plt.legend(['not considering f', 'considerig f'])\n",
        "plt.title('P_values of two testing methods under 50-50 split, in srswor situation')"
      ],
      "metadata": {
        "colab": {
          "base_uri": "https://localhost:8080/",
          "height": 331,
          "referenced_widgets": [
            "661e155b206543468e065607ddd603bd",
            "9371e958ffe34c1d99614885ed049d36",
            "8c4d1b2478e349f69ae3542b5afc8d45",
            "01d11ae290b14e11b6a505a12c0790f2",
            "2f75cfae5b5548b1a3e74ebd13503b3b",
            "7bf1f731fd714d31b143ea6c73315055",
            "4741558c5447458fa0ae74463bec579a",
            "9efb0441ec564962a0c3e9b25a51855b",
            "67d3e364abcd49fe94e4141d98029165",
            "223d99f018534b69a676847b285b3a8e",
            "203c1a4bf726482f8f6088eba8a40fd8"
          ]
        },
        "id": "M46Iqzn6k_NB",
        "outputId": "b638e63c-ee41-43e9-eaf7-b0cf5230275f"
      },
      "execution_count": 290,
      "outputs": [
        {
          "output_type": "display_data",
          "data": {
            "text/plain": [
              "  0%|          | 0/10000 [00:00<?, ?it/s]"
            ],
            "application/vnd.jupyter.widget-view+json": {
              "version_major": 2,
              "version_minor": 0,
              "model_id": "661e155b206543468e065607ddd603bd"
            }
          },
          "metadata": {}
        },
        {
          "output_type": "execute_result",
          "data": {
            "text/plain": [
              "Text(0.5, 1.0, 'P_values of two testing methods under 50-50 split, in srswor situation')"
            ]
          },
          "metadata": {},
          "execution_count": 290
        },
        {
          "output_type": "display_data",
          "data": {
            "text/plain": [
              "<Figure size 432x288 with 1 Axes>"
            ],
            "image/png": "[encoded data removed]"
          },
          "metadata": {
            "needs_background": "light"
          }
        }
      ]
    },
    {
      "cell_type": "markdown",
      "source": [
        "It shows that we should not considering sampling ratio f in __srswor scenario__, because p_values of `considering f` is not uniform."
      ],
      "metadata": {
        "id": "2W1tqrRn6MS5"
      }
    },
    {
      "cell_type": "markdown",
      "source": [
        "# In one sample scenario, we need sampling ratio f to estimate variance of sampling mean."
      ],
      "metadata": {
        "id": "XMzZQOan0nAf"
      }
    },
    {
      "cell_type": "code",
      "source": [
        "test_result_srs = []\n",
        "test_result_srswor = []\n",
        "for i in tqdm(range(10000)):\n",
        "    # 从10k总体中, 抽取5k个样本. 抽样比f = 0.5\n",
        "    sample_iter_srswor = np.random.choice(population, 5000, replace = False) \n",
        "\n",
        "    # conduct t-tests. 检验样本的均值是否!=10\n",
        "    ## 计算不考虑抽样比的结果\n",
        "    t_stats_not_considering_f = (sample_iter_srswor.mean()-10)/np.std(sample_iter_srswor)*np.sqrt(len(sample_iter_srswor))\n",
        "    p_value_not_considering_f = 2*(1 - norm.cdf(abs(t_stats_not_considering_f)))\n",
        "\n",
        "    ## 计算考虑抽样比的结果\n",
        "    f = 0.5\n",
        "    var = np.var(sample_iter_srswor)/len(sample_iter_srswor)*(1-f) # 带有抽样比\n",
        "    t_stats_considering_f = (sample_iter_srswor.mean()-10)/var**0.5\n",
        "    p_value_considering_f = 2*(1 - norm.cdf(abs(t_stats_considering_f))) \n",
        "    \n",
        "    # 输出检验的统计量和p值\n",
        "    test_result_srs.append((t_stats_not_considering_f, p_value_not_considering_f))\n",
        "    test_result_srswor.append((t_stats_considering_f, p_value_considering_f))\n",
        "\n",
        "# 发现考虑抽样比的时候, p值是服从均匀分布的. 所以应该考虑抽样比\n",
        "plt.hist([i[1] for i in test_result_srs], alpha = 0.5)\n",
        "plt.hist([i[1] for i in test_result_srswor], alpha = 0.5)\n",
        "plt.legend(['not considering f', 'considering f'])\n",
        "plt.title('P_values of two testing methods under 50-50 split, in srswor situation')"
      ],
      "metadata": {
        "colab": {
          "base_uri": "https://localhost:8080/",
          "height": 331,
          "referenced_widgets": [
            "0dab0f0f71a84bd8a9434e90ee30692d",
            "a74f6ad8a2a94accaa00c51304d4eb14",
            "2f0012c7ef334e04ad4bc6dd23761fda",
            "fb5be8b8604f4b71b539a01b1a551e8e",
            "c55e7202555741458a4abc8d501732ad",
            "a4c454e96a9f4bafb81ec4b97a5309f8",
            "164e44ffa64c4a2f9032a2376c12921e",
            "ef042a43611a4591b819357532721a7f",
            "4b5f156fea0b46a3a679524502737cdb",
            "53205330cbc747db8fbd59eec4a60eff",
            "e7ebeb9aa6604bad8df445112dbf0580"
          ]
        },
        "id": "aQb-ChQX0r0h",
        "outputId": "2d647d34-9981-4966-fc1d-361c055faa05"
      },
      "execution_count": 328,
      "outputs": [
        {
          "output_type": "display_data",
          "data": {
            "text/plain": [
              "  0%|          | 0/10000 [00:00<?, ?it/s]"
            ],
            "application/vnd.jupyter.widget-view+json": {
              "version_major": 2,
              "version_minor": 0,
              "model_id": "0dab0f0f71a84bd8a9434e90ee30692d"
            }
          },
          "metadata": {}
        },
        {
          "output_type": "execute_result",
          "data": {
            "text/plain": [
              "Text(0.5, 1.0, 'P_values of two testing methods under 50-50 split, in srswor situation')"
            ]
          },
          "metadata": {},
          "execution_count": 328
        },
        {
          "output_type": "display_data",
          "data": {
            "text/plain": [
              "<Figure size 432x288 with 1 Axes>"
            ],
            "image/png": "[encoded data removed]"
          },
          "metadata": {
            "needs_background": "light"
          }
        }
      ]
    },
    {
      "cell_type": "code",
      "source": [
        "np.max(population) - np.min(population),np.max(population1) - np.min(population1),np.max(population2) - np.min(population2)"
      ],
      "metadata": {
        "colab": {
          "base_uri": "https://localhost:8080/"
        },
        "id": "abdtCBt_a-NR",
        "outputId": "9db106a1-6c83-4cb4-98f8-15069c624ee9"
      },
      "execution_count": 330,
      "outputs": [
        {
          "output_type": "execute_result",
          "data": {
            "text/plain": [
              "(14.199575981190197, 15.793071407493063, 14.93495020096293)"
            ]
          },
          "metadata": {},
          "execution_count": 330
        }
      ]
    },
    {
      "cell_type": "code",
      "source": [
        "l1 = []\n",
        "l2 = []\n",
        "l3 = []\n",
        "\n",
        "for i in tqdm(range(10000)):\n",
        "    # 从10k总体中, 抽取5k个样本. 抽样比f = 0.2\n",
        "    con_srswor = np.random.choice(population1, 2000, replace = False) \n",
        "    trt_srswor = np.random.choice(population2, 2000, replace = False) \n",
        "\n",
        "    # conduct t-tests. 检验样本的均值是否相等\n",
        "    ## 计算不考虑抽样比的结果\n",
        "    l1.append(ttests_sample_ratio(con_srswor, trt_srswor, f = 0))\n",
        "    l2.append(ttests_sample_ratio(con_srswor, trt_srswor, f = 0.2))\n",
        "\n",
        "    # 单样本\n",
        "    data = np.random.choice(population, 2000, replace = False) \n",
        "    var = np.var(data)/(len(data)-1)*(1-0.2) # 带有抽样比\n",
        "    t_stats_considering_f = (data.mean()-10)/var**0.5\n",
        "    p_value_considering_f = 2*(1 - norm.cdf(abs(t_stats_considering_f))) \n",
        "    l3.append((t_stats_considering_f, p_value_considering_f))\n",
        "\n",
        "# 发现考虑抽样比的时候, p值是服从均匀分布的. 所以应该考虑抽样比\n",
        "plt.subplot(1,3,1)\n",
        "plt.hist([i[1] for i in l1], alpha = 0.5)\n",
        "plt.subplot(1,3,2)\n",
        "plt.hist([i[1] for i in l2], alpha = 0.5)\n",
        "plt.subplot(1,3,3)\n",
        "plt.hist([i[1] for i in l3], alpha = 0.5)\n",
        "# plt.legend(['not considering f', 'considering f', '1_sample_considering_f'])\n",
        "plt.title('P_values of two testing methods under 50-50 split, in srswor situation')\n"
      ],
      "metadata": {
        "colab": {
          "base_uri": "https://localhost:8080/",
          "height": 331,
          "referenced_widgets": [
            "2ab18e42014e4b98ac168fd3d9537bc4",
            "4ceaceaceba145aeb0c4f2e2f89615d2",
            "e1f71c0e1ee34ce59b5b6bfab060c291",
            "b5af97a7e99744a1936f8f04b23d17fb",
            "0a7bf56063274b19838eff8ddc38dd72",
            "7e883eb1a8a046d2a56f656ccf934a34",
            "178cb5d9a3454d8f9119c3671cd3a823",
            "f0609eb93a4b4818aa151210f4d7e8ac",
            "4cd44632f3a448a295d7ffd60e1afc9d",
            "b54ed718355d441caf1126dfc9a93dff",
            "d9f8bd3a8152408e9d2e0864ad9d4995"
          ]
        },
        "id": "tbknrNfQHdKK",
        "outputId": "55291e5c-3010-4c86-b230-d3be3db7fad7"
      },
      "execution_count": 340,
      "outputs": [
        {
          "output_type": "display_data",
          "data": {
            "text/plain": [
              "  0%|          | 0/10000 [00:00<?, ?it/s]"
            ],
            "application/vnd.jupyter.widget-view+json": {
              "version_major": 2,
              "version_minor": 0,
              "model_id": "2ab18e42014e4b98ac168fd3d9537bc4"
            }
          },
          "metadata": {}
        },
        {
          "output_type": "execute_result",
          "data": {
            "text/plain": [
              "Text(0.5, 1.0, 'P_values of two testing methods under 50-50 split, in srswor situation')"
            ]
          },
          "metadata": {},
          "execution_count": 340
        },
        {
          "output_type": "display_data",
          "data": {
            "text/plain": [
              "<Figure size 432x288 with 3 Axes>"
            ],
            "image/png": "[encoded data removed]"
          },
          "metadata": {
            "needs_background": "light"
          }
        }
      ]
    },
    {
      "cell_type": "markdown",
      "source": [
        "即使是从两个总体中分别不放回抽取子样本, 仍然不需要借助抽样比来计算方差, 因为我们可以通过比较子样本的均值差来推断总体的均值差."
      ],
      "metadata": {
        "id": "rqQY5P5db-V6"
      }
    },
    {
      "cell_type": "code",
      "source": [],
      "metadata": {
        "id": "wy-y4pBFQo7z"
      },
      "execution_count": null,
      "outputs": []
    }
  ]
}