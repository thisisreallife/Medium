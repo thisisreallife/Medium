{
  "nbformat": 4,
  "nbformat_minor": 0,
  "metadata": {
    "colab": {
      "provenance": [],
      "collapsed_sections": [],
      "authorship_tag": "ABX9TyMKazeyk6rTHxJ69af/iAIa",
      "include_colab_link": true
    },
    "kernelspec": {
      "name": "python3",
      "display_name": "Python 3"
    },
    "language_info": {
      "name": "python"
    },
    "widgets": {
      "application/vnd.jupyter.widget-state+json": {
        "a7b3a499345349208e37d7c1e0900e03": {
          "model_module": "@jupyter-widgets/controls",
          "model_name": "HBoxModel",
          "model_module_version": "1.5.0",
          "state": {
            "_dom_classes": [],
            "_model_module": "@jupyter-widgets/controls",
            "_model_module_version": "1.5.0",
            "_model_name": "HBoxModel",
            "_view_count": null,
            "_view_module": "@jupyter-widgets/controls",
            "_view_module_version": "1.5.0",
            "_view_name": "HBoxView",
            "box_style": "",
            "children": [
              "IPY_MODEL_cf8c4b47714d41fda971b8b2eec5a205",
              "IPY_MODEL_f734c3428ace48c99b6ec4250256bf4b",
              "IPY_MODEL_742359a340464bdabfeb89306f75101f"
            ],
            "layout": "IPY_MODEL_63970b7a28a94bb3b3cf09100e487889"
          }
        },
        "cf8c4b47714d41fda971b8b2eec5a205": {
          "model_module": "@jupyter-widgets/controls",
          "model_name": "HTMLModel",
          "model_module_version": "1.5.0",
          "state": {
            "_dom_classes": [],
            "_model_module": "@jupyter-widgets/controls",
            "_model_module_version": "1.5.0",
            "_model_name": "HTMLModel",
            "_view_count": null,
            "_view_module": "@jupyter-widgets/controls",
            "_view_module_version": "1.5.0",
            "_view_name": "HTMLView",
            "description": "",
            "description_tooltip": null,
            "layout": "IPY_MODEL_6fe08a8690c3416a8df6d60086d577bc",
            "placeholder": "​",
            "style": "IPY_MODEL_7011df66047147bbbdd90057f56f6e20",
            "value": "100%"
          }
        },
        "f734c3428ace48c99b6ec4250256bf4b": {
          "model_module": "@jupyter-widgets/controls",
          "model_name": "FloatProgressModel",
          "model_module_version": "1.5.0",
          "state": {
            "_dom_classes": [],
            "_model_module": "@jupyter-widgets/controls",
            "_model_module_version": "1.5.0",
            "_model_name": "FloatProgressModel",
            "_view_count": null,
            "_view_module": "@jupyter-widgets/controls",
            "_view_module_version": "1.5.0",
            "_view_name": "ProgressView",
            "bar_style": "success",
            "description": "",
            "description_tooltip": null,
            "layout": "IPY_MODEL_adc09ef2d01b4d5fb2745fc469c936ca",
            "max": 10000,
            "min": 0,
            "orientation": "horizontal",
            "style": "IPY_MODEL_d177aaa40a4a427c9b8fbc2495a02c6f",
            "value": 10000
          }
        },
        "742359a340464bdabfeb89306f75101f": {
          "model_module": "@jupyter-widgets/controls",
          "model_name": "HTMLModel",
          "model_module_version": "1.5.0",
          "state": {
            "_dom_classes": [],
            "_model_module": "@jupyter-widgets/controls",
            "_model_module_version": "1.5.0",
            "_model_name": "HTMLModel",
            "_view_count": null,
            "_view_module": "@jupyter-widgets/controls",
            "_view_module_version": "1.5.0",
            "_view_name": "HTMLView",
            "description": "",
            "description_tooltip": null,
            "layout": "IPY_MODEL_76ab8a424fa34634b5560dd6c5f2975d",
            "placeholder": "​",
            "style": "IPY_MODEL_edb6b04f184b4f7f9b541ecba960cabb",
            "value": " 10000/10000 [00:11&lt;00:00, 1115.14it/s]"
          }
        },
        "63970b7a28a94bb3b3cf09100e487889": {
          "model_module": "@jupyter-widgets/base",
          "model_name": "LayoutModel",
          "model_module_version": "1.2.0",
          "state": {
            "_model_module": "@jupyter-widgets/base",
            "_model_module_version": "1.2.0",
            "_model_name": "LayoutModel",
            "_view_count": null,
            "_view_module": "@jupyter-widgets/base",
            "_view_module_version": "1.2.0",
            "_view_name": "LayoutView",
            "align_content": null,
            "align_items": null,
            "align_self": null,
            "border": null,
            "bottom": null,
            "display": null,
            "flex": null,
            "flex_flow": null,
            "grid_area": null,
            "grid_auto_columns": null,
            "grid_auto_flow": null,
            "grid_auto_rows": null,
            "grid_column": null,
            "grid_gap": null,
            "grid_row": null,
            "grid_template_areas": null,
            "grid_template_columns": null,
            "grid_template_rows": null,
            "height": null,
            "justify_content": null,
            "justify_items": null,
            "left": null,
            "margin": null,
            "max_height": null,
            "max_width": null,
            "min_height": null,
            "min_width": null,
            "object_fit": null,
            "object_position": null,
            "order": null,
            "overflow": null,
            "overflow_x": null,
            "overflow_y": null,
            "padding": null,
            "right": null,
            "top": null,
            "visibility": null,
            "width": null
          }
        },
        "6fe08a8690c3416a8df6d60086d577bc": {
          "model_module": "@jupyter-widgets/base",
          "model_name": "LayoutModel",
          "model_module_version": "1.2.0",
          "state": {
            "_model_module": "@jupyter-widgets/base",
            "_model_module_version": "1.2.0",
            "_model_name": "LayoutModel",
            "_view_count": null,
            "_view_module": "@jupyter-widgets/base",
            "_view_module_version": "1.2.0",
            "_view_name": "LayoutView",
            "align_content": null,
            "align_items": null,
            "align_self": null,
            "border": null,
            "bottom": null,
            "display": null,
            "flex": null,
            "flex_flow": null,
            "grid_area": null,
            "grid_auto_columns": null,
            "grid_auto_flow": null,
            "grid_auto_rows": null,
            "grid_column": null,
            "grid_gap": null,
            "grid_row": null,
            "grid_template_areas": null,
            "grid_template_columns": null,
            "grid_template_rows": null,
            "height": null,
            "justify_content": null,
            "justify_items": null,
            "left": null,
            "margin": null,
            "max_height": null,
            "max_width": null,
            "min_height": null,
            "min_width": null,
            "object_fit": null,
            "object_position": null,
            "order": null,
            "overflow": null,
            "overflow_x": null,
            "overflow_y": null,
            "padding": null,
            "right": null,
            "top": null,
            "visibility": null,
            "width": null
          }
        },
        "7011df66047147bbbdd90057f56f6e20": {
          "model_module": "@jupyter-widgets/controls",
          "model_name": "DescriptionStyleModel",
          "model_module_version": "1.5.0",
          "state": {
            "_model_module": "@jupyter-widgets/controls",
            "_model_module_version": "1.5.0",
            "_model_name": "DescriptionStyleModel",
            "_view_count": null,
            "_view_module": "@jupyter-widgets/base",
            "_view_module_version": "1.2.0",
            "_view_name": "StyleView",
            "description_width": ""
          }
        },
        "adc09ef2d01b4d5fb2745fc469c936ca": {
          "model_module": "@jupyter-widgets/base",
          "model_name": "LayoutModel",
          "model_module_version": "1.2.0",
          "state": {
            "_model_module": "@jupyter-widgets/base",
            "_model_module_version": "1.2.0",
            "_model_name": "LayoutModel",
            "_view_count": null,
            "_view_module": "@jupyter-widgets/base",
            "_view_module_version": "1.2.0",
            "_view_name": "LayoutView",
            "align_content": null,
            "align_items": null,
            "align_self": null,
            "border": null,
            "bottom": null,
            "display": null,
            "flex": null,
            "flex_flow": null,
            "grid_area": null,
            "grid_auto_columns": null,
            "grid_auto_flow": null,
            "grid_auto_rows": null,
            "grid_column": null,
            "grid_gap": null,
            "grid_row": null,
            "grid_template_areas": null,
            "grid_template_columns": null,
            "grid_template_rows": null,
            "height": null,
            "justify_content": null,
            "justify_items": null,
            "left": null,
            "margin": null,
            "max_height": null,
            "max_width": null,
            "min_height": null,
            "min_width": null,
            "object_fit": null,
            "object_position": null,
            "order": null,
            "overflow": null,
            "overflow_x": null,
            "overflow_y": null,
            "padding": null,
            "right": null,
            "top": null,
            "visibility": null,
            "width": null
          }
        },
        "d177aaa40a4a427c9b8fbc2495a02c6f": {
          "model_module": "@jupyter-widgets/controls",
          "model_name": "ProgressStyleModel",
          "model_module_version": "1.5.0",
          "state": {
            "_model_module": "@jupyter-widgets/controls",
            "_model_module_version": "1.5.0",
            "_model_name": "ProgressStyleModel",
            "_view_count": null,
            "_view_module": "@jupyter-widgets/base",
            "_view_module_version": "1.2.0",
            "_view_name": "StyleView",
            "bar_color": null,
            "description_width": ""
          }
        },
        "76ab8a424fa34634b5560dd6c5f2975d": {
          "model_module": "@jupyter-widgets/base",
          "model_name": "LayoutModel",
          "model_module_version": "1.2.0",
          "state": {
            "_model_module": "@jupyter-widgets/base",
            "_model_module_version": "1.2.0",
            "_model_name": "LayoutModel",
            "_view_count": null,
            "_view_module": "@jupyter-widgets/base",
            "_view_module_version": "1.2.0",
            "_view_name": "LayoutView",
            "align_content": null,
            "align_items": null,
            "align_self": null,
            "border": null,
            "bottom": null,
            "display": null,
            "flex": null,
            "flex_flow": null,
            "grid_area": null,
            "grid_auto_columns": null,
            "grid_auto_flow": null,
            "grid_auto_rows": null,
            "grid_column": null,
            "grid_gap": null,
            "grid_row": null,
            "grid_template_areas": null,
            "grid_template_columns": null,
            "grid_template_rows": null,
            "height": null,
            "justify_content": null,
            "justify_items": null,
            "left": null,
            "margin": null,
            "max_height": null,
            "max_width": null,
            "min_height": null,
            "min_width": null,
            "object_fit": null,
            "object_position": null,
            "order": null,
            "overflow": null,
            "overflow_x": null,
            "overflow_y": null,
            "padding": null,
            "right": null,
            "top": null,
            "visibility": null,
            "width": null
          }
        },
        "edb6b04f184b4f7f9b541ecba960cabb": {
          "model_module": "@jupyter-widgets/controls",
          "model_name": "DescriptionStyleModel",
          "model_module_version": "1.5.0",
          "state": {
            "_model_module": "@jupyter-widgets/controls",
            "_model_module_version": "1.5.0",
            "_model_name": "DescriptionStyleModel",
            "_view_count": null,
            "_view_module": "@jupyter-widgets/base",
            "_view_module_version": "1.2.0",
            "_view_name": "StyleView",
            "description_width": ""
          }
        },
        "259909b7bf8e4af6bcd64a8d77b8a9dd": {
          "model_module": "@jupyter-widgets/controls",
          "model_name": "HBoxModel",
          "model_module_version": "1.5.0",
          "state": {
            "_dom_classes": [],
            "_model_module": "@jupyter-widgets/controls",
            "_model_module_version": "1.5.0",
            "_model_name": "HBoxModel",
            "_view_count": null,
            "_view_module": "@jupyter-widgets/controls",
            "_view_module_version": "1.5.0",
            "_view_name": "HBoxView",
            "box_style": "",
            "children": [
              "IPY_MODEL_5fce06c9491b45f6a63f9c71ab949c57",
              "IPY_MODEL_93763ebce27542e688c067c4dd4d0e9f",
              "IPY_MODEL_d503c17d8c8449ec83dd9777964b30ad"
            ],
            "layout": "IPY_MODEL_5cb4b0e1c10344a09d7bac5ec89a68b8"
          }
        },
        "5fce06c9491b45f6a63f9c71ab949c57": {
          "model_module": "@jupyter-widgets/controls",
          "model_name": "HTMLModel",
          "model_module_version": "1.5.0",
          "state": {
            "_dom_classes": [],
            "_model_module": "@jupyter-widgets/controls",
            "_model_module_version": "1.5.0",
            "_model_name": "HTMLModel",
            "_view_count": null,
            "_view_module": "@jupyter-widgets/controls",
            "_view_module_version": "1.5.0",
            "_view_name": "HTMLView",
            "description": "",
            "description_tooltip": null,
            "layout": "IPY_MODEL_9f5c99cec08049bdab845c576eea4226",
            "placeholder": "​",
            "style": "IPY_MODEL_0ea859ed59554030832f9bdbfe1df7cc",
            "value": "100%"
          }
        },
        "93763ebce27542e688c067c4dd4d0e9f": {
          "model_module": "@jupyter-widgets/controls",
          "model_name": "FloatProgressModel",
          "model_module_version": "1.5.0",
          "state": {
            "_dom_classes": [],
            "_model_module": "@jupyter-widgets/controls",
            "_model_module_version": "1.5.0",
            "_model_name": "FloatProgressModel",
            "_view_count": null,
            "_view_module": "@jupyter-widgets/controls",
            "_view_module_version": "1.5.0",
            "_view_name": "ProgressView",
            "bar_style": "success",
            "description": "",
            "description_tooltip": null,
            "layout": "IPY_MODEL_b7c9e337dcb14e99b87259793db9874a",
            "max": 10000,
            "min": 0,
            "orientation": "horizontal",
            "style": "IPY_MODEL_b8801ea6dc2e4737b2a42ed0b1c16392",
            "value": 10000
          }
        },
        "d503c17d8c8449ec83dd9777964b30ad": {
          "model_module": "@jupyter-widgets/controls",
          "model_name": "HTMLModel",
          "model_module_version": "1.5.0",
          "state": {
            "_dom_classes": [],
            "_model_module": "@jupyter-widgets/controls",
            "_model_module_version": "1.5.0",
            "_model_name": "HTMLModel",
            "_view_count": null,
            "_view_module": "@jupyter-widgets/controls",
            "_view_module_version": "1.5.0",
            "_view_name": "HTMLView",
            "description": "",
            "description_tooltip": null,
            "layout": "IPY_MODEL_2a403de9343f4c42b781209c6df70025",
            "placeholder": "​",
            "style": "IPY_MODEL_88d1bf65d5c14b5ab812df88ff1dd8f6",
            "value": " 10000/10000 [00:13&lt;00:00, 744.56it/s]"
          }
        },
        "5cb4b0e1c10344a09d7bac5ec89a68b8": {
          "model_module": "@jupyter-widgets/base",
          "model_name": "LayoutModel",
          "model_module_version": "1.2.0",
          "state": {
            "_model_module": "@jupyter-widgets/base",
            "_model_module_version": "1.2.0",
            "_model_name": "LayoutModel",
            "_view_count": null,
            "_view_module": "@jupyter-widgets/base",
            "_view_module_version": "1.2.0",
            "_view_name": "LayoutView",
            "align_content": null,
            "align_items": null,
            "align_self": null,
            "border": null,
            "bottom": null,
            "display": null,
            "flex": null,
            "flex_flow": null,
            "grid_area": null,
            "grid_auto_columns": null,
            "grid_auto_flow": null,
            "grid_auto_rows": null,
            "grid_column": null,
            "grid_gap": null,
            "grid_row": null,
            "grid_template_areas": null,
            "grid_template_columns": null,
            "grid_template_rows": null,
            "height": null,
            "justify_content": null,
            "justify_items": null,
            "left": null,
            "margin": null,
            "max_height": null,
            "max_width": null,
            "min_height": null,
            "min_width": null,
            "object_fit": null,
            "object_position": null,
            "order": null,
            "overflow": null,
            "overflow_x": null,
            "overflow_y": null,
            "padding": null,
            "right": null,
            "top": null,
            "visibility": null,
            "width": null
          }
        },
        "9f5c99cec08049bdab845c576eea4226": {
          "model_module": "@jupyter-widgets/base",
          "model_name": "LayoutModel",
          "model_module_version": "1.2.0",
          "state": {
            "_model_module": "@jupyter-widgets/base",
            "_model_module_version": "1.2.0",
            "_model_name": "LayoutModel",
            "_view_count": null,
            "_view_module": "@jupyter-widgets/base",
            "_view_module_version": "1.2.0",
            "_view_name": "LayoutView",
            "align_content": null,
            "align_items": null,
            "align_self": null,
            "border": null,
            "bottom": null,
            "display": null,
            "flex": null,
            "flex_flow": null,
            "grid_area": null,
            "grid_auto_columns": null,
            "grid_auto_flow": null,
            "grid_auto_rows": null,
            "grid_column": null,
            "grid_gap": null,
            "grid_row": null,
            "grid_template_areas": null,
            "grid_template_columns": null,
            "grid_template_rows": null,
            "height": null,
            "justify_content": null,
            "justify_items": null,
            "left": null,
            "margin": null,
            "max_height": null,
            "max_width": null,
            "min_height": null,
            "min_width": null,
            "object_fit": null,
            "object_position": null,
            "order": null,
            "overflow": null,
            "overflow_x": null,
            "overflow_y": null,
            "padding": null,
            "right": null,
            "top": null,
            "visibility": null,
            "width": null
          }
        },
        "0ea859ed59554030832f9bdbfe1df7cc": {
          "model_module": "@jupyter-widgets/controls",
          "model_name": "DescriptionStyleModel",
          "model_module_version": "1.5.0",
          "state": {
            "_model_module": "@jupyter-widgets/controls",
            "_model_module_version": "1.5.0",
            "_model_name": "DescriptionStyleModel",
            "_view_count": null,
            "_view_module": "@jupyter-widgets/base",
            "_view_module_version": "1.2.0",
            "_view_name": "StyleView",
            "description_width": ""
          }
        },
        "b7c9e337dcb14e99b87259793db9874a": {
          "model_module": "@jupyter-widgets/base",
          "model_name": "LayoutModel",
          "model_module_version": "1.2.0",
          "state": {
            "_model_module": "@jupyter-widgets/base",
            "_model_module_version": "1.2.0",
            "_model_name": "LayoutModel",
            "_view_count": null,
            "_view_module": "@jupyter-widgets/base",
            "_view_module_version": "1.2.0",
            "_view_name": "LayoutView",
            "align_content": null,
            "align_items": null,
            "align_self": null,
            "border": null,
            "bottom": null,
            "display": null,
            "flex": null,
            "flex_flow": null,
            "grid_area": null,
            "grid_auto_columns": null,
            "grid_auto_flow": null,
            "grid_auto_rows": null,
            "grid_column": null,
            "grid_gap": null,
            "grid_row": null,
            "grid_template_areas": null,
            "grid_template_columns": null,
            "grid_template_rows": null,
            "height": null,
            "justify_content": null,
            "justify_items": null,
            "left": null,
            "margin": null,
            "max_height": null,
            "max_width": null,
            "min_height": null,
            "min_width": null,
            "object_fit": null,
            "object_position": null,
            "order": null,
            "overflow": null,
            "overflow_x": null,
            "overflow_y": null,
            "padding": null,
            "right": null,
            "top": null,
            "visibility": null,
            "width": null
          }
        },
        "b8801ea6dc2e4737b2a42ed0b1c16392": {
          "model_module": "@jupyter-widgets/controls",
          "model_name": "ProgressStyleModel",
          "model_module_version": "1.5.0",
          "state": {
            "_model_module": "@jupyter-widgets/controls",
            "_model_module_version": "1.5.0",
            "_model_name": "ProgressStyleModel",
            "_view_count": null,
            "_view_module": "@jupyter-widgets/base",
            "_view_module_version": "1.2.0",
            "_view_name": "StyleView",
            "bar_color": null,
            "description_width": ""
          }
        },
        "2a403de9343f4c42b781209c6df70025": {
          "model_module": "@jupyter-widgets/base",
          "model_name": "LayoutModel",
          "model_module_version": "1.2.0",
          "state": {
            "_model_module": "@jupyter-widgets/base",
            "_model_module_version": "1.2.0",
            "_model_name": "LayoutModel",
            "_view_count": null,
            "_view_module": "@jupyter-widgets/base",
            "_view_module_version": "1.2.0",
            "_view_name": "LayoutView",
            "align_content": null,
            "align_items": null,
            "align_self": null,
            "border": null,
            "bottom": null,
            "display": null,
            "flex": null,
            "flex_flow": null,
            "grid_area": null,
            "grid_auto_columns": null,
            "grid_auto_flow": null,
            "grid_auto_rows": null,
            "grid_column": null,
            "grid_gap": null,
            "grid_row": null,
            "grid_template_areas": null,
            "grid_template_columns": null,
            "grid_template_rows": null,
            "height": null,
            "justify_content": null,
            "justify_items": null,
            "left": null,
            "margin": null,
            "max_height": null,
            "max_width": null,
            "min_height": null,
            "min_width": null,
            "object_fit": null,
            "object_position": null,
            "order": null,
            "overflow": null,
            "overflow_x": null,
            "overflow_y": null,
            "padding": null,
            "right": null,
            "top": null,
            "visibility": null,
            "width": null
          }
        },
        "88d1bf65d5c14b5ab812df88ff1dd8f6": {
          "model_module": "@jupyter-widgets/controls",
          "model_name": "DescriptionStyleModel",
          "model_module_version": "1.5.0",
          "state": {
            "_model_module": "@jupyter-widgets/controls",
            "_model_module_version": "1.5.0",
            "_model_name": "DescriptionStyleModel",
            "_view_count": null,
            "_view_module": "@jupyter-widgets/base",
            "_view_module_version": "1.2.0",
            "_view_name": "StyleView",
            "description_width": ""
          }
        },
        "a2a7a618b3c247a2b212a68926134da5": {
          "model_module": "@jupyter-widgets/controls",
          "model_name": "HBoxModel",
          "model_module_version": "1.5.0",
          "state": {
            "_dom_classes": [],
            "_model_module": "@jupyter-widgets/controls",
            "_model_module_version": "1.5.0",
            "_model_name": "HBoxModel",
            "_view_count": null,
            "_view_module": "@jupyter-widgets/controls",
            "_view_module_version": "1.5.0",
            "_view_name": "HBoxView",
            "box_style": "",
            "children": [
              "IPY_MODEL_dde32ec77f36447a8346b10a339c22f7",
              "IPY_MODEL_6a42c282cb0447bc86e9fc1f589f71cc",
              "IPY_MODEL_c85e622623ab4be1add8123279a4fd09"
            ],
            "layout": "IPY_MODEL_a4f92891692e4e8988a46a98761a90a6"
          }
        },
        "dde32ec77f36447a8346b10a339c22f7": {
          "model_module": "@jupyter-widgets/controls",
          "model_name": "HTMLModel",
          "model_module_version": "1.5.0",
          "state": {
            "_dom_classes": [],
            "_model_module": "@jupyter-widgets/controls",
            "_model_module_version": "1.5.0",
            "_model_name": "HTMLModel",
            "_view_count": null,
            "_view_module": "@jupyter-widgets/controls",
            "_view_module_version": "1.5.0",
            "_view_name": "HTMLView",
            "description": "",
            "description_tooltip": null,
            "layout": "IPY_MODEL_fa89ff5d395a4f238e6b3844c1e02bbe",
            "placeholder": "​",
            "style": "IPY_MODEL_b86962a20c8e435195beb851c4da9b9f",
            "value": "100%"
          }
        },
        "6a42c282cb0447bc86e9fc1f589f71cc": {
          "model_module": "@jupyter-widgets/controls",
          "model_name": "FloatProgressModel",
          "model_module_version": "1.5.0",
          "state": {
            "_dom_classes": [],
            "_model_module": "@jupyter-widgets/controls",
            "_model_module_version": "1.5.0",
            "_model_name": "FloatProgressModel",
            "_view_count": null,
            "_view_module": "@jupyter-widgets/controls",
            "_view_module_version": "1.5.0",
            "_view_name": "ProgressView",
            "bar_style": "success",
            "description": "",
            "description_tooltip": null,
            "layout": "IPY_MODEL_32f1e868e9ac40548913dc692108a7d9",
            "max": 10000,
            "min": 0,
            "orientation": "horizontal",
            "style": "IPY_MODEL_d9d57a1b9e7d49ad8ebb09a2b0bbc833",
            "value": 10000
          }
        },
        "c85e622623ab4be1add8123279a4fd09": {
          "model_module": "@jupyter-widgets/controls",
          "model_name": "HTMLModel",
          "model_module_version": "1.5.0",
          "state": {
            "_dom_classes": [],
            "_model_module": "@jupyter-widgets/controls",
            "_model_module_version": "1.5.0",
            "_model_name": "HTMLModel",
            "_view_count": null,
            "_view_module": "@jupyter-widgets/controls",
            "_view_module_version": "1.5.0",
            "_view_name": "HTMLView",
            "description": "",
            "description_tooltip": null,
            "layout": "IPY_MODEL_f7a43cfaa06c48f7a162655893009628",
            "placeholder": "​",
            "style": "IPY_MODEL_15c91544271144009093f104d1086d76",
            "value": " 10000/10000 [00:08&lt;00:00, 1284.20it/s]"
          }
        },
        "a4f92891692e4e8988a46a98761a90a6": {
          "model_module": "@jupyter-widgets/base",
          "model_name": "LayoutModel",
          "model_module_version": "1.2.0",
          "state": {
            "_model_module": "@jupyter-widgets/base",
            "_model_module_version": "1.2.0",
            "_model_name": "LayoutModel",
            "_view_count": null,
            "_view_module": "@jupyter-widgets/base",
            "_view_module_version": "1.2.0",
            "_view_name": "LayoutView",
            "align_content": null,
            "align_items": null,
            "align_self": null,
            "border": null,
            "bottom": null,
            "display": null,
            "flex": null,
            "flex_flow": null,
            "grid_area": null,
            "grid_auto_columns": null,
            "grid_auto_flow": null,
            "grid_auto_rows": null,
            "grid_column": null,
            "grid_gap": null,
            "grid_row": null,
            "grid_template_areas": null,
            "grid_template_columns": null,
            "grid_template_rows": null,
            "height": null,
            "justify_content": null,
            "justify_items": null,
            "left": null,
            "margin": null,
            "max_height": null,
            "max_width": null,
            "min_height": null,
            "min_width": null,
            "object_fit": null,
            "object_position": null,
            "order": null,
            "overflow": null,
            "overflow_x": null,
            "overflow_y": null,
            "padding": null,
            "right": null,
            "top": null,
            "visibility": null,
            "width": null
          }
        },
        "fa89ff5d395a4f238e6b3844c1e02bbe": {
          "model_module": "@jupyter-widgets/base",
          "model_name": "LayoutModel",
          "model_module_version": "1.2.0",
          "state": {
            "_model_module": "@jupyter-widgets/base",
            "_model_module_version": "1.2.0",
            "_model_name": "LayoutModel",
            "_view_count": null,
            "_view_module": "@jupyter-widgets/base",
            "_view_module_version": "1.2.0",
            "_view_name": "LayoutView",
            "align_content": null,
            "align_items": null,
            "align_self": null,
            "border": null,
            "bottom": null,
            "display": null,
            "flex": null,
            "flex_flow": null,
            "grid_area": null,
            "grid_auto_columns": null,
            "grid_auto_flow": null,
            "grid_auto_rows": null,
            "grid_column": null,
            "grid_gap": null,
            "grid_row": null,
            "grid_template_areas": null,
            "grid_template_columns": null,
            "grid_template_rows": null,
            "height": null,
            "justify_content": null,
            "justify_items": null,
            "left": null,
            "margin": null,
            "max_height": null,
            "max_width": null,
            "min_height": null,
            "min_width": null,
            "object_fit": null,
            "object_position": null,
            "order": null,
            "overflow": null,
            "overflow_x": null,
            "overflow_y": null,
            "padding": null,
            "right": null,
            "top": null,
            "visibility": null,
            "width": null
          }
        },
        "b86962a20c8e435195beb851c4da9b9f": {
          "model_module": "@jupyter-widgets/controls",
          "model_name": "DescriptionStyleModel",
          "model_module_version": "1.5.0",
          "state": {
            "_model_module": "@jupyter-widgets/controls",
            "_model_module_version": "1.5.0",
            "_model_name": "DescriptionStyleModel",
            "_view_count": null,
            "_view_module": "@jupyter-widgets/base",
            "_view_module_version": "1.2.0",
            "_view_name": "StyleView",
            "description_width": ""
          }
        },
        "32f1e868e9ac40548913dc692108a7d9": {
          "model_module": "@jupyter-widgets/base",
          "model_name": "LayoutModel",
          "model_module_version": "1.2.0",
          "state": {
            "_model_module": "@jupyter-widgets/base",
            "_model_module_version": "1.2.0",
            "_model_name": "LayoutModel",
            "_view_count": null,
            "_view_module": "@jupyter-widgets/base",
            "_view_module_version": "1.2.0",
            "_view_name": "LayoutView",
            "align_content": null,
            "align_items": null,
            "align_self": null,
            "border": null,
            "bottom": null,
            "display": null,
            "flex": null,
            "flex_flow": null,
            "grid_area": null,
            "grid_auto_columns": null,
            "grid_auto_flow": null,
            "grid_auto_rows": null,
            "grid_column": null,
            "grid_gap": null,
            "grid_row": null,
            "grid_template_areas": null,
            "grid_template_columns": null,
            "grid_template_rows": null,
            "height": null,
            "justify_content": null,
            "justify_items": null,
            "left": null,
            "margin": null,
            "max_height": null,
            "max_width": null,
            "min_height": null,
            "min_width": null,
            "object_fit": null,
            "object_position": null,
            "order": null,
            "overflow": null,
            "overflow_x": null,
            "overflow_y": null,
            "padding": null,
            "right": null,
            "top": null,
            "visibility": null,
            "width": null
          }
        },
        "d9d57a1b9e7d49ad8ebb09a2b0bbc833": {
          "model_module": "@jupyter-widgets/controls",
          "model_name": "ProgressStyleModel",
          "model_module_version": "1.5.0",
          "state": {
            "_model_module": "@jupyter-widgets/controls",
            "_model_module_version": "1.5.0",
            "_model_name": "ProgressStyleModel",
            "_view_count": null,
            "_view_module": "@jupyter-widgets/base",
            "_view_module_version": "1.2.0",
            "_view_name": "StyleView",
            "bar_color": null,
            "description_width": ""
          }
        },
        "f7a43cfaa06c48f7a162655893009628": {
          "model_module": "@jupyter-widgets/base",
          "model_name": "LayoutModel",
          "model_module_version": "1.2.0",
          "state": {
            "_model_module": "@jupyter-widgets/base",
            "_model_module_version": "1.2.0",
            "_model_name": "LayoutModel",
            "_view_count": null,
            "_view_module": "@jupyter-widgets/base",
            "_view_module_version": "1.2.0",
            "_view_name": "LayoutView",
            "align_content": null,
            "align_items": null,
            "align_self": null,
            "border": null,
            "bottom": null,
            "display": null,
            "flex": null,
            "flex_flow": null,
            "grid_area": null,
            "grid_auto_columns": null,
            "grid_auto_flow": null,
            "grid_auto_rows": null,
            "grid_column": null,
            "grid_gap": null,
            "grid_row": null,
            "grid_template_areas": null,
            "grid_template_columns": null,
            "grid_template_rows": null,
            "height": null,
            "justify_content": null,
            "justify_items": null,
            "left": null,
            "margin": null,
            "max_height": null,
            "max_width": null,
            "min_height": null,
            "min_width": null,
            "object_fit": null,
            "object_position": null,
            "order": null,
            "overflow": null,
            "overflow_x": null,
            "overflow_y": null,
            "padding": null,
            "right": null,
            "top": null,
            "visibility": null,
            "width": null
          }
        },
        "15c91544271144009093f104d1086d76": {
          "model_module": "@jupyter-widgets/controls",
          "model_name": "DescriptionStyleModel",
          "model_module_version": "1.5.0",
          "state": {
            "_model_module": "@jupyter-widgets/controls",
            "_model_module_version": "1.5.0",
            "_model_name": "DescriptionStyleModel",
            "_view_count": null,
            "_view_module": "@jupyter-widgets/base",
            "_view_module_version": "1.2.0",
            "_view_name": "StyleView",
            "description_width": ""
          }
        },
        "81f0ac5d252447b195b307bf6e19520f": {
          "model_module": "@jupyter-widgets/controls",
          "model_name": "HBoxModel",
          "model_module_version": "1.5.0",
          "state": {
            "_dom_classes": [],
            "_model_module": "@jupyter-widgets/controls",
            "_model_module_version": "1.5.0",
            "_model_name": "HBoxModel",
            "_view_count": null,
            "_view_module": "@jupyter-widgets/controls",
            "_view_module_version": "1.5.0",
            "_view_name": "HBoxView",
            "box_style": "",
            "children": [
              "IPY_MODEL_03b12f7c68b840219cf917ba641444b4",
              "IPY_MODEL_5a576459459c4986b752a97a6a1c7cf2",
              "IPY_MODEL_a99171464fba4515ae5c743e363065c6"
            ],
            "layout": "IPY_MODEL_da0b3d1153af4c89bb3ec2e8c154778c"
          }
        },
        "03b12f7c68b840219cf917ba641444b4": {
          "model_module": "@jupyter-widgets/controls",
          "model_name": "HTMLModel",
          "model_module_version": "1.5.0",
          "state": {
            "_dom_classes": [],
            "_model_module": "@jupyter-widgets/controls",
            "_model_module_version": "1.5.0",
            "_model_name": "HTMLModel",
            "_view_count": null,
            "_view_module": "@jupyter-widgets/controls",
            "_view_module_version": "1.5.0",
            "_view_name": "HTMLView",
            "description": "",
            "description_tooltip": null,
            "layout": "IPY_MODEL_8805fa27444e4df180791b8dcbb21e55",
            "placeholder": "​",
            "style": "IPY_MODEL_e7533abee6e64b1fb8f7eb76c6e39fb8",
            "value": "100%"
          }
        },
        "5a576459459c4986b752a97a6a1c7cf2": {
          "model_module": "@jupyter-widgets/controls",
          "model_name": "FloatProgressModel",
          "model_module_version": "1.5.0",
          "state": {
            "_dom_classes": [],
            "_model_module": "@jupyter-widgets/controls",
            "_model_module_version": "1.5.0",
            "_model_name": "FloatProgressModel",
            "_view_count": null,
            "_view_module": "@jupyter-widgets/controls",
            "_view_module_version": "1.5.0",
            "_view_name": "ProgressView",
            "bar_style": "success",
            "description": "",
            "description_tooltip": null,
            "layout": "IPY_MODEL_a50625fbf7ec442baa249445aa8e6e97",
            "max": 10000,
            "min": 0,
            "orientation": "horizontal",
            "style": "IPY_MODEL_16e01ca6fe694a3694344f30c928dd33",
            "value": 10000
          }
        },
        "a99171464fba4515ae5c743e363065c6": {
          "model_module": "@jupyter-widgets/controls",
          "model_name": "HTMLModel",
          "model_module_version": "1.5.0",
          "state": {
            "_dom_classes": [],
            "_model_module": "@jupyter-widgets/controls",
            "_model_module_version": "1.5.0",
            "_model_name": "HTMLModel",
            "_view_count": null,
            "_view_module": "@jupyter-widgets/controls",
            "_view_module_version": "1.5.0",
            "_view_name": "HTMLView",
            "description": "",
            "description_tooltip": null,
            "layout": "IPY_MODEL_e6fd7653fea147ad82b904c6ea3cfbcd",
            "placeholder": "​",
            "style": "IPY_MODEL_5f8c518832594ef9a0c18eb8aa321eca",
            "value": " 10000/10000 [00:17&lt;00:00, 584.00it/s]"
          }
        },
        "da0b3d1153af4c89bb3ec2e8c154778c": {
          "model_module": "@jupyter-widgets/base",
          "model_name": "LayoutModel",
          "model_module_version": "1.2.0",
          "state": {
            "_model_module": "@jupyter-widgets/base",
            "_model_module_version": "1.2.0",
            "_model_name": "LayoutModel",
            "_view_count": null,
            "_view_module": "@jupyter-widgets/base",
            "_view_module_version": "1.2.0",
            "_view_name": "LayoutView",
            "align_content": null,
            "align_items": null,
            "align_self": null,
            "border": null,
            "bottom": null,
            "display": null,
            "flex": null,
            "flex_flow": null,
            "grid_area": null,
            "grid_auto_columns": null,
            "grid_auto_flow": null,
            "grid_auto_rows": null,
            "grid_column": null,
            "grid_gap": null,
            "grid_row": null,
            "grid_template_areas": null,
            "grid_template_columns": null,
            "grid_template_rows": null,
            "height": null,
            "justify_content": null,
            "justify_items": null,
            "left": null,
            "margin": null,
            "max_height": null,
            "max_width": null,
            "min_height": null,
            "min_width": null,
            "object_fit": null,
            "object_position": null,
            "order": null,
            "overflow": null,
            "overflow_x": null,
            "overflow_y": null,
            "padding": null,
            "right": null,
            "top": null,
            "visibility": null,
            "width": null
          }
        },
        "8805fa27444e4df180791b8dcbb21e55": {
          "model_module": "@jupyter-widgets/base",
          "model_name": "LayoutModel",
          "model_module_version": "1.2.0",
          "state": {
            "_model_module": "@jupyter-widgets/base",
            "_model_module_version": "1.2.0",
            "_model_name": "LayoutModel",
            "_view_count": null,
            "_view_module": "@jupyter-widgets/base",
            "_view_module_version": "1.2.0",
            "_view_name": "LayoutView",
            "align_content": null,
            "align_items": null,
            "align_self": null,
            "border": null,
            "bottom": null,
            "display": null,
            "flex": null,
            "flex_flow": null,
            "grid_area": null,
            "grid_auto_columns": null,
            "grid_auto_flow": null,
            "grid_auto_rows": null,
            "grid_column": null,
            "grid_gap": null,
            "grid_row": null,
            "grid_template_areas": null,
            "grid_template_columns": null,
            "grid_template_rows": null,
            "height": null,
            "justify_content": null,
            "justify_items": null,
            "left": null,
            "margin": null,
            "max_height": null,
            "max_width": null,
            "min_height": null,
            "min_width": null,
            "object_fit": null,
            "object_position": null,
            "order": null,
            "overflow": null,
            "overflow_x": null,
            "overflow_y": null,
            "padding": null,
            "right": null,
            "top": null,
            "visibility": null,
            "width": null
          }
        },
        "e7533abee6e64b1fb8f7eb76c6e39fb8": {
          "model_module": "@jupyter-widgets/controls",
          "model_name": "DescriptionStyleModel",
          "model_module_version": "1.5.0",
          "state": {
            "_model_module": "@jupyter-widgets/controls",
            "_model_module_version": "1.5.0",
            "_model_name": "DescriptionStyleModel",
            "_view_count": null,
            "_view_module": "@jupyter-widgets/base",
            "_view_module_version": "1.2.0",
            "_view_name": "StyleView",
            "description_width": ""
          }
        },
        "a50625fbf7ec442baa249445aa8e6e97": {
          "model_module": "@jupyter-widgets/base",
          "model_name": "LayoutModel",
          "model_module_version": "1.2.0",
          "state": {
            "_model_module": "@jupyter-widgets/base",
            "_model_module_version": "1.2.0",
            "_model_name": "LayoutModel",
            "_view_count": null,
            "_view_module": "@jupyter-widgets/base",
            "_view_module_version": "1.2.0",
            "_view_name": "LayoutView",
            "align_content": null,
            "align_items": null,
            "align_self": null,
            "border": null,
            "bottom": null,
            "display": null,
            "flex": null,
            "flex_flow": null,
            "grid_area": null,
            "grid_auto_columns": null,
            "grid_auto_flow": null,
            "grid_auto_rows": null,
            "grid_column": null,
            "grid_gap": null,
            "grid_row": null,
            "grid_template_areas": null,
            "grid_template_columns": null,
            "grid_template_rows": null,
            "height": null,
            "justify_content": null,
            "justify_items": null,
            "left": null,
            "margin": null,
            "max_height": null,
            "max_width": null,
            "min_height": null,
            "min_width": null,
            "object_fit": null,
            "object_position": null,
            "order": null,
            "overflow": null,
            "overflow_x": null,
            "overflow_y": null,
            "padding": null,
            "right": null,
            "top": null,
            "visibility": null,
            "width": null
          }
        },
        "16e01ca6fe694a3694344f30c928dd33": {
          "model_module": "@jupyter-widgets/controls",
          "model_name": "ProgressStyleModel",
          "model_module_version": "1.5.0",
          "state": {
            "_model_module": "@jupyter-widgets/controls",
            "_model_module_version": "1.5.0",
            "_model_name": "ProgressStyleModel",
            "_view_count": null,
            "_view_module": "@jupyter-widgets/base",
            "_view_module_version": "1.2.0",
            "_view_name": "StyleView",
            "bar_color": null,
            "description_width": ""
          }
        },
        "e6fd7653fea147ad82b904c6ea3cfbcd": {
          "model_module": "@jupyter-widgets/base",
          "model_name": "LayoutModel",
          "model_module_version": "1.2.0",
          "state": {
            "_model_module": "@jupyter-widgets/base",
            "_model_module_version": "1.2.0",
            "_model_name": "LayoutModel",
            "_view_count": null,
            "_view_module": "@jupyter-widgets/base",
            "_view_module_version": "1.2.0",
            "_view_name": "LayoutView",
            "align_content": null,
            "align_items": null,
            "align_self": null,
            "border": null,
            "bottom": null,
            "display": null,
            "flex": null,
            "flex_flow": null,
            "grid_area": null,
            "grid_auto_columns": null,
            "grid_auto_flow": null,
            "grid_auto_rows": null,
            "grid_column": null,
            "grid_gap": null,
            "grid_row": null,
            "grid_template_areas": null,
            "grid_template_columns": null,
            "grid_template_rows": null,
            "height": null,
            "justify_content": null,
            "justify_items": null,
            "left": null,
            "margin": null,
            "max_height": null,
            "max_width": null,
            "min_height": null,
            "min_width": null,
            "object_fit": null,
            "object_position": null,
            "order": null,
            "overflow": null,
            "overflow_x": null,
            "overflow_y": null,
            "padding": null,
            "right": null,
            "top": null,
            "visibility": null,
            "width": null
          }
        },
        "5f8c518832594ef9a0c18eb8aa321eca": {
          "model_module": "@jupyter-widgets/controls",
          "model_name": "DescriptionStyleModel",
          "model_module_version": "1.5.0",
          "state": {
            "_model_module": "@jupyter-widgets/controls",
            "_model_module_version": "1.5.0",
            "_model_name": "DescriptionStyleModel",
            "_view_count": null,
            "_view_module": "@jupyter-widgets/base",
            "_view_module_version": "1.2.0",
            "_view_name": "StyleView",
            "description_width": ""
          }
        }
      }
    }
  },
  "cells": [
    {
      "cell_type": "markdown",
      "metadata": {
        "id": "view-in-github",
        "colab_type": "text"
      },
      "source": [
        "<a href=\"https://colab.research.google.com/github/thisisreallife/Medium/blob/master/Comparing_T_tests_under_SRSWOR.ipynb\" target=\"_parent\"><img src=\"https://colab.research.google.com/assets/colab-badge.svg\" alt=\"Open In Colab\"/></a>"
      ]
    },
    {
      "cell_type": "code",
      "execution_count": 1,
      "metadata": {
        "id": "Hb2OHbQLia1u"
      },
      "outputs": [],
      "source": [
        "%reset -f\n",
        "import numpy as np\n",
        "import pandas as pd\n",
        "from scipy.stats import norm, ttest_ind,t\n",
        "import scipy.stats as stats\n",
        "from tqdm.notebook import tqdm\n",
        "import matplotlib.pyplot as plt"
      ]
    },
    {
      "cell_type": "markdown",
      "source": [
        "## Some Utilities"
      ],
      "metadata": {
        "id": "6C2rNcJ-zJgn"
      }
    },
    {
      "cell_type": "code",
      "source": [
        "# Split sample into control and treatment arms equally.\n",
        "def get_2_bkts(data):\n",
        "    n = len(data)\n",
        "    random_numbers = norm.rvs(0,1,n)\n",
        "    return data[random_numbers<0], data[random_numbers>0]\n",
        "\n",
        "## T-testing considering sampling ratio of srswor\n",
        "def ttests_sample_ratio(data_a, data_b, f):\n",
        "    test_var = np.var(data_a)/len(data_a)*(1-f) + np.var(data_b)/len(data_b)*(1-f)\n",
        "    z_stats = (np.mean(data_a) - np.mean(data_b))/test_var**0.5\n",
        "    p_value = 2*(1-norm.cdf(abs(z_stats)))\n",
        "    return z_stats,p_value"
      ],
      "metadata": {
        "id": "9MtyPN2Npk6R"
      },
      "execution_count": 3,
      "outputs": []
    },
    {
      "cell_type": "code",
      "source": [
        "population = norm.rvs(10,20,10000)\n",
        "population1 = norm.rvs(10,20,10000)\n",
        "population2 = norm.rvs(10,20,10000)\n",
        "population2 = population2 + population1.mean() - population2.mean()"
      ],
      "metadata": {
        "id": "7IIgBP0ylgRS"
      },
      "execution_count": 58,
      "outputs": []
    },
    {
      "cell_type": "code",
      "source": [
        "population.mean(), population1.mean(), population2.mean()"
      ],
      "metadata": {
        "id": "Wl8lckBLnGoH",
        "outputId": "a0fcb49a-4bf9-47a3-eb37-d8d309c6e754",
        "colab": {
          "base_uri": "https://localhost:8080/"
        }
      },
      "execution_count": 59,
      "outputs": [
        {
          "output_type": "execute_result",
          "data": {
            "text/plain": [
              "(10.037889881308939, 9.959013730212103, 9.959013730212103)"
            ]
          },
          "metadata": {},
          "execution_count": 59
        }
      ]
    },
    {
      "cell_type": "code",
      "source": [
        "# test our ttest_sample_ratio. Our self-define function \n",
        "a = norm.rvs(0,1,10000)\n",
        "b = norm.rvs(0,1,10000)\n",
        "ttest_ind(a,b,equal_var = False), ttests_sample_ratio(a,b,0), ttests_sample_ratio(a,b,0.5)"
      ],
      "metadata": {
        "colab": {
          "base_uri": "https://localhost:8080/"
        },
        "id": "PTHtISPgqWJV",
        "outputId": "26edbbbe-bc43-42fb-a6b7-270d07953bc6"
      },
      "execution_count": 12,
      "outputs": [
        {
          "output_type": "execute_result",
          "data": {
            "text/plain": [
              "(Ttest_indResult(statistic=-1.3442050755853656, pvalue=0.17889732961693808),\n",
              " (-1.344272290880334, 0.17886035242173626),\n",
              " (-1.9010881052853184, 0.0572904733347408))"
            ]
          },
          "metadata": {},
          "execution_count": 12
        }
      ]
    },
    {
      "cell_type": "markdown",
      "source": [
        "## Comparing AA and AB performance in simulation "
      ],
      "metadata": {
        "id": "SXwIJqOMzSKh"
      }
    },
    {
      "cell_type": "markdown",
      "source": [
        "Now, we split population into 2 arms equally and test them base on 2 methods(considering sample ratio or not). First, we compare the p_values and t_stats of 1000 testing in AA situation. Then, we repeat in a AB situation."
      ],
      "metadata": {
        "id": "qhEbO2EXyjvN"
      }
    },
    {
      "cell_type": "markdown",
      "source": [
        "We use __srs__ to draw 5000 samples from population, and then split into control group(\\~2500 samples) and treatment group(\\~2500 samples). We perform two sample T-test with/withour considering sampling ratio(f = 0.25)."
      ],
      "metadata": {
        "id": "4JiVzSm75mGG"
      }
    },
    {
      "cell_type": "code",
      "source": [
        "test_result_srs = []\n",
        "test_result_srswor = []\n",
        "for i in tqdm(range(10000)):\n",
        "    # get the sample of experiment\n",
        "    sample_iter_srs = np.random.choice(population, 5000, replace = True)\n",
        "    # sample_iter_srswor = np.random.choice(population, 5000, replace = False)\n",
        "    # get the sample of each experiment version\n",
        "    con_srs = np.random.choice(population, 2500, replace = True)\n",
        "    trt_srs = np.random.choice(population, 2500, replace = True)\n",
        "    # con_srswor, trt_srswor = get_2_bkts(sample_iter_srswor)\n",
        "    # conduct t-tests\n",
        "    test_result_srs.append(ttests_sample_ratio(con_srs, trt_srs, f = 0))\n",
        "    test_result_srswor.append(ttests_sample_ratio(con_srs, trt_srs, f = 0.25))\n",
        "plt.hist([i[1] for i in test_result_srs], alpha = 0.5)\n",
        "plt.hist([i[1] for i in test_result_srswor], alpha = 0.5)\n",
        "plt.legend(['not considering f', 'considering f'])\n",
        "plt.title('P_values of two testing methods under 50-50 split, in srs situation')"
      ],
      "metadata": {
        "colab": {
          "base_uri": "https://localhost:8080/",
          "height": 331,
          "referenced_widgets": [
            "a7b3a499345349208e37d7c1e0900e03",
            "cf8c4b47714d41fda971b8b2eec5a205",
            "f734c3428ace48c99b6ec4250256bf4b",
            "742359a340464bdabfeb89306f75101f",
            "63970b7a28a94bb3b3cf09100e487889",
            "6fe08a8690c3416a8df6d60086d577bc",
            "7011df66047147bbbdd90057f56f6e20",
            "adc09ef2d01b4d5fb2745fc469c936ca",
            "d177aaa40a4a427c9b8fbc2495a02c6f",
            "76ab8a424fa34634b5560dd6c5f2975d",
            "edb6b04f184b4f7f9b541ecba960cabb"
          ]
        },
        "id": "xaDLSEwIos9Q",
        "outputId": "3814f18a-5c05-4f16-ce66-ebbaad28b47b"
      },
      "execution_count": 62,
      "outputs": [
        {
          "output_type": "display_data",
          "data": {
            "text/plain": [
              "  0%|          | 0/10000 [00:00<?, ?it/s]"
            ],
            "application/vnd.jupyter.widget-view+json": {
              "version_major": 2,
              "version_minor": 0,
              "model_id": "a7b3a499345349208e37d7c1e0900e03"
            }
          },
          "metadata": {}
        },
        {
          "output_type": "execute_result",
          "data": {
            "text/plain": [
              "Text(0.5, 1.0, 'P_values of two testing methods under 50-50 split, in srs situation')"
            ]
          },
          "metadata": {},
          "execution_count": 62
        },
        {
          "output_type": "display_data",
          "data": {
            "text/plain": [
              "<Figure size 432x288 with 1 Axes>"
            ],
            "image/png": "[encoded data removed]"
          },
          "metadata": {
            "needs_background": "light"
          }
        }
      ]
    },
    {
      "cell_type": "markdown",
      "source": [
        "It shows that we should not considering sampling ratio f in __srs scenario__, because p_values of `considering f` is not uniform."
      ],
      "metadata": {
        "id": "ZeaKlT5d53bO"
      }
    },
    {
      "cell_type": "code",
      "source": [
        "# stats.kstest([i[1] for i in test_result_srs], lambda x: stats.uniform.cdf(x,0,1)),\\\n",
        "# stats.kstest([i[1] for i in test_result_srswor], lambda x: stats.uniform.cdf(x,0,1))"
      ],
      "metadata": {
        "id": "l7kkfXsxj92t"
      },
      "execution_count": null,
      "outputs": []
    },
    {
      "cell_type": "code",
      "source": [
        "# stats.kstest([i[0] for i in test_result_srs], lambda x: stats.norm.cdf(x, 0,1)),\\\n",
        "# stats.kstest([i[0] for i in test_result_srswor], lambda x: stats.norm.cdf(x, 0,1))"
      ],
      "metadata": {
        "id": "wQixxpFYkNTm"
      },
      "execution_count": null,
      "outputs": []
    },
    {
      "cell_type": "markdown",
      "source": [
        "We use srswor to draw 5000 samples from population, and then split into control group(\\~2500 samples) and treatment group(\\~2500 samples). We perform two sample T-test with/withour considering sampling ratio(f = 0.25)."
      ],
      "metadata": {
        "id": "3ER_vRAP33lu"
      }
    },
    {
      "cell_type": "code",
      "source": [
        "test_result_srs = []\n",
        "test_result_srswor = []\n",
        "for i in tqdm(range(10000)):\n",
        "    # get the sample of experiment\n",
        "    sample_iter_srswor = np.random.choice(population, 5000, replace = False) # N_population = 10000, n_control + n_treatment = 5000\n",
        "\n",
        "    # get the sample of each experiment version\n",
        "\n",
        "    con_srswor, trt_srswor = get_2_bkts(sample_iter_srswor) # n_control/n_treatment = 2500, f = 0.25. This is another srswor\n",
        "    # conduct t-tests\n",
        "    test_result_srs.append(ttests_sample_ratio(con_srswor, trt_srswor, f = 0))\n",
        "    test_result_srswor.append(ttests_sample_ratio(con_srswor, trt_srswor, f = 0.25))\n",
        "\n",
        "plt.hist([i[1] for i in test_result_srs], alpha = 0.5)\n",
        "plt.hist([i[1] for i in test_result_srswor], alpha = 0.5)\n",
        "plt.legend(['not considering f', 'considerig f'])\n",
        "plt.title('P_values of two testing methods under 50-50 split, in srswor situation')"
      ],
      "metadata": {
        "colab": {
          "base_uri": "https://localhost:8080/",
          "height": 331,
          "referenced_widgets": [
            "259909b7bf8e4af6bcd64a8d77b8a9dd",
            "5fce06c9491b45f6a63f9c71ab949c57",
            "93763ebce27542e688c067c4dd4d0e9f",
            "d503c17d8c8449ec83dd9777964b30ad",
            "5cb4b0e1c10344a09d7bac5ec89a68b8",
            "9f5c99cec08049bdab845c576eea4226",
            "0ea859ed59554030832f9bdbfe1df7cc",
            "b7c9e337dcb14e99b87259793db9874a",
            "b8801ea6dc2e4737b2a42ed0b1c16392",
            "2a403de9343f4c42b781209c6df70025",
            "88d1bf65d5c14b5ab812df88ff1dd8f6"
          ]
        },
        "id": "M46Iqzn6k_NB",
        "outputId": "9adf9dba-cd25-4820-e265-03116eb24bf5"
      },
      "execution_count": 63,
      "outputs": [
        {
          "output_type": "display_data",
          "data": {
            "text/plain": [
              "  0%|          | 0/10000 [00:00<?, ?it/s]"
            ],
            "application/vnd.jupyter.widget-view+json": {
              "version_major": 2,
              "version_minor": 0,
              "model_id": "259909b7bf8e4af6bcd64a8d77b8a9dd"
            }
          },
          "metadata": {}
        },
        {
          "output_type": "execute_result",
          "data": {
            "text/plain": [
              "Text(0.5, 1.0, 'P_values of two testing methods under 50-50 split, in srswor situation')"
            ]
          },
          "metadata": {},
          "execution_count": 63
        },
        {
          "output_type": "display_data",
          "data": {
            "text/plain": [
              "<Figure size 432x288 with 1 Axes>"
            ],
            "image/png": "[encoded data removed]"
          },
          "metadata": {
            "needs_background": "light"
          }
        }
      ]
    },
    {
      "cell_type": "markdown",
      "source": [
        "It shows that we should not considering sampling ratio f in __srswor scenario__, because p_values of `considering f` is not uniform."
      ],
      "metadata": {
        "id": "2W1tqrRn6MS5"
      }
    },
    {
      "cell_type": "markdown",
      "source": [
        "# In one sample scenario, we need sampling ratio f to estimate variance of sampling mean."
      ],
      "metadata": {
        "id": "XMzZQOan0nAf"
      }
    },
    {
      "cell_type": "code",
      "source": [
        "test_result_srs = []\n",
        "test_result_srswor = []\n",
        "for i in tqdm(range(10000)):\n",
        "    # 从10k总体中, 抽取5k个样本. 抽样比f = 0.5\n",
        "    sample_iter_srswor = np.random.choice(population, 5000, replace = False) \n",
        "\n",
        "    # conduct t-tests. 检验样本的均值是否!=10\n",
        "    ## 计算不考虑抽样比的结果\n",
        "    t_stats_not_considering_f = (sample_iter_srswor.mean()-10)/np.std(sample_iter_srswor)*np.sqrt(len(sample_iter_srswor))\n",
        "    p_value_not_considering_f = 2*(1 - norm.cdf(abs(t_stats_not_considering_f)))\n",
        "\n",
        "    ## 计算考虑抽样比的结果\n",
        "    f = 0.5\n",
        "    var = np.var(sample_iter_srswor)/len(sample_iter_srswor)*(1-f) # 带有抽样比\n",
        "    t_stats_considering_f = (sample_iter_srswor.mean()-population.mean())/var**0.5\n",
        "    p_value_considering_f = 2*(1 - norm.cdf(abs(t_stats_considering_f))) \n",
        "    \n",
        "    # 输出检验的统计量和p值\n",
        "    test_result_srs.append((t_stats_not_considering_f, p_value_not_considering_f))\n",
        "    test_result_srswor.append((t_stats_considering_f, p_value_considering_f))\n",
        "\n",
        "# 发现考虑抽样比的时候, p值是服从均匀分布的. 所以应该考虑抽样比\n",
        "plt.hist([i[1] for i in test_result_srs], alpha = 0.5)\n",
        "plt.hist([i[1] for i in test_result_srswor], alpha = 0.5)\n",
        "plt.legend(['not considering f', 'considering f'])\n",
        "plt.title('P_values of two testing methods under 50-50 split, in srswor situation')"
      ],
      "metadata": {
        "colab": {
          "base_uri": "https://localhost:8080/",
          "height": 331,
          "referenced_widgets": [
            "a2a7a618b3c247a2b212a68926134da5",
            "dde32ec77f36447a8346b10a339c22f7",
            "6a42c282cb0447bc86e9fc1f589f71cc",
            "c85e622623ab4be1add8123279a4fd09",
            "a4f92891692e4e8988a46a98761a90a6",
            "fa89ff5d395a4f238e6b3844c1e02bbe",
            "b86962a20c8e435195beb851c4da9b9f",
            "32f1e868e9ac40548913dc692108a7d9",
            "d9d57a1b9e7d49ad8ebb09a2b0bbc833",
            "f7a43cfaa06c48f7a162655893009628",
            "15c91544271144009093f104d1086d76"
          ]
        },
        "id": "aQb-ChQX0r0h",
        "outputId": "0b183fb7-03a0-482b-b3d8-ad8fef277f66"
      },
      "execution_count": 64,
      "outputs": [
        {
          "output_type": "display_data",
          "data": {
            "text/plain": [
              "  0%|          | 0/10000 [00:00<?, ?it/s]"
            ],
            "application/vnd.jupyter.widget-view+json": {
              "version_major": 2,
              "version_minor": 0,
              "model_id": "a2a7a618b3c247a2b212a68926134da5"
            }
          },
          "metadata": {}
        },
        {
          "output_type": "execute_result",
          "data": {
            "text/plain": [
              "Text(0.5, 1.0, 'P_values of two testing methods under 50-50 split, in srswor situation')"
            ]
          },
          "metadata": {},
          "execution_count": 64
        },
        {
          "output_type": "display_data",
          "data": {
            "text/plain": [
              "<Figure size 432x288 with 1 Axes>"
            ],
            "image/png": "[encoded data removed]"
          },
          "metadata": {
            "needs_background": "light"
          }
        }
      ]
    },
    {
      "cell_type": "code",
      "source": [
        "np.max(population) - np.min(population),np.max(population1) - np.min(population1),np.max(population2) - np.min(population2)"
      ],
      "metadata": {
        "colab": {
          "base_uri": "https://localhost:8080/"
        },
        "id": "abdtCBt_a-NR",
        "outputId": "f69bee92-046b-4e1b-874c-b0312cc76633"
      },
      "execution_count": 26,
      "outputs": [
        {
          "output_type": "execute_result",
          "data": {
            "text/plain": [
              "(15.710326580845631, 18.31430923819282, 16.613331023042342)"
            ]
          },
          "metadata": {},
          "execution_count": 26
        }
      ]
    },
    {
      "cell_type": "code",
      "source": [
        "l1 = []\n",
        "l2 = []\n",
        "l3 = []\n",
        "\n",
        "for i in tqdm(range(10000)):\n",
        "    # 从10k总体中, 抽取5k个样本. 抽样比f = 0.5\n",
        "    con_srswor = np.random.choice(population1, 5000, replace = False) \n",
        "    trt_srswor = np.random.choice(population1, 5000, replace = False) \n",
        "\n",
        "    # conduct t-tests. 检验样本的均值是否相等\n",
        "    ## 计算不考虑抽样比的结果\n",
        "    l1.append(ttests_sample_ratio(con_srswor, trt_srswor, f = 0))\n",
        "    l2.append(ttests_sample_ratio(con_srswor, trt_srswor, f = 0.5))\n",
        "\n",
        "    # 单样本\n",
        "    data = np.random.choice(population, 5000, replace = False) \n",
        "    var = np.var(data)/len(data)*(1-0.5) # 带有抽样比\n",
        "    t_stats_considering_f = (data.mean()-population.mean())/var**0.5\n",
        "    p_value_considering_f = 2*(1 - norm.cdf(abs(t_stats_considering_f))) \n",
        "    l3.append((t_stats_considering_f, p_value_considering_f))\n",
        "\n",
        "# 发现考虑抽样比的时候, p值是服从均匀分布的. 所以应该考虑抽样比\n",
        "# plt.subplot(1,3,1)\n",
        "plt.hist([i[1] for i in l1], alpha = 0.5)\n",
        "# plt.subplot(1,3,2)\n",
        "plt.hist([i[1] for i in l2], alpha = 0.5)\n",
        "# plt.subplot(1,3,3)\n",
        "# plt.hist([i[1] for i in l3], alpha = 0.5)\n",
        "plt.legend(['not considering f', 'considering f'])\n",
        "plt.title('P_values of two testing methods under 50-50 split, in srswor situation')\n"
      ],
      "metadata": {
        "colab": {
          "base_uri": "https://localhost:8080/",
          "height": 331,
          "referenced_widgets": [
            "81f0ac5d252447b195b307bf6e19520f",
            "03b12f7c68b840219cf917ba641444b4",
            "5a576459459c4986b752a97a6a1c7cf2",
            "a99171464fba4515ae5c743e363065c6",
            "da0b3d1153af4c89bb3ec2e8c154778c",
            "8805fa27444e4df180791b8dcbb21e55",
            "e7533abee6e64b1fb8f7eb76c6e39fb8",
            "a50625fbf7ec442baa249445aa8e6e97",
            "16e01ca6fe694a3694344f30c928dd33",
            "e6fd7653fea147ad82b904c6ea3cfbcd",
            "5f8c518832594ef9a0c18eb8aa321eca"
          ]
        },
        "id": "tbknrNfQHdKK",
        "outputId": "6f5d8a37-34d6-46aa-b57c-eb2474c34700"
      },
      "execution_count": 67,
      "outputs": [
        {
          "output_type": "display_data",
          "data": {
            "text/plain": [
              "  0%|          | 0/10000 [00:00<?, ?it/s]"
            ],
            "application/vnd.jupyter.widget-view+json": {
              "version_major": 2,
              "version_minor": 0,
              "model_id": "81f0ac5d252447b195b307bf6e19520f"
            }
          },
          "metadata": {}
        },
        {
          "output_type": "execute_result",
          "data": {
            "text/plain": [
              "Text(0.5, 1.0, 'P_values of two testing methods under 50-50 split, in srswor situation')"
            ]
          },
          "metadata": {},
          "execution_count": 67
        },
        {
          "output_type": "display_data",
          "data": {
            "text/plain": [
              "<Figure size 432x288 with 1 Axes>"
            ],
            "image/png": "[encoded data removed]"
          },
          "metadata": {
            "needs_background": "light"
          }
        }
      ]
    },
    {
      "cell_type": "code",
      "source": [
        "ttests_sample_ratio(con_srswor, trt_srswor, f = 0)"
      ],
      "metadata": {
        "id": "rqQY5P5db-V6",
        "outputId": "02f7e554-700f-4149-b188-65e3e8567742",
        "colab": {
          "base_uri": "https://localhost:8080/"
        }
      },
      "execution_count": 28,
      "outputs": [
        {
          "output_type": "execute_result",
          "data": {
            "text/plain": [
              "(1.192578633183784, 0.23303443803092083)"
            ]
          },
          "metadata": {},
          "execution_count": 28
        }
      ]
    },
    {
      "cell_type": "code",
      "source": [
        "ttests_sample_ratio(con_srswor, trt_srswor, f = 0.5)"
      ],
      "metadata": {
        "id": "wy-y4pBFQo7z",
        "outputId": "c74d8c41-ed5f-479f-e094-f3fa5dbb5c5f",
        "colab": {
          "base_uri": "https://localhost:8080/"
        }
      },
      "execution_count": 29,
      "outputs": [
        {
          "output_type": "execute_result",
          "data": {
            "text/plain": [
              "(1.6865608772448757, 0.09168782002294806)"
            ]
          },
          "metadata": {},
          "execution_count": 29
        }
      ]
    },
    {
      "cell_type": "code",
      "source": [
        "con_srswor.mean() - trt_srswor.mean()"
      ],
      "metadata": {
        "id": "aD9j2Y9Nk4N1",
        "outputId": "832d6150-dfbe-40fd-bc78-2204f59480d8",
        "colab": {
          "base_uri": "https://localhost:8080/"
        }
      },
      "execution_count": 30,
      "outputs": [
        {
          "output_type": "execute_result",
          "data": {
            "text/plain": [
              "0.04671205981328974"
            ]
          },
          "metadata": {},
          "execution_count": 30
        }
      ]
    },
    {
      "cell_type": "code",
      "source": [
        "(con_srswor.var()/5000*0.5 + trt_srswor.var()/5000*0.5)**0.5"
      ],
      "metadata": {
        "id": "cBh9knGRk_Ge",
        "outputId": "69b5e403-3f19-4d0e-bbde-f11324bff1ed",
        "colab": {
          "base_uri": "https://localhost:8080/"
        }
      },
      "execution_count": 35,
      "outputs": [
        {
          "output_type": "execute_result",
          "data": {
            "text/plain": [
              "0.02769663428313208"
            ]
          },
          "metadata": {},
          "execution_count": 35
        }
      ]
    },
    {
      "cell_type": "code",
      "source": [
        "con_srswor.var(),trt_srswor.var()"
      ],
      "metadata": {
        "id": "xRcqh7O-lAyP",
        "outputId": "ca402568-7613-4e66-9ff2-38ce6c9ca08d",
        "colab": {
          "base_uri": "https://localhost:8080/"
        }
      },
      "execution_count": 38,
      "outputs": [
        {
          "output_type": "execute_result",
          "data": {
            "text/plain": [
              "(3.7030152293471175, 3.9680202767885566)"
            ]
          },
          "metadata": {},
          "execution_count": 38
        }
      ]
    },
    {
      "cell_type": "code",
      "source": [
        "population1.var(),population2.var()"
      ],
      "metadata": {
        "id": "GhV8aib0lJH-",
        "outputId": "0350be6c-636c-4434-d696-5ddf4a2f1282",
        "colab": {
          "base_uri": "https://localhost:8080/"
        }
      },
      "execution_count": 39,
      "outputs": [
        {
          "output_type": "execute_result",
          "data": {
            "text/plain": [
              "(3.8604150738643237, 4.030157899041065)"
            ]
          },
          "metadata": {},
          "execution_count": 39
        }
      ]
    },
    {
      "cell_type": "code",
      "source": [],
      "metadata": {
        "id": "tZfECzpPlZbD"
      },
      "execution_count": null,
      "outputs": []
    }
  ]
}