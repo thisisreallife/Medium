{
  "cells": [
    {
      "cell_type": "code",
      "execution_count": 3,
      "metadata": {
        "execution": {
          "iopub.execute_input": "2022-02-13T11:46:01.039747Z",
          "iopub.status.busy": "2022-02-13T11:46:01.039216Z",
          "iopub.status.idle": "2022-02-13T11:46:02.390297Z",
          "shell.execute_reply": "2022-02-13T11:46:02.388847Z",
          "shell.execute_reply.started": "2022-02-13T11:46:01.039691Z"
        },
        "id": "l71LziaVRxVj"
      },
      "outputs": [],
      "source": [
        "import scipy.stats as stats\n",
        "import numpy as np\n",
        "import matplotlib.pyplot as plt"
      ]
    },
    {
      "cell_type": "markdown",
      "metadata": {
        "execution": {
          "iopub.execute_input": "2022-02-13T11:30:00.308114Z",
          "iopub.status.busy": "2022-02-13T11:30:00.306707Z",
          "iopub.status.idle": "2022-02-13T11:30:00.316168Z",
          "shell.execute_reply": "2022-02-13T11:30:00.314742Z",
          "shell.execute_reply.started": "2022-02-13T11:30:00.308046Z"
        },
        "id": "9m9lf8ulRxVm"
      },
      "source": [
        "# 弱大数定律\n",
        "\n",
        "https://en.wikipedia.org/wiki/Law_of_large_numbers#Differences_between_the_weak_law_and_the_strong_law\n",
        "https://math.stackexchange.com/questions/2024255/what-is-the-difference-between-the-weak-and-strong-law-of-large-numbers\n",
        "https://stats.stackexchange.com/questions/205496/intuition-behind-strong-vs-weak-laws-of-large-numbers-with-an-r-simulation\n",
        "https://blog.csdn.net/luixiao1220/article/details/100170497 弱大数定律的例子不对, setting是均值序列, 而不是单个的随机变量."
      ]
    },
    {
      "cell_type": "markdown",
      "metadata": {
        "id": "SelHxaRPRxVo"
      },
      "source": [
        "## 均匀分布"
      ]
    },
    {
      "cell_type": "code",
      "execution_count": 4,
      "metadata": {
        "execution": {
          "iopub.execute_input": "2022-02-13T13:05:34.160029Z",
          "iopub.status.busy": "2022-02-13T13:05:34.159539Z",
          "iopub.status.idle": "2022-02-13T13:05:35.361616Z",
          "shell.execute_reply": "2022-02-13T13:05:35.359458Z",
          "shell.execute_reply.started": "2022-02-13T13:05:34.159975Z"
        },
        "id": "HuPmu4bfRxVo"
      },
      "outputs": [],
      "source": [
        "# 均匀分布, 强弱大数定律都满足\n",
        "n = 10000\n",
        "M = 1000\n",
        "sample = stats.uniform.rvs(0,1,size = (n,M))\n",
        "numbers_of_rvs = np.arange(n)+1\n",
        "sample_mean_series = np.apply_along_axis(lambda x: x/numbers_of_rvs, axis = 0, arr= sample.cumsum(axis = 0))"
      ]
    },
    {
      "cell_type": "markdown",
      "metadata": {
        "id": "vF-4wMGkRxVp"
      },
      "source": [
        "画出单个序列的样本均值走势图"
      ]
    },
    {
      "cell_type": "code",
      "execution_count": 5,
      "metadata": {
        "execution": {
          "iopub.execute_input": "2022-02-13T13:05:51.288208Z",
          "iopub.status.busy": "2022-02-13T13:05:51.287594Z",
          "iopub.status.idle": "2022-02-13T13:05:51.656868Z",
          "shell.execute_reply": "2022-02-13T13:05:51.654431Z",
          "shell.execute_reply.started": "2022-02-13T13:05:51.288147Z"
        },
        "colab": {
          "base_uri": "https://localhost:8080/",
          "height": 283
        },
        "id": "kE5caogdRxVp",
        "outputId": "ff171064-8d7e-4ab2-e5ce-c445545b2835"
      },
      "outputs": [
        {
          "output_type": "execute_result",
          "data": {
            "text/plain": [
              "(0.45, 0.55)"
            ]
          },
          "metadata": {},
          "execution_count": 5
        },
        {
          "output_type": "display_data",
          "data": {
            "image/png": "[encoded data removed]",
            "text/plain": [
              "<Figure size 432x288 with 1 Axes>"
            ]
          },
          "metadata": {
            "needs_background": "light"
          }
        }
      ],
      "source": [
        "plt.plot(numbers_of_rvs, sample_mean_series[:,0])\n",
        "plt.ylim(0.45,0.55)"
      ]
    },
    {
      "cell_type": "markdown",
      "metadata": {
        "id": "BSUtdd9dRxVq"
      },
      "source": [
        "指定一个界限eps, 根据10000条序列, 计算序列越过界限的概率. 这里我们用10000条序列的平均值计算概率序列, 因为样本有随机性, 所以图里面的线段在抖动. 但是, 我们可以看到概率序列正在收敛到1"
      ]
    },
    {
      "cell_type": "code",
      "execution_count": 6,
      "metadata": {
        "execution": {
          "iopub.execute_input": "2022-02-13T13:05:13.039659Z",
          "iopub.status.busy": "2022-02-13T13:05:13.039155Z",
          "iopub.status.idle": "2022-02-13T13:05:13.168485Z",
          "shell.execute_reply": "2022-02-13T13:05:13.166643Z",
          "shell.execute_reply.started": "2022-02-13T13:05:13.039603Z"
        },
        "id": "S9IQ2ZLARxVq"
      },
      "outputs": [],
      "source": [
        "eps = 0.02\n",
        "mu = 0.5\n",
        "prob_seq = (abs(sample_mean_series-mu)<eps).mean(axis = 1)"
      ]
    },
    {
      "cell_type": "code",
      "execution_count": 7,
      "metadata": {
        "execution": {
          "iopub.execute_input": "2022-02-13T13:05:13.644554Z",
          "iopub.status.busy": "2022-02-13T13:05:13.644059Z",
          "iopub.status.idle": "2022-02-13T13:05:14.098688Z",
          "shell.execute_reply": "2022-02-13T13:05:14.096406Z",
          "shell.execute_reply.started": "2022-02-13T13:05:13.644503Z"
        },
        "colab": {
          "base_uri": "https://localhost:8080/",
          "height": 283
        },
        "id": "ARHBuKbwRxVr",
        "outputId": "45dfb1ef-fd10-46ac-df53-bfb4f7664c57"
      },
      "outputs": [
        {
          "output_type": "execute_result",
          "data": {
            "text/plain": [
              "[<matplotlib.lines.Line2D at 0x7f949fed01d0>]"
            ]
          },
          "metadata": {},
          "execution_count": 7
        },
        {
          "output_type": "display_data",
          "data": {
            "image/png": "[encoded data removed]",
            "text/plain": [
              "<Figure size 432x288 with 1 Axes>"
            ]
          },
          "metadata": {
            "needs_background": "light"
          }
        }
      ],
      "source": [
        "plt.plot(numbers_of_rvs, prob_seq)"
      ]
    },
    {
      "cell_type": "markdown",
      "metadata": {
        "execution": {
          "iopub.execute_input": "2022-02-13T13:06:41.041098Z",
          "iopub.status.busy": "2022-02-13T13:06:41.040779Z",
          "iopub.status.idle": "2022-02-13T13:06:41.045681Z",
          "shell.execute_reply": "2022-02-13T13:06:41.044352Z",
          "shell.execute_reply.started": "2022-02-13T13:06:41.041056Z"
        },
        "id": "ghNd-8zZRxVs"
      },
      "source": [
        "## 特殊分布"
      ]
    },
    {
      "cell_type": "code",
      "execution_count": null,
      "metadata": {
        "execution": {
          "iopub.execute_input": "2022-02-13T23:20:48.624092Z",
          "iopub.status.busy": "2022-02-13T23:20:48.623647Z"
        },
        "id": "KdGcLXBXRxVs"
      },
      "outputs": [],
      "source": [
        "# 均匀分布, 强弱大数定律都满足\n",
        "n = 10000\n",
        "M = 100000\n",
        "sample = stats.expon.rvs(1,size = (n,M))\n",
        "sample = np.sin(sample)*np.exp(sample)/sample\n",
        "sample = sample/sample.std()\n",
        "numbers_of_rvs = np.arange(n)+1\n",
        "sample_mean_series = np.apply_along_axis(lambda x: x/numbers_of_rvs, axis = 0, arr= sample.cumsum(axis = 0))"
      ]
    },
    {
      "cell_type": "markdown",
      "metadata": {
        "id": "mQliI2B8RxVs"
      },
      "source": [
        "画出单个序列的样本均值走势图"
      ]
    },
    {
      "cell_type": "code",
      "execution_count": null,
      "metadata": {
        "id": "bxjXqcDERxVt"
      },
      "outputs": [],
      "source": [
        "plt.plot(numbers_of_rvs, sample_mean_series[:,0])\n",
        "plt.ylim(sample_mean_series[-1,0] - 3*sample_mean_series[-1,:].std(),\n",
        "        sample_mean_series[-1,0] + 3*sample_mean_series[-1,:].std())"
      ]
    },
    {
      "cell_type": "markdown",
      "metadata": {
        "id": "gJIK_TEJRxVt"
      },
      "source": [
        "指定一个界限eps, 根据10000条序列, 计算序列越过界限的概率. 这里我们用10000条序列的平均值计算概率序列, 因为样本有随机性, 所以图里面的线段在抖动. 但是, 我们可以看到概率序列正在收敛到1"
      ]
    },
    {
      "cell_type": "code",
      "execution_count": null,
      "metadata": {
        "id": "1C4XdPxNRxVt"
      },
      "outputs": [],
      "source": [
        "fig = plt.figure(figsize=(10,5))\n",
        "# add fig 1\n",
        "eps = 0.01\n",
        "mu = np.pi/2\n",
        "prob_seq = (abs(sample_mean_series-mu)<eps).mean(axis = 1)\n",
        "fig.add_subplot(121, title=\"$\\epsilon$ = 0.01\")\n",
        "plt.plot(numbers_of_rvs, prob_seq)\n",
        "# add fig 2\n",
        "eps = 0.1\n",
        "mu = np.pi/2\n",
        "prob_seq = (abs(sample_mean_series-mu)<eps).mean(axis = 1)\n",
        "fig.add_subplot(122, title=\"$\\epsilon$ = 0.1\")\n",
        "plt.plot(numbers_of_rvs, prob_seq)\n",
        "# add super title\n",
        "plt.suptitle('Sample Size vs. Simulation Convergence Probability',fontsize=20)"
      ]
    },
    {
      "cell_type": "markdown",
      "metadata": {
        "execution": {
          "iopub.execute_input": "2022-02-13T11:30:07.047333Z",
          "iopub.status.busy": "2022-02-13T11:30:07.046786Z",
          "iopub.status.idle": "2022-02-13T11:30:07.053378Z",
          "shell.execute_reply": "2022-02-13T11:30:07.051674Z",
          "shell.execute_reply.started": "2022-02-13T11:30:07.047271Z"
        },
        "id": "phKHebSeRxVt"
      },
      "source": [
        "# 强大数定律"
      ]
    },
    {
      "cell_type": "markdown",
      "metadata": {
        "id": "k9CFEQp9RxVu"
      },
      "source": [
        "## 均匀分布"
      ]
    },
    {
      "cell_type": "markdown",
      "metadata": {
        "id": "RQ4gUqKyRxVu"
      },
      "source": [
        "先看10000条样本均值序列的收敛情况, 发现随机变量的值似乎经过某个点(样本量)之后, 序列就完全进入到一个领域内, 不再跳出了. 如果序列在某个点之后不再离开该领域, 这就是数学上的序列收敛定义了.事实上真的是这样吗? "
      ]
    },
    {
      "cell_type": "code",
      "execution_count": null,
      "metadata": {
        "execution": {
          "iopub.execute_input": "2022-02-13T12:32:00.410173Z",
          "iopub.status.busy": "2022-02-13T12:32:00.409725Z",
          "iopub.status.idle": "2022-02-13T12:32:16.091657Z",
          "shell.execute_reply": "2022-02-13T12:32:16.089839Z",
          "shell.execute_reply.started": "2022-02-13T12:32:00.410124Z"
        },
        "id": "0i1OEvgnRxVu"
      },
      "outputs": [],
      "source": [
        "for i in range(1000):\n",
        "# for i in range(10):\n",
        "    plt.plot(numbers_of_rvs, sample_mean_series[:,i], color = 'blue',alpha =0.1)\n",
        "plt.ylim(0.45,0.55)\n",
        "plt.hlines(0.49, xmin = 1, xmax = numbers_of_rvs.max(),color = 'black')\n",
        "plt.hlines(0.51, xmin = 1, xmax = numbers_of_rvs.max(),color = 'black')"
      ]
    },
    {
      "cell_type": "markdown",
      "metadata": {
        "id": "c3lKl7MXRxVu"
      },
      "source": [
        "我们按照强大数定律的定义, 来考察这件事情.定义事件A: \n",
        "$$\\lim_{n \\to \\inf} |X_n-0.5| < \\epsilon$$\n",
        "不失一般性, 我们令$\\epsilon = 0.01$. 我们观察事件A发生的概率如何, 我们借助10000条均值序列来估计事件A的发生概率."
      ]
    },
    {
      "cell_type": "code",
      "execution_count": null,
      "metadata": {
        "execution": {
          "iopub.execute_input": "2022-02-13T12:44:10.470247Z",
          "iopub.status.busy": "2022-02-13T12:44:10.469692Z",
          "iopub.status.idle": "2022-02-13T12:44:17.354007Z",
          "shell.execute_reply": "2022-02-13T12:44:17.352268Z",
          "shell.execute_reply.started": "2022-02-13T12:44:10.470191Z"
        },
        "id": "Ze6z8wdJRxVv"
      },
      "outputs": [],
      "source": [
        "eps = 0.02\n",
        "mu = 0.5\n",
        "boolean_mat = (sample_mean_series-mu)<eps\n",
        "prob_est_strong = []\n",
        "for start_point in numbers_of_rvs[::100]:\n",
        "    prob_est_strong.append(boolean_mat[(start_point-1)::,].all(axis = 0).mean())\n",
        "prob_est_strong = np.array(prob_est_strong)"
      ]
    },
    {
      "cell_type": "code",
      "execution_count": null,
      "metadata": {
        "execution": {
          "iopub.execute_input": "2022-02-13T12:45:10.172249Z",
          "iopub.status.busy": "2022-02-13T12:45:10.171725Z",
          "iopub.status.idle": "2022-02-13T12:45:10.630933Z",
          "shell.execute_reply": "2022-02-13T12:45:10.629155Z",
          "shell.execute_reply.started": "2022-02-13T12:45:10.172190Z"
        },
        "id": "rxOrPYWIRxVv",
        "outputId": "dbc0565b-f1b4-4c4b-ab1f-7576a6eaebea"
      },
      "outputs": [
        {
          "data": {
            "text/plain": [
              "(0.98, 1.01)"
            ]
          },
          "execution_count": 197,
          "metadata": {},
          "output_type": "execute_result"
        },
        {
          "data": {
            "image/png": "[encoded data removed]",
            "text/plain": [
              "<Figure size 432x288 with 1 Axes>"
            ]
          },
          "metadata": {
            "needs_background": "light"
          },
          "output_type": "display_data"
        }
      ],
      "source": [
        "blue_index = np.where(np.array(prob_est_strong) == 1, True, False)\n",
        "plt.plot(numbers_of_rvs[::100][blue_index], prob_est_strong[blue_index], color = 'blue')\n",
        "plt.plot(numbers_of_rvs[::100][~blue_index], prob_est_strong[~blue_index], color = 'red')\n",
        "plt.ylim(0.98,1.01)\n",
        "# plt.hlines(y = 1, color = color_list, xmin = numbers_of_rvs[::100].min(), xmax = numbers_of_rvs[::100].max())"
      ]
    },
    {
      "cell_type": "markdown",
      "metadata": {
        "id": "dWUKPX-QRxVv"
      },
      "source": [
        "## 特殊分布"
      ]
    },
    {
      "cell_type": "markdown",
      "metadata": {
        "id": "gX81zH6FRxVv"
      },
      "source": [
        "先看10000条样本均值序列的收敛情况, 发现随机变量的值似乎经过某个点(样本量)之后, 序列没有完全进入到一个领域内, 会存在一些次数的跳出. 跳出的次数仍然可以是无限次, 只要跳出的概率是0即可. 那么, 序列跳出领域的概率是0吗?"
      ]
    },
    {
      "cell_type": "code",
      "execution_count": null,
      "metadata": {
        "id": "P16rz9D5RxVv"
      },
      "outputs": [],
      "source": [
        "for i in range(1000):\n",
        "# for i in range(10):\n",
        "    plt.plot(numbers_of_rvs, sample_mean_series[:,i], color = 'blue',alpha =0.2)\n",
        "# plt.ylim(0.45,0.55)\n",
        "# plt.hlines(0.49, xmin = 1, xmax = numbers_of_rvs.max(),color = 'black')\n",
        "# plt.hlines(0.51, xmin = 1, xmax = numbers_of_rvs.max(),color = 'black')"
      ]
    },
    {
      "cell_type": "markdown",
      "metadata": {
        "id": "qrJjPcUuRxVw"
      },
      "source": [
        "我们按照强大数定律的定义, 来考察这件事情.定义事件A: \n",
        "$$\\lim_{n \\to \\inf} |X_n-\\mu| < \\epsilon$$\n",
        "不失一般性, 我们令$\\epsilon = 0.01$. 我们观察事件A发生的概率如何, 我们借助10000条均值序列来估计事件A的发生概率."
      ]
    },
    {
      "cell_type": "code",
      "execution_count": null,
      "metadata": {
        "id": "Gj596fETRxVw"
      },
      "outputs": [],
      "source": [
        "eps = 0.01\n",
        "mu = np.pi/2\n",
        "boolean_mat = (sample_mean_series-mu)<eps\n",
        "prob_est_strong = []\n",
        "for start_point in numbers_of_rvs[::100]:\n",
        "    prob_est_strong.append(boolean_mat[(start_point-1)::,].all(axis = 0).mean())\n",
        "prob_est_strong = np.array(prob_est_strong)"
      ]
    },
    {
      "cell_type": "markdown",
      "metadata": {
        "execution": {
          "iopub.execute_input": "2022-02-13T13:30:11.594856Z",
          "iopub.status.busy": "2022-02-13T13:30:11.594342Z",
          "iopub.status.idle": "2022-02-13T13:30:11.609876Z",
          "shell.execute_reply": "2022-02-13T13:30:11.607807Z",
          "shell.execute_reply.started": "2022-02-13T13:30:11.594791Z"
        },
        "id": "uPMKT1CxRxVw"
      },
      "source": [
        "把$\\epsilon$调整为10, 图中看起来序列正在收敛, 但线条还是红色, 说明最终也不是概率1满足的(almost surely). 因此这个序列并不满足强大数定律. 理论上需要进行严格的证明, 画图只是进行示意."
      ]
    },
    {
      "cell_type": "code",
      "execution_count": null,
      "metadata": {
        "id": "3F2qd6TPRxVw"
      },
      "outputs": [],
      "source": [
        "blue_index = np.where(np.array(prob_est_strong) == 1, True, False)\n",
        "plt.plot(numbers_of_rvs[::100][blue_index], prob_est_strong[blue_index], color = 'blue')\n",
        "plt.plot(numbers_of_rvs[::100][~blue_index], prob_est_strong[~blue_index], color = 'red')\n",
        "# plt.ylim(0.98,1.01)\n",
        "# plt.hlines(y = 1, color = color_list, xmin = numbers_of_rvs[::100].min(), xmax = numbers_of_rvs[::100].max())"
      ]
    },
    {
      "cell_type": "markdown",
      "metadata": {
        "id": "_76Kn-qGRxVw"
      },
      "source": [
        "# compare different estimator\n",
        "https://stats.stackexchange.com/questions/321659/how-to-prove-that-one-mean-estimator-converges-faster-than-another"
      ]
    },
    {
      "cell_type": "code",
      "execution_count": null,
      "metadata": {
        "execution": {
          "iopub.execute_input": "2022-02-13T12:46:15.048807Z",
          "iopub.status.busy": "2022-02-13T12:46:15.048265Z",
          "iopub.status.idle": "2022-02-13T12:46:15.055626Z",
          "shell.execute_reply": "2022-02-13T12:46:15.054062Z",
          "shell.execute_reply.started": "2022-02-13T12:46:15.048738Z"
        },
        "id": "wEHggRGMRxVw"
      },
      "outputs": [],
      "source": [
        "def ext_est(x):\n",
        "    return (min(x) + max(x))/2"
      ]
    },
    {
      "cell_type": "code",
      "execution_count": null,
      "metadata": {
        "execution": {
          "iopub.execute_input": "2022-02-13T12:47:24.549675Z",
          "iopub.status.busy": "2022-02-13T12:47:24.549077Z",
          "iopub.status.idle": "2022-02-13T12:47:25.086602Z",
          "shell.execute_reply": "2022-02-13T12:47:25.083638Z",
          "shell.execute_reply.started": "2022-02-13T12:47:24.549616Z"
        },
        "id": "K0HdeeK3RxVw"
      },
      "outputs": [],
      "source": [
        "sample = stats.uniform.rvs(0,10,size = (1000,10000)) # 1000 sample, 10000 times simulation"
      ]
    },
    {
      "cell_type": "code",
      "execution_count": null,
      "metadata": {
        "execution": {
          "iopub.execute_input": "2022-02-13T12:48:23.586136Z",
          "iopub.status.busy": "2022-02-13T12:48:23.585626Z",
          "iopub.status.idle": "2022-02-13T12:48:33.111782Z",
          "shell.execute_reply": "2022-02-13T12:48:33.109994Z",
          "shell.execute_reply.started": "2022-02-13T12:48:23.586073Z"
        },
        "id": "0J4UDn9jRxVx",
        "outputId": "e74e4b20-737f-4716-cd7e-ac8cae5f779d"
      },
      "outputs": [
        {
          "data": {
            "text/plain": [
              "(4.999492377138951, 4.999018945564856, 5.000037545363909)"
            ]
          },
          "execution_count": 204,
          "metadata": {},
          "output_type": "execute_result"
        }
      ],
      "source": [
        "# unbiasness checked through 10000 simulations\n",
        "sample.mean(axis = 0).mean(),np.median(sample, axis = 0).mean(),np.apply_along_axis(ext_est, 0 ,sample).mean()"
      ]
    },
    {
      "cell_type": "code",
      "execution_count": null,
      "metadata": {
        "execution": {
          "iopub.execute_input": "2022-02-13T12:49:00.315474Z",
          "iopub.status.busy": "2022-02-13T12:49:00.314987Z",
          "iopub.status.idle": "2022-02-13T12:49:09.245984Z",
          "shell.execute_reply": "2022-02-13T12:49:09.244195Z",
          "shell.execute_reply.started": "2022-02-13T12:49:00.315418Z"
        },
        "id": "cp26pHFDRxVy",
        "outputId": "b595549a-00e7-4268-be6d-ea102b1527a8"
      },
      "outputs": [
        {
          "data": {
            "text/plain": [
              "(0.09092148594833036, 0.158060303673241, 0.007035495806961892)"
            ]
          },
          "execution_count": 205,
          "metadata": {},
          "output_type": "execute_result"
        }
      ],
      "source": [
        "# sd comparation through 10000 simulations\n",
        "sample.mean(axis = 0).std(),np.median(sample, axis = 0).std(),np.apply_along_axis(ext_est, 0 ,sample).std()"
      ]
    },
    {
      "cell_type": "code",
      "execution_count": null,
      "metadata": {
        "id": "6aRMOUGWRxVy"
      },
      "outputs": [],
      "source": [
        ""
      ]
    }
  ],
  "metadata": {
    "kernelspec": {
      "display_name": "Python [conda env:envpython36]",
      "language": "python",
      "name": "conda-env-envpython36-py"
    },
    "language_info": {
      "codemirror_mode": {
        "name": "ipython",
        "version": 3
      },
      "file_extension": ".py",
      "mimetype": "text/x-python",
      "name": "python",
      "nbconvert_exporter": "python",
      "pygments_lexer": "ipython3",
      "version": "3.6.12"
    },
    "toc-autonumbering": true,
    "colab": {
      "name": "LLN.ipynb",
      "provenance": [],
      "toc_visible": true
    }
  },
  "nbformat": 4,
  "nbformat_minor": 0
}